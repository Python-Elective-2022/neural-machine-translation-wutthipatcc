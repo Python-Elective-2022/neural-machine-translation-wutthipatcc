{
  "nbformat": 4,
  "nbformat_minor": 0,
  "metadata": {
    "colab": {
      "provenance": []
    },
    "kernelspec": {
      "name": "python3",
      "display_name": "Python 3"
    },
    "accelerator": "GPU",
    "widgets": {
      "application/vnd.jupyter.widget-state+json": {
        "af3752b737db41db9c465418b8658324": {
          "model_module": "@jupyter-widgets/controls",
          "model_name": "HBoxModel",
          "model_module_version": "1.5.0",
          "state": {
            "_dom_classes": [],
            "_model_module": "@jupyter-widgets/controls",
            "_model_module_version": "1.5.0",
            "_model_name": "HBoxModel",
            "_view_count": null,
            "_view_module": "@jupyter-widgets/controls",
            "_view_module_version": "1.5.0",
            "_view_name": "HBoxView",
            "box_style": "",
            "children": [
              "IPY_MODEL_44b5b0d5d6134499a8517abcc6997ffc",
              "IPY_MODEL_ee962d0b2ccd40d5bea243958412514f",
              "IPY_MODEL_bbab67f15079498c8a7ac6150232992b"
            ],
            "layout": "IPY_MODEL_b6e68655207d40beb6b063da82fa02d9"
          }
        },
        "44b5b0d5d6134499a8517abcc6997ffc": {
          "model_module": "@jupyter-widgets/controls",
          "model_name": "HTMLModel",
          "model_module_version": "1.5.0",
          "state": {
            "_dom_classes": [],
            "_model_module": "@jupyter-widgets/controls",
            "_model_module_version": "1.5.0",
            "_model_name": "HTMLModel",
            "_view_count": null,
            "_view_module": "@jupyter-widgets/controls",
            "_view_module_version": "1.5.0",
            "_view_name": "HTMLView",
            "description": "",
            "description_tooltip": null,
            "layout": "IPY_MODEL_5478e8c03c41435a9b0814aa5f4143e7",
            "placeholder": "​",
            "style": "IPY_MODEL_b4fc3da6e40d4851a23ee14fc0d4a998",
            "value": "Dl Completed...: 100%"
          }
        },
        "ee962d0b2ccd40d5bea243958412514f": {
          "model_module": "@jupyter-widgets/controls",
          "model_name": "FloatProgressModel",
          "model_module_version": "1.5.0",
          "state": {
            "_dom_classes": [],
            "_model_module": "@jupyter-widgets/controls",
            "_model_module_version": "1.5.0",
            "_model_name": "FloatProgressModel",
            "_view_count": null,
            "_view_module": "@jupyter-widgets/controls",
            "_view_module_version": "1.5.0",
            "_view_name": "ProgressView",
            "bar_style": "success",
            "description": "",
            "description_tooltip": null,
            "layout": "IPY_MODEL_c6b1f1b04a644a928121871b42a0c7d6",
            "max": 1,
            "min": 0,
            "orientation": "horizontal",
            "style": "IPY_MODEL_ea5b6bf3a1a045c6b5844ae7a9b34411",
            "value": 1
          }
        },
        "bbab67f15079498c8a7ac6150232992b": {
          "model_module": "@jupyter-widgets/controls",
          "model_name": "HTMLModel",
          "model_module_version": "1.5.0",
          "state": {
            "_dom_classes": [],
            "_model_module": "@jupyter-widgets/controls",
            "_model_module_version": "1.5.0",
            "_model_name": "HTMLModel",
            "_view_count": null,
            "_view_module": "@jupyter-widgets/controls",
            "_view_module_version": "1.5.0",
            "_view_name": "HTMLView",
            "description": "",
            "description_tooltip": null,
            "layout": "IPY_MODEL_ecb8cc1d2d0e42d2904b187b0df5dd7a",
            "placeholder": "​",
            "style": "IPY_MODEL_862da33a3941486391c318076a77efb9",
            "value": " 1/1 [00:16&lt;00:00, 13.19s/ url]"
          }
        },
        "b6e68655207d40beb6b063da82fa02d9": {
          "model_module": "@jupyter-widgets/base",
          "model_name": "LayoutModel",
          "model_module_version": "1.2.0",
          "state": {
            "_model_module": "@jupyter-widgets/base",
            "_model_module_version": "1.2.0",
            "_model_name": "LayoutModel",
            "_view_count": null,
            "_view_module": "@jupyter-widgets/base",
            "_view_module_version": "1.2.0",
            "_view_name": "LayoutView",
            "align_content": null,
            "align_items": null,
            "align_self": null,
            "border": null,
            "bottom": null,
            "display": null,
            "flex": null,
            "flex_flow": null,
            "grid_area": null,
            "grid_auto_columns": null,
            "grid_auto_flow": null,
            "grid_auto_rows": null,
            "grid_column": null,
            "grid_gap": null,
            "grid_row": null,
            "grid_template_areas": null,
            "grid_template_columns": null,
            "grid_template_rows": null,
            "height": null,
            "justify_content": null,
            "justify_items": null,
            "left": null,
            "margin": null,
            "max_height": null,
            "max_width": null,
            "min_height": null,
            "min_width": null,
            "object_fit": null,
            "object_position": null,
            "order": null,
            "overflow": null,
            "overflow_x": null,
            "overflow_y": null,
            "padding": null,
            "right": null,
            "top": null,
            "visibility": null,
            "width": null
          }
        },
        "5478e8c03c41435a9b0814aa5f4143e7": {
          "model_module": "@jupyter-widgets/base",
          "model_name": "LayoutModel",
          "model_module_version": "1.2.0",
          "state": {
            "_model_module": "@jupyter-widgets/base",
            "_model_module_version": "1.2.0",
            "_model_name": "LayoutModel",
            "_view_count": null,
            "_view_module": "@jupyter-widgets/base",
            "_view_module_version": "1.2.0",
            "_view_name": "LayoutView",
            "align_content": null,
            "align_items": null,
            "align_self": null,
            "border": null,
            "bottom": null,
            "display": null,
            "flex": null,
            "flex_flow": null,
            "grid_area": null,
            "grid_auto_columns": null,
            "grid_auto_flow": null,
            "grid_auto_rows": null,
            "grid_column": null,
            "grid_gap": null,
            "grid_row": null,
            "grid_template_areas": null,
            "grid_template_columns": null,
            "grid_template_rows": null,
            "height": null,
            "justify_content": null,
            "justify_items": null,
            "left": null,
            "margin": null,
            "max_height": null,
            "max_width": null,
            "min_height": null,
            "min_width": null,
            "object_fit": null,
            "object_position": null,
            "order": null,
            "overflow": null,
            "overflow_x": null,
            "overflow_y": null,
            "padding": null,
            "right": null,
            "top": null,
            "visibility": null,
            "width": null
          }
        },
        "b4fc3da6e40d4851a23ee14fc0d4a998": {
          "model_module": "@jupyter-widgets/controls",
          "model_name": "DescriptionStyleModel",
          "model_module_version": "1.5.0",
          "state": {
            "_model_module": "@jupyter-widgets/controls",
            "_model_module_version": "1.5.0",
            "_model_name": "DescriptionStyleModel",
            "_view_count": null,
            "_view_module": "@jupyter-widgets/base",
            "_view_module_version": "1.2.0",
            "_view_name": "StyleView",
            "description_width": ""
          }
        },
        "c6b1f1b04a644a928121871b42a0c7d6": {
          "model_module": "@jupyter-widgets/base",
          "model_name": "LayoutModel",
          "model_module_version": "1.2.0",
          "state": {
            "_model_module": "@jupyter-widgets/base",
            "_model_module_version": "1.2.0",
            "_model_name": "LayoutModel",
            "_view_count": null,
            "_view_module": "@jupyter-widgets/base",
            "_view_module_version": "1.2.0",
            "_view_name": "LayoutView",
            "align_content": null,
            "align_items": null,
            "align_self": null,
            "border": null,
            "bottom": null,
            "display": null,
            "flex": null,
            "flex_flow": null,
            "grid_area": null,
            "grid_auto_columns": null,
            "grid_auto_flow": null,
            "grid_auto_rows": null,
            "grid_column": null,
            "grid_gap": null,
            "grid_row": null,
            "grid_template_areas": null,
            "grid_template_columns": null,
            "grid_template_rows": null,
            "height": null,
            "justify_content": null,
            "justify_items": null,
            "left": null,
            "margin": null,
            "max_height": null,
            "max_width": null,
            "min_height": null,
            "min_width": null,
            "object_fit": null,
            "object_position": null,
            "order": null,
            "overflow": null,
            "overflow_x": null,
            "overflow_y": null,
            "padding": null,
            "right": null,
            "top": null,
            "visibility": null,
            "width": "20px"
          }
        },
        "ea5b6bf3a1a045c6b5844ae7a9b34411": {
          "model_module": "@jupyter-widgets/controls",
          "model_name": "ProgressStyleModel",
          "model_module_version": "1.5.0",
          "state": {
            "_model_module": "@jupyter-widgets/controls",
            "_model_module_version": "1.5.0",
            "_model_name": "ProgressStyleModel",
            "_view_count": null,
            "_view_module": "@jupyter-widgets/base",
            "_view_module_version": "1.2.0",
            "_view_name": "StyleView",
            "bar_color": null,
            "description_width": ""
          }
        },
        "ecb8cc1d2d0e42d2904b187b0df5dd7a": {
          "model_module": "@jupyter-widgets/base",
          "model_name": "LayoutModel",
          "model_module_version": "1.2.0",
          "state": {
            "_model_module": "@jupyter-widgets/base",
            "_model_module_version": "1.2.0",
            "_model_name": "LayoutModel",
            "_view_count": null,
            "_view_module": "@jupyter-widgets/base",
            "_view_module_version": "1.2.0",
            "_view_name": "LayoutView",
            "align_content": null,
            "align_items": null,
            "align_self": null,
            "border": null,
            "bottom": null,
            "display": null,
            "flex": null,
            "flex_flow": null,
            "grid_area": null,
            "grid_auto_columns": null,
            "grid_auto_flow": null,
            "grid_auto_rows": null,
            "grid_column": null,
            "grid_gap": null,
            "grid_row": null,
            "grid_template_areas": null,
            "grid_template_columns": null,
            "grid_template_rows": null,
            "height": null,
            "justify_content": null,
            "justify_items": null,
            "left": null,
            "margin": null,
            "max_height": null,
            "max_width": null,
            "min_height": null,
            "min_width": null,
            "object_fit": null,
            "object_position": null,
            "order": null,
            "overflow": null,
            "overflow_x": null,
            "overflow_y": null,
            "padding": null,
            "right": null,
            "top": null,
            "visibility": null,
            "width": null
          }
        },
        "862da33a3941486391c318076a77efb9": {
          "model_module": "@jupyter-widgets/controls",
          "model_name": "DescriptionStyleModel",
          "model_module_version": "1.5.0",
          "state": {
            "_model_module": "@jupyter-widgets/controls",
            "_model_module_version": "1.5.0",
            "_model_name": "DescriptionStyleModel",
            "_view_count": null,
            "_view_module": "@jupyter-widgets/base",
            "_view_module_version": "1.2.0",
            "_view_name": "StyleView",
            "description_width": ""
          }
        },
        "8a3f6b3ee80c4323a5e4fd9f08daf97b": {
          "model_module": "@jupyter-widgets/controls",
          "model_name": "HBoxModel",
          "model_module_version": "1.5.0",
          "state": {
            "_dom_classes": [],
            "_model_module": "@jupyter-widgets/controls",
            "_model_module_version": "1.5.0",
            "_model_name": "HBoxModel",
            "_view_count": null,
            "_view_module": "@jupyter-widgets/controls",
            "_view_module_version": "1.5.0",
            "_view_name": "HBoxView",
            "box_style": "",
            "children": [
              "IPY_MODEL_c9ad09ee85ac4878b37e26f2c3dad53a",
              "IPY_MODEL_cc096b42c64c43989cff590fb47346df",
              "IPY_MODEL_f91f2f8a332344bf8344e713c14cacde"
            ],
            "layout": "IPY_MODEL_fa37d7b3b51d4a5f908bd8b7028f8815"
          }
        },
        "c9ad09ee85ac4878b37e26f2c3dad53a": {
          "model_module": "@jupyter-widgets/controls",
          "model_name": "HTMLModel",
          "model_module_version": "1.5.0",
          "state": {
            "_dom_classes": [],
            "_model_module": "@jupyter-widgets/controls",
            "_model_module_version": "1.5.0",
            "_model_name": "HTMLModel",
            "_view_count": null,
            "_view_module": "@jupyter-widgets/controls",
            "_view_module_version": "1.5.0",
            "_view_name": "HTMLView",
            "description": "",
            "description_tooltip": null,
            "layout": "IPY_MODEL_b4a042d9815a4552854491feaea58488",
            "placeholder": "​",
            "style": "IPY_MODEL_a24bbef3a45b4919a60ef0cae0bb203a",
            "value": "Dl Size...: 100%"
          }
        },
        "cc096b42c64c43989cff590fb47346df": {
          "model_module": "@jupyter-widgets/controls",
          "model_name": "FloatProgressModel",
          "model_module_version": "1.5.0",
          "state": {
            "_dom_classes": [],
            "_model_module": "@jupyter-widgets/controls",
            "_model_module_version": "1.5.0",
            "_model_name": "FloatProgressModel",
            "_view_count": null,
            "_view_module": "@jupyter-widgets/controls",
            "_view_module_version": "1.5.0",
            "_view_name": "ProgressView",
            "bar_style": "success",
            "description": "",
            "description_tooltip": null,
            "layout": "IPY_MODEL_c2590c6fbeaa4e74a9c79741f936996b",
            "max": 1,
            "min": 0,
            "orientation": "horizontal",
            "style": "IPY_MODEL_e8f4b8f32eb64e0b9a50efd9b10107e2",
            "value": 1
          }
        },
        "f91f2f8a332344bf8344e713c14cacde": {
          "model_module": "@jupyter-widgets/controls",
          "model_name": "HTMLModel",
          "model_module_version": "1.5.0",
          "state": {
            "_dom_classes": [],
            "_model_module": "@jupyter-widgets/controls",
            "_model_module_version": "1.5.0",
            "_model_name": "HTMLModel",
            "_view_count": null,
            "_view_module": "@jupyter-widgets/controls",
            "_view_module_version": "1.5.0",
            "_view_name": "HTMLView",
            "description": "",
            "description_tooltip": null,
            "layout": "IPY_MODEL_b4afed51cc6949d28acab2a3190958a7",
            "placeholder": "​",
            "style": "IPY_MODEL_767d511f67bb497c88a025aa168fd488",
            "value": " 124/124 [00:16&lt;00:00, 12.12 MiB/s]"
          }
        },
        "fa37d7b3b51d4a5f908bd8b7028f8815": {
          "model_module": "@jupyter-widgets/base",
          "model_name": "LayoutModel",
          "model_module_version": "1.2.0",
          "state": {
            "_model_module": "@jupyter-widgets/base",
            "_model_module_version": "1.2.0",
            "_model_name": "LayoutModel",
            "_view_count": null,
            "_view_module": "@jupyter-widgets/base",
            "_view_module_version": "1.2.0",
            "_view_name": "LayoutView",
            "align_content": null,
            "align_items": null,
            "align_self": null,
            "border": null,
            "bottom": null,
            "display": null,
            "flex": null,
            "flex_flow": null,
            "grid_area": null,
            "grid_auto_columns": null,
            "grid_auto_flow": null,
            "grid_auto_rows": null,
            "grid_column": null,
            "grid_gap": null,
            "grid_row": null,
            "grid_template_areas": null,
            "grid_template_columns": null,
            "grid_template_rows": null,
            "height": null,
            "justify_content": null,
            "justify_items": null,
            "left": null,
            "margin": null,
            "max_height": null,
            "max_width": null,
            "min_height": null,
            "min_width": null,
            "object_fit": null,
            "object_position": null,
            "order": null,
            "overflow": null,
            "overflow_x": null,
            "overflow_y": null,
            "padding": null,
            "right": null,
            "top": null,
            "visibility": null,
            "width": null
          }
        },
        "b4a042d9815a4552854491feaea58488": {
          "model_module": "@jupyter-widgets/base",
          "model_name": "LayoutModel",
          "model_module_version": "1.2.0",
          "state": {
            "_model_module": "@jupyter-widgets/base",
            "_model_module_version": "1.2.0",
            "_model_name": "LayoutModel",
            "_view_count": null,
            "_view_module": "@jupyter-widgets/base",
            "_view_module_version": "1.2.0",
            "_view_name": "LayoutView",
            "align_content": null,
            "align_items": null,
            "align_self": null,
            "border": null,
            "bottom": null,
            "display": null,
            "flex": null,
            "flex_flow": null,
            "grid_area": null,
            "grid_auto_columns": null,
            "grid_auto_flow": null,
            "grid_auto_rows": null,
            "grid_column": null,
            "grid_gap": null,
            "grid_row": null,
            "grid_template_areas": null,
            "grid_template_columns": null,
            "grid_template_rows": null,
            "height": null,
            "justify_content": null,
            "justify_items": null,
            "left": null,
            "margin": null,
            "max_height": null,
            "max_width": null,
            "min_height": null,
            "min_width": null,
            "object_fit": null,
            "object_position": null,
            "order": null,
            "overflow": null,
            "overflow_x": null,
            "overflow_y": null,
            "padding": null,
            "right": null,
            "top": null,
            "visibility": null,
            "width": null
          }
        },
        "a24bbef3a45b4919a60ef0cae0bb203a": {
          "model_module": "@jupyter-widgets/controls",
          "model_name": "DescriptionStyleModel",
          "model_module_version": "1.5.0",
          "state": {
            "_model_module": "@jupyter-widgets/controls",
            "_model_module_version": "1.5.0",
            "_model_name": "DescriptionStyleModel",
            "_view_count": null,
            "_view_module": "@jupyter-widgets/base",
            "_view_module_version": "1.2.0",
            "_view_name": "StyleView",
            "description_width": ""
          }
        },
        "c2590c6fbeaa4e74a9c79741f936996b": {
          "model_module": "@jupyter-widgets/base",
          "model_name": "LayoutModel",
          "model_module_version": "1.2.0",
          "state": {
            "_model_module": "@jupyter-widgets/base",
            "_model_module_version": "1.2.0",
            "_model_name": "LayoutModel",
            "_view_count": null,
            "_view_module": "@jupyter-widgets/base",
            "_view_module_version": "1.2.0",
            "_view_name": "LayoutView",
            "align_content": null,
            "align_items": null,
            "align_self": null,
            "border": null,
            "bottom": null,
            "display": null,
            "flex": null,
            "flex_flow": null,
            "grid_area": null,
            "grid_auto_columns": null,
            "grid_auto_flow": null,
            "grid_auto_rows": null,
            "grid_column": null,
            "grid_gap": null,
            "grid_row": null,
            "grid_template_areas": null,
            "grid_template_columns": null,
            "grid_template_rows": null,
            "height": null,
            "justify_content": null,
            "justify_items": null,
            "left": null,
            "margin": null,
            "max_height": null,
            "max_width": null,
            "min_height": null,
            "min_width": null,
            "object_fit": null,
            "object_position": null,
            "order": null,
            "overflow": null,
            "overflow_x": null,
            "overflow_y": null,
            "padding": null,
            "right": null,
            "top": null,
            "visibility": null,
            "width": "20px"
          }
        },
        "e8f4b8f32eb64e0b9a50efd9b10107e2": {
          "model_module": "@jupyter-widgets/controls",
          "model_name": "ProgressStyleModel",
          "model_module_version": "1.5.0",
          "state": {
            "_model_module": "@jupyter-widgets/controls",
            "_model_module_version": "1.5.0",
            "_model_name": "ProgressStyleModel",
            "_view_count": null,
            "_view_module": "@jupyter-widgets/base",
            "_view_module_version": "1.2.0",
            "_view_name": "StyleView",
            "bar_color": null,
            "description_width": ""
          }
        },
        "b4afed51cc6949d28acab2a3190958a7": {
          "model_module": "@jupyter-widgets/base",
          "model_name": "LayoutModel",
          "model_module_version": "1.2.0",
          "state": {
            "_model_module": "@jupyter-widgets/base",
            "_model_module_version": "1.2.0",
            "_model_name": "LayoutModel",
            "_view_count": null,
            "_view_module": "@jupyter-widgets/base",
            "_view_module_version": "1.2.0",
            "_view_name": "LayoutView",
            "align_content": null,
            "align_items": null,
            "align_self": null,
            "border": null,
            "bottom": null,
            "display": null,
            "flex": null,
            "flex_flow": null,
            "grid_area": null,
            "grid_auto_columns": null,
            "grid_auto_flow": null,
            "grid_auto_rows": null,
            "grid_column": null,
            "grid_gap": null,
            "grid_row": null,
            "grid_template_areas": null,
            "grid_template_columns": null,
            "grid_template_rows": null,
            "height": null,
            "justify_content": null,
            "justify_items": null,
            "left": null,
            "margin": null,
            "max_height": null,
            "max_width": null,
            "min_height": null,
            "min_width": null,
            "object_fit": null,
            "object_position": null,
            "order": null,
            "overflow": null,
            "overflow_x": null,
            "overflow_y": null,
            "padding": null,
            "right": null,
            "top": null,
            "visibility": null,
            "width": null
          }
        },
        "767d511f67bb497c88a025aa168fd488": {
          "model_module": "@jupyter-widgets/controls",
          "model_name": "DescriptionStyleModel",
          "model_module_version": "1.5.0",
          "state": {
            "_model_module": "@jupyter-widgets/controls",
            "_model_module_version": "1.5.0",
            "_model_name": "DescriptionStyleModel",
            "_view_count": null,
            "_view_module": "@jupyter-widgets/base",
            "_view_module_version": "1.2.0",
            "_view_name": "StyleView",
            "description_width": ""
          }
        },
        "304d16b8d9ae4da4b11ebd9c1fdfadbd": {
          "model_module": "@jupyter-widgets/controls",
          "model_name": "HBoxModel",
          "model_module_version": "1.5.0",
          "state": {
            "_dom_classes": [],
            "_model_module": "@jupyter-widgets/controls",
            "_model_module_version": "1.5.0",
            "_model_name": "HBoxModel",
            "_view_count": null,
            "_view_module": "@jupyter-widgets/controls",
            "_view_module_version": "1.5.0",
            "_view_name": "HBoxView",
            "box_style": "",
            "children": [
              "IPY_MODEL_dfeb78bfaf2a48d68798a40dc436fdfe",
              "IPY_MODEL_cfaf195ab8bf48c280e0d9943ddb3569",
              "IPY_MODEL_d47d1c2940c44c04b32d0acdfd15bf72"
            ],
            "layout": "IPY_MODEL_82e335b8036b4637952e859162113eba"
          }
        },
        "dfeb78bfaf2a48d68798a40dc436fdfe": {
          "model_module": "@jupyter-widgets/controls",
          "model_name": "HTMLModel",
          "model_module_version": "1.5.0",
          "state": {
            "_dom_classes": [],
            "_model_module": "@jupyter-widgets/controls",
            "_model_module_version": "1.5.0",
            "_model_name": "HTMLModel",
            "_view_count": null,
            "_view_module": "@jupyter-widgets/controls",
            "_view_module_version": "1.5.0",
            "_view_name": "HTMLView",
            "description": "",
            "description_tooltip": null,
            "layout": "IPY_MODEL_7c430b696e0e4a31a4df6237bbf8a6bb",
            "placeholder": "​",
            "style": "IPY_MODEL_711ba01244af479292e819c26241a5e7",
            "value": "Extraction completed...: 100%"
          }
        },
        "cfaf195ab8bf48c280e0d9943ddb3569": {
          "model_module": "@jupyter-widgets/controls",
          "model_name": "FloatProgressModel",
          "model_module_version": "1.5.0",
          "state": {
            "_dom_classes": [],
            "_model_module": "@jupyter-widgets/controls",
            "_model_module_version": "1.5.0",
            "_model_name": "FloatProgressModel",
            "_view_count": null,
            "_view_module": "@jupyter-widgets/controls",
            "_view_module_version": "1.5.0",
            "_view_name": "ProgressView",
            "bar_style": "success",
            "description": "",
            "description_tooltip": null,
            "layout": "IPY_MODEL_092397ed49bc49d2ad1c3cd67b23832f",
            "max": 1,
            "min": 0,
            "orientation": "horizontal",
            "style": "IPY_MODEL_8eed0a9959194169a6bde90ab9a144df",
            "value": 1
          }
        },
        "d47d1c2940c44c04b32d0acdfd15bf72": {
          "model_module": "@jupyter-widgets/controls",
          "model_name": "HTMLModel",
          "model_module_version": "1.5.0",
          "state": {
            "_dom_classes": [],
            "_model_module": "@jupyter-widgets/controls",
            "_model_module_version": "1.5.0",
            "_model_name": "HTMLModel",
            "_view_count": null,
            "_view_module": "@jupyter-widgets/controls",
            "_view_module_version": "1.5.0",
            "_view_name": "HTMLView",
            "description": "",
            "description_tooltip": null,
            "layout": "IPY_MODEL_5452bd8dd06e47fc89d4c575ee45ff28",
            "placeholder": "​",
            "style": "IPY_MODEL_3dc92c546ba9491f80c2fcfd50315d8c",
            "value": " 112/112 [00:16&lt;00:00, 10.19 file/s]"
          }
        },
        "82e335b8036b4637952e859162113eba": {
          "model_module": "@jupyter-widgets/base",
          "model_name": "LayoutModel",
          "model_module_version": "1.2.0",
          "state": {
            "_model_module": "@jupyter-widgets/base",
            "_model_module_version": "1.2.0",
            "_model_name": "LayoutModel",
            "_view_count": null,
            "_view_module": "@jupyter-widgets/base",
            "_view_module_version": "1.2.0",
            "_view_name": "LayoutView",
            "align_content": null,
            "align_items": null,
            "align_self": null,
            "border": null,
            "bottom": null,
            "display": null,
            "flex": null,
            "flex_flow": null,
            "grid_area": null,
            "grid_auto_columns": null,
            "grid_auto_flow": null,
            "grid_auto_rows": null,
            "grid_column": null,
            "grid_gap": null,
            "grid_row": null,
            "grid_template_areas": null,
            "grid_template_columns": null,
            "grid_template_rows": null,
            "height": null,
            "justify_content": null,
            "justify_items": null,
            "left": null,
            "margin": null,
            "max_height": null,
            "max_width": null,
            "min_height": null,
            "min_width": null,
            "object_fit": null,
            "object_position": null,
            "order": null,
            "overflow": null,
            "overflow_x": null,
            "overflow_y": null,
            "padding": null,
            "right": null,
            "top": null,
            "visibility": null,
            "width": null
          }
        },
        "7c430b696e0e4a31a4df6237bbf8a6bb": {
          "model_module": "@jupyter-widgets/base",
          "model_name": "LayoutModel",
          "model_module_version": "1.2.0",
          "state": {
            "_model_module": "@jupyter-widgets/base",
            "_model_module_version": "1.2.0",
            "_model_name": "LayoutModel",
            "_view_count": null,
            "_view_module": "@jupyter-widgets/base",
            "_view_module_version": "1.2.0",
            "_view_name": "LayoutView",
            "align_content": null,
            "align_items": null,
            "align_self": null,
            "border": null,
            "bottom": null,
            "display": null,
            "flex": null,
            "flex_flow": null,
            "grid_area": null,
            "grid_auto_columns": null,
            "grid_auto_flow": null,
            "grid_auto_rows": null,
            "grid_column": null,
            "grid_gap": null,
            "grid_row": null,
            "grid_template_areas": null,
            "grid_template_columns": null,
            "grid_template_rows": null,
            "height": null,
            "justify_content": null,
            "justify_items": null,
            "left": null,
            "margin": null,
            "max_height": null,
            "max_width": null,
            "min_height": null,
            "min_width": null,
            "object_fit": null,
            "object_position": null,
            "order": null,
            "overflow": null,
            "overflow_x": null,
            "overflow_y": null,
            "padding": null,
            "right": null,
            "top": null,
            "visibility": null,
            "width": null
          }
        },
        "711ba01244af479292e819c26241a5e7": {
          "model_module": "@jupyter-widgets/controls",
          "model_name": "DescriptionStyleModel",
          "model_module_version": "1.5.0",
          "state": {
            "_model_module": "@jupyter-widgets/controls",
            "_model_module_version": "1.5.0",
            "_model_name": "DescriptionStyleModel",
            "_view_count": null,
            "_view_module": "@jupyter-widgets/base",
            "_view_module_version": "1.2.0",
            "_view_name": "StyleView",
            "description_width": ""
          }
        },
        "092397ed49bc49d2ad1c3cd67b23832f": {
          "model_module": "@jupyter-widgets/base",
          "model_name": "LayoutModel",
          "model_module_version": "1.2.0",
          "state": {
            "_model_module": "@jupyter-widgets/base",
            "_model_module_version": "1.2.0",
            "_model_name": "LayoutModel",
            "_view_count": null,
            "_view_module": "@jupyter-widgets/base",
            "_view_module_version": "1.2.0",
            "_view_name": "LayoutView",
            "align_content": null,
            "align_items": null,
            "align_self": null,
            "border": null,
            "bottom": null,
            "display": null,
            "flex": null,
            "flex_flow": null,
            "grid_area": null,
            "grid_auto_columns": null,
            "grid_auto_flow": null,
            "grid_auto_rows": null,
            "grid_column": null,
            "grid_gap": null,
            "grid_row": null,
            "grid_template_areas": null,
            "grid_template_columns": null,
            "grid_template_rows": null,
            "height": null,
            "justify_content": null,
            "justify_items": null,
            "left": null,
            "margin": null,
            "max_height": null,
            "max_width": null,
            "min_height": null,
            "min_width": null,
            "object_fit": null,
            "object_position": null,
            "order": null,
            "overflow": null,
            "overflow_x": null,
            "overflow_y": null,
            "padding": null,
            "right": null,
            "top": null,
            "visibility": null,
            "width": "20px"
          }
        },
        "8eed0a9959194169a6bde90ab9a144df": {
          "model_module": "@jupyter-widgets/controls",
          "model_name": "ProgressStyleModel",
          "model_module_version": "1.5.0",
          "state": {
            "_model_module": "@jupyter-widgets/controls",
            "_model_module_version": "1.5.0",
            "_model_name": "ProgressStyleModel",
            "_view_count": null,
            "_view_module": "@jupyter-widgets/base",
            "_view_module_version": "1.2.0",
            "_view_name": "StyleView",
            "bar_color": null,
            "description_width": ""
          }
        },
        "5452bd8dd06e47fc89d4c575ee45ff28": {
          "model_module": "@jupyter-widgets/base",
          "model_name": "LayoutModel",
          "model_module_version": "1.2.0",
          "state": {
            "_model_module": "@jupyter-widgets/base",
            "_model_module_version": "1.2.0",
            "_model_name": "LayoutModel",
            "_view_count": null,
            "_view_module": "@jupyter-widgets/base",
            "_view_module_version": "1.2.0",
            "_view_name": "LayoutView",
            "align_content": null,
            "align_items": null,
            "align_self": null,
            "border": null,
            "bottom": null,
            "display": null,
            "flex": null,
            "flex_flow": null,
            "grid_area": null,
            "grid_auto_columns": null,
            "grid_auto_flow": null,
            "grid_auto_rows": null,
            "grid_column": null,
            "grid_gap": null,
            "grid_row": null,
            "grid_template_areas": null,
            "grid_template_columns": null,
            "grid_template_rows": null,
            "height": null,
            "justify_content": null,
            "justify_items": null,
            "left": null,
            "margin": null,
            "max_height": null,
            "max_width": null,
            "min_height": null,
            "min_width": null,
            "object_fit": null,
            "object_position": null,
            "order": null,
            "overflow": null,
            "overflow_x": null,
            "overflow_y": null,
            "padding": null,
            "right": null,
            "top": null,
            "visibility": null,
            "width": null
          }
        },
        "3dc92c546ba9491f80c2fcfd50315d8c": {
          "model_module": "@jupyter-widgets/controls",
          "model_name": "DescriptionStyleModel",
          "model_module_version": "1.5.0",
          "state": {
            "_model_module": "@jupyter-widgets/controls",
            "_model_module_version": "1.5.0",
            "_model_name": "DescriptionStyleModel",
            "_view_count": null,
            "_view_module": "@jupyter-widgets/base",
            "_view_module_version": "1.2.0",
            "_view_name": "StyleView",
            "description_width": ""
          }
        },
        "f0266c88360d4566840e5d785626a1dd": {
          "model_module": "@jupyter-widgets/controls",
          "model_name": "HBoxModel",
          "model_module_version": "1.5.0",
          "state": {
            "_dom_classes": [],
            "_model_module": "@jupyter-widgets/controls",
            "_model_module_version": "1.5.0",
            "_model_name": "HBoxModel",
            "_view_count": null,
            "_view_module": "@jupyter-widgets/controls",
            "_view_module_version": "1.5.0",
            "_view_name": "HBoxView",
            "box_style": "",
            "children": [
              "IPY_MODEL_e6ad68f3d46d4e08844c6a9723b16d5d",
              "IPY_MODEL_36242e50c08b4c9a8e857ab7fca36482",
              "IPY_MODEL_292a217829d34a969757f5af7d182f09"
            ],
            "layout": "IPY_MODEL_cb1d5f53b36b480e913cdfe4afd9989f"
          }
        },
        "e6ad68f3d46d4e08844c6a9723b16d5d": {
          "model_module": "@jupyter-widgets/controls",
          "model_name": "HTMLModel",
          "model_module_version": "1.5.0",
          "state": {
            "_dom_classes": [],
            "_model_module": "@jupyter-widgets/controls",
            "_model_module_version": "1.5.0",
            "_model_name": "HTMLModel",
            "_view_count": null,
            "_view_module": "@jupyter-widgets/controls",
            "_view_module_version": "1.5.0",
            "_view_name": "HTMLView",
            "description": "",
            "description_tooltip": null,
            "layout": "IPY_MODEL_9b0a7f96f7d64189a8d4f08ac695c348",
            "placeholder": "​",
            "style": "IPY_MODEL_ab1e71ab40cd4ed18586da9fda903abc",
            "value": "Generating splits...: 100%"
          }
        },
        "36242e50c08b4c9a8e857ab7fca36482": {
          "model_module": "@jupyter-widgets/controls",
          "model_name": "FloatProgressModel",
          "model_module_version": "1.5.0",
          "state": {
            "_dom_classes": [],
            "_model_module": "@jupyter-widgets/controls",
            "_model_module_version": "1.5.0",
            "_model_name": "FloatProgressModel",
            "_view_count": null,
            "_view_module": "@jupyter-widgets/controls",
            "_view_module_version": "1.5.0",
            "_view_name": "ProgressView",
            "bar_style": "",
            "description": "",
            "description_tooltip": null,
            "layout": "IPY_MODEL_e9703bcffc6a4b4f86c1781162914bbd",
            "max": 3,
            "min": 0,
            "orientation": "horizontal",
            "style": "IPY_MODEL_277b93382cfc45ceaf1215b8ab9bf93a",
            "value": 3
          }
        },
        "292a217829d34a969757f5af7d182f09": {
          "model_module": "@jupyter-widgets/controls",
          "model_name": "HTMLModel",
          "model_module_version": "1.5.0",
          "state": {
            "_dom_classes": [],
            "_model_module": "@jupyter-widgets/controls",
            "_model_module_version": "1.5.0",
            "_model_name": "HTMLModel",
            "_view_count": null,
            "_view_module": "@jupyter-widgets/controls",
            "_view_module_version": "1.5.0",
            "_view_name": "HTMLView",
            "description": "",
            "description_tooltip": null,
            "layout": "IPY_MODEL_19ec1966a6a64d86a83574c1a4f1b8b5",
            "placeholder": "​",
            "style": "IPY_MODEL_d76e83ad5da6492fa5ff924768c04673",
            "value": " 3/3 [00:05&lt;00:00,  1.25s/ splits]"
          }
        },
        "cb1d5f53b36b480e913cdfe4afd9989f": {
          "model_module": "@jupyter-widgets/base",
          "model_name": "LayoutModel",
          "model_module_version": "1.2.0",
          "state": {
            "_model_module": "@jupyter-widgets/base",
            "_model_module_version": "1.2.0",
            "_model_name": "LayoutModel",
            "_view_count": null,
            "_view_module": "@jupyter-widgets/base",
            "_view_module_version": "1.2.0",
            "_view_name": "LayoutView",
            "align_content": null,
            "align_items": null,
            "align_self": null,
            "border": null,
            "bottom": null,
            "display": null,
            "flex": null,
            "flex_flow": null,
            "grid_area": null,
            "grid_auto_columns": null,
            "grid_auto_flow": null,
            "grid_auto_rows": null,
            "grid_column": null,
            "grid_gap": null,
            "grid_row": null,
            "grid_template_areas": null,
            "grid_template_columns": null,
            "grid_template_rows": null,
            "height": null,
            "justify_content": null,
            "justify_items": null,
            "left": null,
            "margin": null,
            "max_height": null,
            "max_width": null,
            "min_height": null,
            "min_width": null,
            "object_fit": null,
            "object_position": null,
            "order": null,
            "overflow": null,
            "overflow_x": null,
            "overflow_y": null,
            "padding": null,
            "right": null,
            "top": null,
            "visibility": "hidden",
            "width": null
          }
        },
        "9b0a7f96f7d64189a8d4f08ac695c348": {
          "model_module": "@jupyter-widgets/base",
          "model_name": "LayoutModel",
          "model_module_version": "1.2.0",
          "state": {
            "_model_module": "@jupyter-widgets/base",
            "_model_module_version": "1.2.0",
            "_model_name": "LayoutModel",
            "_view_count": null,
            "_view_module": "@jupyter-widgets/base",
            "_view_module_version": "1.2.0",
            "_view_name": "LayoutView",
            "align_content": null,
            "align_items": null,
            "align_self": null,
            "border": null,
            "bottom": null,
            "display": null,
            "flex": null,
            "flex_flow": null,
            "grid_area": null,
            "grid_auto_columns": null,
            "grid_auto_flow": null,
            "grid_auto_rows": null,
            "grid_column": null,
            "grid_gap": null,
            "grid_row": null,
            "grid_template_areas": null,
            "grid_template_columns": null,
            "grid_template_rows": null,
            "height": null,
            "justify_content": null,
            "justify_items": null,
            "left": null,
            "margin": null,
            "max_height": null,
            "max_width": null,
            "min_height": null,
            "min_width": null,
            "object_fit": null,
            "object_position": null,
            "order": null,
            "overflow": null,
            "overflow_x": null,
            "overflow_y": null,
            "padding": null,
            "right": null,
            "top": null,
            "visibility": null,
            "width": null
          }
        },
        "ab1e71ab40cd4ed18586da9fda903abc": {
          "model_module": "@jupyter-widgets/controls",
          "model_name": "DescriptionStyleModel",
          "model_module_version": "1.5.0",
          "state": {
            "_model_module": "@jupyter-widgets/controls",
            "_model_module_version": "1.5.0",
            "_model_name": "DescriptionStyleModel",
            "_view_count": null,
            "_view_module": "@jupyter-widgets/base",
            "_view_module_version": "1.2.0",
            "_view_name": "StyleView",
            "description_width": ""
          }
        },
        "e9703bcffc6a4b4f86c1781162914bbd": {
          "model_module": "@jupyter-widgets/base",
          "model_name": "LayoutModel",
          "model_module_version": "1.2.0",
          "state": {
            "_model_module": "@jupyter-widgets/base",
            "_model_module_version": "1.2.0",
            "_model_name": "LayoutModel",
            "_view_count": null,
            "_view_module": "@jupyter-widgets/base",
            "_view_module_version": "1.2.0",
            "_view_name": "LayoutView",
            "align_content": null,
            "align_items": null,
            "align_self": null,
            "border": null,
            "bottom": null,
            "display": null,
            "flex": null,
            "flex_flow": null,
            "grid_area": null,
            "grid_auto_columns": null,
            "grid_auto_flow": null,
            "grid_auto_rows": null,
            "grid_column": null,
            "grid_gap": null,
            "grid_row": null,
            "grid_template_areas": null,
            "grid_template_columns": null,
            "grid_template_rows": null,
            "height": null,
            "justify_content": null,
            "justify_items": null,
            "left": null,
            "margin": null,
            "max_height": null,
            "max_width": null,
            "min_height": null,
            "min_width": null,
            "object_fit": null,
            "object_position": null,
            "order": null,
            "overflow": null,
            "overflow_x": null,
            "overflow_y": null,
            "padding": null,
            "right": null,
            "top": null,
            "visibility": null,
            "width": null
          }
        },
        "277b93382cfc45ceaf1215b8ab9bf93a": {
          "model_module": "@jupyter-widgets/controls",
          "model_name": "ProgressStyleModel",
          "model_module_version": "1.5.0",
          "state": {
            "_model_module": "@jupyter-widgets/controls",
            "_model_module_version": "1.5.0",
            "_model_name": "ProgressStyleModel",
            "_view_count": null,
            "_view_module": "@jupyter-widgets/base",
            "_view_module_version": "1.2.0",
            "_view_name": "StyleView",
            "bar_color": null,
            "description_width": ""
          }
        },
        "19ec1966a6a64d86a83574c1a4f1b8b5": {
          "model_module": "@jupyter-widgets/base",
          "model_name": "LayoutModel",
          "model_module_version": "1.2.0",
          "state": {
            "_model_module": "@jupyter-widgets/base",
            "_model_module_version": "1.2.0",
            "_model_name": "LayoutModel",
            "_view_count": null,
            "_view_module": "@jupyter-widgets/base",
            "_view_module_version": "1.2.0",
            "_view_name": "LayoutView",
            "align_content": null,
            "align_items": null,
            "align_self": null,
            "border": null,
            "bottom": null,
            "display": null,
            "flex": null,
            "flex_flow": null,
            "grid_area": null,
            "grid_auto_columns": null,
            "grid_auto_flow": null,
            "grid_auto_rows": null,
            "grid_column": null,
            "grid_gap": null,
            "grid_row": null,
            "grid_template_areas": null,
            "grid_template_columns": null,
            "grid_template_rows": null,
            "height": null,
            "justify_content": null,
            "justify_items": null,
            "left": null,
            "margin": null,
            "max_height": null,
            "max_width": null,
            "min_height": null,
            "min_width": null,
            "object_fit": null,
            "object_position": null,
            "order": null,
            "overflow": null,
            "overflow_x": null,
            "overflow_y": null,
            "padding": null,
            "right": null,
            "top": null,
            "visibility": null,
            "width": null
          }
        },
        "d76e83ad5da6492fa5ff924768c04673": {
          "model_module": "@jupyter-widgets/controls",
          "model_name": "DescriptionStyleModel",
          "model_module_version": "1.5.0",
          "state": {
            "_model_module": "@jupyter-widgets/controls",
            "_model_module_version": "1.5.0",
            "_model_name": "DescriptionStyleModel",
            "_view_count": null,
            "_view_module": "@jupyter-widgets/base",
            "_view_module_version": "1.2.0",
            "_view_name": "StyleView",
            "description_width": ""
          }
        },
        "17495f256b33494d841877841b41bec0": {
          "model_module": "@jupyter-widgets/controls",
          "model_name": "HBoxModel",
          "model_module_version": "1.5.0",
          "state": {
            "_dom_classes": [],
            "_model_module": "@jupyter-widgets/controls",
            "_model_module_version": "1.5.0",
            "_model_name": "HBoxModel",
            "_view_count": null,
            "_view_module": "@jupyter-widgets/controls",
            "_view_module_version": "1.5.0",
            "_view_name": "HBoxView",
            "box_style": "",
            "children": [
              "IPY_MODEL_4b6b6537efcd43c08dab66a205b5c47f",
              "IPY_MODEL_049b12509f6345e687125ceba5ef312c",
              "IPY_MODEL_78d77d945ebb423681f526edbb3c453f"
            ],
            "layout": "IPY_MODEL_7fb75839ed5e47fe834ba2d5da3baad1"
          }
        },
        "4b6b6537efcd43c08dab66a205b5c47f": {
          "model_module": "@jupyter-widgets/controls",
          "model_name": "HTMLModel",
          "model_module_version": "1.5.0",
          "state": {
            "_dom_classes": [],
            "_model_module": "@jupyter-widgets/controls",
            "_model_module_version": "1.5.0",
            "_model_name": "HTMLModel",
            "_view_count": null,
            "_view_module": "@jupyter-widgets/controls",
            "_view_module_version": "1.5.0",
            "_view_name": "HTMLView",
            "description": "",
            "description_tooltip": null,
            "layout": "IPY_MODEL_ebf0e7ab6265485c8c6f67328b0d1db9",
            "placeholder": "​",
            "style": "IPY_MODEL_b0196c6043e44c2987fc34ebf0dfc07b",
            "value": "Generating train examples...: "
          }
        },
        "049b12509f6345e687125ceba5ef312c": {
          "model_module": "@jupyter-widgets/controls",
          "model_name": "FloatProgressModel",
          "model_module_version": "1.5.0",
          "state": {
            "_dom_classes": [],
            "_model_module": "@jupyter-widgets/controls",
            "_model_module_version": "1.5.0",
            "_model_name": "FloatProgressModel",
            "_view_count": null,
            "_view_module": "@jupyter-widgets/controls",
            "_view_module_version": "1.5.0",
            "_view_name": "ProgressView",
            "bar_style": "info",
            "description": "",
            "description_tooltip": null,
            "layout": "IPY_MODEL_2500fefdb44348a18c4afcfd27967a94",
            "max": 1,
            "min": 0,
            "orientation": "horizontal",
            "style": "IPY_MODEL_11e7178b3c85497498bb7b5644f0393f",
            "value": 1
          }
        },
        "78d77d945ebb423681f526edbb3c453f": {
          "model_module": "@jupyter-widgets/controls",
          "model_name": "HTMLModel",
          "model_module_version": "1.5.0",
          "state": {
            "_dom_classes": [],
            "_model_module": "@jupyter-widgets/controls",
            "_model_module_version": "1.5.0",
            "_model_name": "HTMLModel",
            "_view_count": null,
            "_view_module": "@jupyter-widgets/controls",
            "_view_module_version": "1.5.0",
            "_view_name": "HTMLView",
            "description": "",
            "description_tooltip": null,
            "layout": "IPY_MODEL_488aa59175bb455382dfebeae2c88ab0",
            "placeholder": "​",
            "style": "IPY_MODEL_6a390df1c6b0489f8ffc8b26641d38e8",
            "value": " 51329/? [00:04&lt;00:00, 14394.56 examples/s]"
          }
        },
        "7fb75839ed5e47fe834ba2d5da3baad1": {
          "model_module": "@jupyter-widgets/base",
          "model_name": "LayoutModel",
          "model_module_version": "1.2.0",
          "state": {
            "_model_module": "@jupyter-widgets/base",
            "_model_module_version": "1.2.0",
            "_model_name": "LayoutModel",
            "_view_count": null,
            "_view_module": "@jupyter-widgets/base",
            "_view_module_version": "1.2.0",
            "_view_name": "LayoutView",
            "align_content": null,
            "align_items": null,
            "align_self": null,
            "border": null,
            "bottom": null,
            "display": null,
            "flex": null,
            "flex_flow": null,
            "grid_area": null,
            "grid_auto_columns": null,
            "grid_auto_flow": null,
            "grid_auto_rows": null,
            "grid_column": null,
            "grid_gap": null,
            "grid_row": null,
            "grid_template_areas": null,
            "grid_template_columns": null,
            "grid_template_rows": null,
            "height": null,
            "justify_content": null,
            "justify_items": null,
            "left": null,
            "margin": null,
            "max_height": null,
            "max_width": null,
            "min_height": null,
            "min_width": null,
            "object_fit": null,
            "object_position": null,
            "order": null,
            "overflow": null,
            "overflow_x": null,
            "overflow_y": null,
            "padding": null,
            "right": null,
            "top": null,
            "visibility": "hidden",
            "width": null
          }
        },
        "ebf0e7ab6265485c8c6f67328b0d1db9": {
          "model_module": "@jupyter-widgets/base",
          "model_name": "LayoutModel",
          "model_module_version": "1.2.0",
          "state": {
            "_model_module": "@jupyter-widgets/base",
            "_model_module_version": "1.2.0",
            "_model_name": "LayoutModel",
            "_view_count": null,
            "_view_module": "@jupyter-widgets/base",
            "_view_module_version": "1.2.0",
            "_view_name": "LayoutView",
            "align_content": null,
            "align_items": null,
            "align_self": null,
            "border": null,
            "bottom": null,
            "display": null,
            "flex": null,
            "flex_flow": null,
            "grid_area": null,
            "grid_auto_columns": null,
            "grid_auto_flow": null,
            "grid_auto_rows": null,
            "grid_column": null,
            "grid_gap": null,
            "grid_row": null,
            "grid_template_areas": null,
            "grid_template_columns": null,
            "grid_template_rows": null,
            "height": null,
            "justify_content": null,
            "justify_items": null,
            "left": null,
            "margin": null,
            "max_height": null,
            "max_width": null,
            "min_height": null,
            "min_width": null,
            "object_fit": null,
            "object_position": null,
            "order": null,
            "overflow": null,
            "overflow_x": null,
            "overflow_y": null,
            "padding": null,
            "right": null,
            "top": null,
            "visibility": null,
            "width": null
          }
        },
        "b0196c6043e44c2987fc34ebf0dfc07b": {
          "model_module": "@jupyter-widgets/controls",
          "model_name": "DescriptionStyleModel",
          "model_module_version": "1.5.0",
          "state": {
            "_model_module": "@jupyter-widgets/controls",
            "_model_module_version": "1.5.0",
            "_model_name": "DescriptionStyleModel",
            "_view_count": null,
            "_view_module": "@jupyter-widgets/base",
            "_view_module_version": "1.2.0",
            "_view_name": "StyleView",
            "description_width": ""
          }
        },
        "2500fefdb44348a18c4afcfd27967a94": {
          "model_module": "@jupyter-widgets/base",
          "model_name": "LayoutModel",
          "model_module_version": "1.2.0",
          "state": {
            "_model_module": "@jupyter-widgets/base",
            "_model_module_version": "1.2.0",
            "_model_name": "LayoutModel",
            "_view_count": null,
            "_view_module": "@jupyter-widgets/base",
            "_view_module_version": "1.2.0",
            "_view_name": "LayoutView",
            "align_content": null,
            "align_items": null,
            "align_self": null,
            "border": null,
            "bottom": null,
            "display": null,
            "flex": null,
            "flex_flow": null,
            "grid_area": null,
            "grid_auto_columns": null,
            "grid_auto_flow": null,
            "grid_auto_rows": null,
            "grid_column": null,
            "grid_gap": null,
            "grid_row": null,
            "grid_template_areas": null,
            "grid_template_columns": null,
            "grid_template_rows": null,
            "height": null,
            "justify_content": null,
            "justify_items": null,
            "left": null,
            "margin": null,
            "max_height": null,
            "max_width": null,
            "min_height": null,
            "min_width": null,
            "object_fit": null,
            "object_position": null,
            "order": null,
            "overflow": null,
            "overflow_x": null,
            "overflow_y": null,
            "padding": null,
            "right": null,
            "top": null,
            "visibility": null,
            "width": "20px"
          }
        },
        "11e7178b3c85497498bb7b5644f0393f": {
          "model_module": "@jupyter-widgets/controls",
          "model_name": "ProgressStyleModel",
          "model_module_version": "1.5.0",
          "state": {
            "_model_module": "@jupyter-widgets/controls",
            "_model_module_version": "1.5.0",
            "_model_name": "ProgressStyleModel",
            "_view_count": null,
            "_view_module": "@jupyter-widgets/base",
            "_view_module_version": "1.2.0",
            "_view_name": "StyleView",
            "bar_color": null,
            "description_width": ""
          }
        },
        "488aa59175bb455382dfebeae2c88ab0": {
          "model_module": "@jupyter-widgets/base",
          "model_name": "LayoutModel",
          "model_module_version": "1.2.0",
          "state": {
            "_model_module": "@jupyter-widgets/base",
            "_model_module_version": "1.2.0",
            "_model_name": "LayoutModel",
            "_view_count": null,
            "_view_module": "@jupyter-widgets/base",
            "_view_module_version": "1.2.0",
            "_view_name": "LayoutView",
            "align_content": null,
            "align_items": null,
            "align_self": null,
            "border": null,
            "bottom": null,
            "display": null,
            "flex": null,
            "flex_flow": null,
            "grid_area": null,
            "grid_auto_columns": null,
            "grid_auto_flow": null,
            "grid_auto_rows": null,
            "grid_column": null,
            "grid_gap": null,
            "grid_row": null,
            "grid_template_areas": null,
            "grid_template_columns": null,
            "grid_template_rows": null,
            "height": null,
            "justify_content": null,
            "justify_items": null,
            "left": null,
            "margin": null,
            "max_height": null,
            "max_width": null,
            "min_height": null,
            "min_width": null,
            "object_fit": null,
            "object_position": null,
            "order": null,
            "overflow": null,
            "overflow_x": null,
            "overflow_y": null,
            "padding": null,
            "right": null,
            "top": null,
            "visibility": null,
            "width": null
          }
        },
        "6a390df1c6b0489f8ffc8b26641d38e8": {
          "model_module": "@jupyter-widgets/controls",
          "model_name": "DescriptionStyleModel",
          "model_module_version": "1.5.0",
          "state": {
            "_model_module": "@jupyter-widgets/controls",
            "_model_module_version": "1.5.0",
            "_model_name": "DescriptionStyleModel",
            "_view_count": null,
            "_view_module": "@jupyter-widgets/base",
            "_view_module_version": "1.2.0",
            "_view_name": "StyleView",
            "description_width": ""
          }
        },
        "cab245baa2b642e1a754da2cb3e32185": {
          "model_module": "@jupyter-widgets/controls",
          "model_name": "HBoxModel",
          "model_module_version": "1.5.0",
          "state": {
            "_dom_classes": [],
            "_model_module": "@jupyter-widgets/controls",
            "_model_module_version": "1.5.0",
            "_model_name": "HBoxModel",
            "_view_count": null,
            "_view_module": "@jupyter-widgets/controls",
            "_view_module_version": "1.5.0",
            "_view_name": "HBoxView",
            "box_style": "",
            "children": [
              "IPY_MODEL_06a23b4a59a7410c9e9e6f765b7e256d",
              "IPY_MODEL_c41958979bd844f5ac40560ff03a7aa0",
              "IPY_MODEL_49d6dc0d532141a586d88caf96ac4ad9"
            ],
            "layout": "IPY_MODEL_08bee49cab604bb7bb9fea58b120dd93"
          }
        },
        "06a23b4a59a7410c9e9e6f765b7e256d": {
          "model_module": "@jupyter-widgets/controls",
          "model_name": "HTMLModel",
          "model_module_version": "1.5.0",
          "state": {
            "_dom_classes": [],
            "_model_module": "@jupyter-widgets/controls",
            "_model_module_version": "1.5.0",
            "_model_name": "HTMLModel",
            "_view_count": null,
            "_view_module": "@jupyter-widgets/controls",
            "_view_module_version": "1.5.0",
            "_view_name": "HTMLView",
            "description": "",
            "description_tooltip": null,
            "layout": "IPY_MODEL_b4d772ed4d554a9eac1a945b897eb0d0",
            "placeholder": "​",
            "style": "IPY_MODEL_42b10de681a44a518be4e9a0022ce0cb",
            "value": "Shuffling /root/tensorflow_datasets/ted_hrlr_translate/pt_to_en/1.0.0.incompleteAIZXM3/ted_hrlr_translate-train.tfrecord*...:  34%"
          }
        },
        "c41958979bd844f5ac40560ff03a7aa0": {
          "model_module": "@jupyter-widgets/controls",
          "model_name": "FloatProgressModel",
          "model_module_version": "1.5.0",
          "state": {
            "_dom_classes": [],
            "_model_module": "@jupyter-widgets/controls",
            "_model_module_version": "1.5.0",
            "_model_name": "FloatProgressModel",
            "_view_count": null,
            "_view_module": "@jupyter-widgets/controls",
            "_view_module_version": "1.5.0",
            "_view_name": "ProgressView",
            "bar_style": "",
            "description": "",
            "description_tooltip": null,
            "layout": "IPY_MODEL_e25d42fff2784f6c8dd3a91f60018fdf",
            "max": 51785,
            "min": 0,
            "orientation": "horizontal",
            "style": "IPY_MODEL_ad7feb394f6742a492731b9d85c8f40a",
            "value": 51785
          }
        },
        "49d6dc0d532141a586d88caf96ac4ad9": {
          "model_module": "@jupyter-widgets/controls",
          "model_name": "HTMLModel",
          "model_module_version": "1.5.0",
          "state": {
            "_dom_classes": [],
            "_model_module": "@jupyter-widgets/controls",
            "_model_module_version": "1.5.0",
            "_model_name": "HTMLModel",
            "_view_count": null,
            "_view_module": "@jupyter-widgets/controls",
            "_view_module_version": "1.5.0",
            "_view_name": "HTMLView",
            "description": "",
            "description_tooltip": null,
            "layout": "IPY_MODEL_f78ea645a2be421295a90126958dbe9c",
            "placeholder": "​",
            "style": "IPY_MODEL_6711ac2f2e2e402fa3a3fd037abb039e",
            "value": " 17838/51785 [00:00&lt;00:00, 177511.30 examples/s]"
          }
        },
        "08bee49cab604bb7bb9fea58b120dd93": {
          "model_module": "@jupyter-widgets/base",
          "model_name": "LayoutModel",
          "model_module_version": "1.2.0",
          "state": {
            "_model_module": "@jupyter-widgets/base",
            "_model_module_version": "1.2.0",
            "_model_name": "LayoutModel",
            "_view_count": null,
            "_view_module": "@jupyter-widgets/base",
            "_view_module_version": "1.2.0",
            "_view_name": "LayoutView",
            "align_content": null,
            "align_items": null,
            "align_self": null,
            "border": null,
            "bottom": null,
            "display": null,
            "flex": null,
            "flex_flow": null,
            "grid_area": null,
            "grid_auto_columns": null,
            "grid_auto_flow": null,
            "grid_auto_rows": null,
            "grid_column": null,
            "grid_gap": null,
            "grid_row": null,
            "grid_template_areas": null,
            "grid_template_columns": null,
            "grid_template_rows": null,
            "height": null,
            "justify_content": null,
            "justify_items": null,
            "left": null,
            "margin": null,
            "max_height": null,
            "max_width": null,
            "min_height": null,
            "min_width": null,
            "object_fit": null,
            "object_position": null,
            "order": null,
            "overflow": null,
            "overflow_x": null,
            "overflow_y": null,
            "padding": null,
            "right": null,
            "top": null,
            "visibility": "hidden",
            "width": null
          }
        },
        "b4d772ed4d554a9eac1a945b897eb0d0": {
          "model_module": "@jupyter-widgets/base",
          "model_name": "LayoutModel",
          "model_module_version": "1.2.0",
          "state": {
            "_model_module": "@jupyter-widgets/base",
            "_model_module_version": "1.2.0",
            "_model_name": "LayoutModel",
            "_view_count": null,
            "_view_module": "@jupyter-widgets/base",
            "_view_module_version": "1.2.0",
            "_view_name": "LayoutView",
            "align_content": null,
            "align_items": null,
            "align_self": null,
            "border": null,
            "bottom": null,
            "display": null,
            "flex": null,
            "flex_flow": null,
            "grid_area": null,
            "grid_auto_columns": null,
            "grid_auto_flow": null,
            "grid_auto_rows": null,
            "grid_column": null,
            "grid_gap": null,
            "grid_row": null,
            "grid_template_areas": null,
            "grid_template_columns": null,
            "grid_template_rows": null,
            "height": null,
            "justify_content": null,
            "justify_items": null,
            "left": null,
            "margin": null,
            "max_height": null,
            "max_width": null,
            "min_height": null,
            "min_width": null,
            "object_fit": null,
            "object_position": null,
            "order": null,
            "overflow": null,
            "overflow_x": null,
            "overflow_y": null,
            "padding": null,
            "right": null,
            "top": null,
            "visibility": null,
            "width": null
          }
        },
        "42b10de681a44a518be4e9a0022ce0cb": {
          "model_module": "@jupyter-widgets/controls",
          "model_name": "DescriptionStyleModel",
          "model_module_version": "1.5.0",
          "state": {
            "_model_module": "@jupyter-widgets/controls",
            "_model_module_version": "1.5.0",
            "_model_name": "DescriptionStyleModel",
            "_view_count": null,
            "_view_module": "@jupyter-widgets/base",
            "_view_module_version": "1.2.0",
            "_view_name": "StyleView",
            "description_width": ""
          }
        },
        "e25d42fff2784f6c8dd3a91f60018fdf": {
          "model_module": "@jupyter-widgets/base",
          "model_name": "LayoutModel",
          "model_module_version": "1.2.0",
          "state": {
            "_model_module": "@jupyter-widgets/base",
            "_model_module_version": "1.2.0",
            "_model_name": "LayoutModel",
            "_view_count": null,
            "_view_module": "@jupyter-widgets/base",
            "_view_module_version": "1.2.0",
            "_view_name": "LayoutView",
            "align_content": null,
            "align_items": null,
            "align_self": null,
            "border": null,
            "bottom": null,
            "display": null,
            "flex": null,
            "flex_flow": null,
            "grid_area": null,
            "grid_auto_columns": null,
            "grid_auto_flow": null,
            "grid_auto_rows": null,
            "grid_column": null,
            "grid_gap": null,
            "grid_row": null,
            "grid_template_areas": null,
            "grid_template_columns": null,
            "grid_template_rows": null,
            "height": null,
            "justify_content": null,
            "justify_items": null,
            "left": null,
            "margin": null,
            "max_height": null,
            "max_width": null,
            "min_height": null,
            "min_width": null,
            "object_fit": null,
            "object_position": null,
            "order": null,
            "overflow": null,
            "overflow_x": null,
            "overflow_y": null,
            "padding": null,
            "right": null,
            "top": null,
            "visibility": null,
            "width": null
          }
        },
        "ad7feb394f6742a492731b9d85c8f40a": {
          "model_module": "@jupyter-widgets/controls",
          "model_name": "ProgressStyleModel",
          "model_module_version": "1.5.0",
          "state": {
            "_model_module": "@jupyter-widgets/controls",
            "_model_module_version": "1.5.0",
            "_model_name": "ProgressStyleModel",
            "_view_count": null,
            "_view_module": "@jupyter-widgets/base",
            "_view_module_version": "1.2.0",
            "_view_name": "StyleView",
            "bar_color": null,
            "description_width": ""
          }
        },
        "f78ea645a2be421295a90126958dbe9c": {
          "model_module": "@jupyter-widgets/base",
          "model_name": "LayoutModel",
          "model_module_version": "1.2.0",
          "state": {
            "_model_module": "@jupyter-widgets/base",
            "_model_module_version": "1.2.0",
            "_model_name": "LayoutModel",
            "_view_count": null,
            "_view_module": "@jupyter-widgets/base",
            "_view_module_version": "1.2.0",
            "_view_name": "LayoutView",
            "align_content": null,
            "align_items": null,
            "align_self": null,
            "border": null,
            "bottom": null,
            "display": null,
            "flex": null,
            "flex_flow": null,
            "grid_area": null,
            "grid_auto_columns": null,
            "grid_auto_flow": null,
            "grid_auto_rows": null,
            "grid_column": null,
            "grid_gap": null,
            "grid_row": null,
            "grid_template_areas": null,
            "grid_template_columns": null,
            "grid_template_rows": null,
            "height": null,
            "justify_content": null,
            "justify_items": null,
            "left": null,
            "margin": null,
            "max_height": null,
            "max_width": null,
            "min_height": null,
            "min_width": null,
            "object_fit": null,
            "object_position": null,
            "order": null,
            "overflow": null,
            "overflow_x": null,
            "overflow_y": null,
            "padding": null,
            "right": null,
            "top": null,
            "visibility": null,
            "width": null
          }
        },
        "6711ac2f2e2e402fa3a3fd037abb039e": {
          "model_module": "@jupyter-widgets/controls",
          "model_name": "DescriptionStyleModel",
          "model_module_version": "1.5.0",
          "state": {
            "_model_module": "@jupyter-widgets/controls",
            "_model_module_version": "1.5.0",
            "_model_name": "DescriptionStyleModel",
            "_view_count": null,
            "_view_module": "@jupyter-widgets/base",
            "_view_module_version": "1.2.0",
            "_view_name": "StyleView",
            "description_width": ""
          }
        },
        "a46e319f28134376b9c24121571b1cee": {
          "model_module": "@jupyter-widgets/controls",
          "model_name": "HBoxModel",
          "model_module_version": "1.5.0",
          "state": {
            "_dom_classes": [],
            "_model_module": "@jupyter-widgets/controls",
            "_model_module_version": "1.5.0",
            "_model_name": "HBoxModel",
            "_view_count": null,
            "_view_module": "@jupyter-widgets/controls",
            "_view_module_version": "1.5.0",
            "_view_name": "HBoxView",
            "box_style": "",
            "children": [
              "IPY_MODEL_d1a6a9f1178143e99afbdd5a7cd14330",
              "IPY_MODEL_e83b74f5b498499ba3976b20be2ad5b9",
              "IPY_MODEL_9680eaa989f54e7f9ba4ece89c4d821a"
            ],
            "layout": "IPY_MODEL_a4c33cb17dd5420b841683361c00b17a"
          }
        },
        "d1a6a9f1178143e99afbdd5a7cd14330": {
          "model_module": "@jupyter-widgets/controls",
          "model_name": "HTMLModel",
          "model_module_version": "1.5.0",
          "state": {
            "_dom_classes": [],
            "_model_module": "@jupyter-widgets/controls",
            "_model_module_version": "1.5.0",
            "_model_name": "HTMLModel",
            "_view_count": null,
            "_view_module": "@jupyter-widgets/controls",
            "_view_module_version": "1.5.0",
            "_view_name": "HTMLView",
            "description": "",
            "description_tooltip": null,
            "layout": "IPY_MODEL_35aa0b212696474c940795ccd828505e",
            "placeholder": "​",
            "style": "IPY_MODEL_b143aa54a0cf4d2582752809326f14e3",
            "value": "Generating validation examples...: "
          }
        },
        "e83b74f5b498499ba3976b20be2ad5b9": {
          "model_module": "@jupyter-widgets/controls",
          "model_name": "FloatProgressModel",
          "model_module_version": "1.5.0",
          "state": {
            "_dom_classes": [],
            "_model_module": "@jupyter-widgets/controls",
            "_model_module_version": "1.5.0",
            "_model_name": "FloatProgressModel",
            "_view_count": null,
            "_view_module": "@jupyter-widgets/controls",
            "_view_module_version": "1.5.0",
            "_view_name": "ProgressView",
            "bar_style": "info",
            "description": "",
            "description_tooltip": null,
            "layout": "IPY_MODEL_d2295d0526db439398934e6f44f74219",
            "max": 1,
            "min": 0,
            "orientation": "horizontal",
            "style": "IPY_MODEL_d0d57df764244f119b9378f578484774",
            "value": 1
          }
        },
        "9680eaa989f54e7f9ba4ece89c4d821a": {
          "model_module": "@jupyter-widgets/controls",
          "model_name": "HTMLModel",
          "model_module_version": "1.5.0",
          "state": {
            "_dom_classes": [],
            "_model_module": "@jupyter-widgets/controls",
            "_model_module_version": "1.5.0",
            "_model_name": "HTMLModel",
            "_view_count": null,
            "_view_module": "@jupyter-widgets/controls",
            "_view_module_version": "1.5.0",
            "_view_name": "HTMLView",
            "description": "",
            "description_tooltip": null,
            "layout": "IPY_MODEL_14b3d237bf874e1c902adfa2fc0cab4c",
            "placeholder": "​",
            "style": "IPY_MODEL_50c5008bc7374945bc256cb908f37e4e",
            "value": " 666/? [00:00&lt;00:00, 6658.91 examples/s]"
          }
        },
        "a4c33cb17dd5420b841683361c00b17a": {
          "model_module": "@jupyter-widgets/base",
          "model_name": "LayoutModel",
          "model_module_version": "1.2.0",
          "state": {
            "_model_module": "@jupyter-widgets/base",
            "_model_module_version": "1.2.0",
            "_model_name": "LayoutModel",
            "_view_count": null,
            "_view_module": "@jupyter-widgets/base",
            "_view_module_version": "1.2.0",
            "_view_name": "LayoutView",
            "align_content": null,
            "align_items": null,
            "align_self": null,
            "border": null,
            "bottom": null,
            "display": null,
            "flex": null,
            "flex_flow": null,
            "grid_area": null,
            "grid_auto_columns": null,
            "grid_auto_flow": null,
            "grid_auto_rows": null,
            "grid_column": null,
            "grid_gap": null,
            "grid_row": null,
            "grid_template_areas": null,
            "grid_template_columns": null,
            "grid_template_rows": null,
            "height": null,
            "justify_content": null,
            "justify_items": null,
            "left": null,
            "margin": null,
            "max_height": null,
            "max_width": null,
            "min_height": null,
            "min_width": null,
            "object_fit": null,
            "object_position": null,
            "order": null,
            "overflow": null,
            "overflow_x": null,
            "overflow_y": null,
            "padding": null,
            "right": null,
            "top": null,
            "visibility": "hidden",
            "width": null
          }
        },
        "35aa0b212696474c940795ccd828505e": {
          "model_module": "@jupyter-widgets/base",
          "model_name": "LayoutModel",
          "model_module_version": "1.2.0",
          "state": {
            "_model_module": "@jupyter-widgets/base",
            "_model_module_version": "1.2.0",
            "_model_name": "LayoutModel",
            "_view_count": null,
            "_view_module": "@jupyter-widgets/base",
            "_view_module_version": "1.2.0",
            "_view_name": "LayoutView",
            "align_content": null,
            "align_items": null,
            "align_self": null,
            "border": null,
            "bottom": null,
            "display": null,
            "flex": null,
            "flex_flow": null,
            "grid_area": null,
            "grid_auto_columns": null,
            "grid_auto_flow": null,
            "grid_auto_rows": null,
            "grid_column": null,
            "grid_gap": null,
            "grid_row": null,
            "grid_template_areas": null,
            "grid_template_columns": null,
            "grid_template_rows": null,
            "height": null,
            "justify_content": null,
            "justify_items": null,
            "left": null,
            "margin": null,
            "max_height": null,
            "max_width": null,
            "min_height": null,
            "min_width": null,
            "object_fit": null,
            "object_position": null,
            "order": null,
            "overflow": null,
            "overflow_x": null,
            "overflow_y": null,
            "padding": null,
            "right": null,
            "top": null,
            "visibility": null,
            "width": null
          }
        },
        "b143aa54a0cf4d2582752809326f14e3": {
          "model_module": "@jupyter-widgets/controls",
          "model_name": "DescriptionStyleModel",
          "model_module_version": "1.5.0",
          "state": {
            "_model_module": "@jupyter-widgets/controls",
            "_model_module_version": "1.5.0",
            "_model_name": "DescriptionStyleModel",
            "_view_count": null,
            "_view_module": "@jupyter-widgets/base",
            "_view_module_version": "1.2.0",
            "_view_name": "StyleView",
            "description_width": ""
          }
        },
        "d2295d0526db439398934e6f44f74219": {
          "model_module": "@jupyter-widgets/base",
          "model_name": "LayoutModel",
          "model_module_version": "1.2.0",
          "state": {
            "_model_module": "@jupyter-widgets/base",
            "_model_module_version": "1.2.0",
            "_model_name": "LayoutModel",
            "_view_count": null,
            "_view_module": "@jupyter-widgets/base",
            "_view_module_version": "1.2.0",
            "_view_name": "LayoutView",
            "align_content": null,
            "align_items": null,
            "align_self": null,
            "border": null,
            "bottom": null,
            "display": null,
            "flex": null,
            "flex_flow": null,
            "grid_area": null,
            "grid_auto_columns": null,
            "grid_auto_flow": null,
            "grid_auto_rows": null,
            "grid_column": null,
            "grid_gap": null,
            "grid_row": null,
            "grid_template_areas": null,
            "grid_template_columns": null,
            "grid_template_rows": null,
            "height": null,
            "justify_content": null,
            "justify_items": null,
            "left": null,
            "margin": null,
            "max_height": null,
            "max_width": null,
            "min_height": null,
            "min_width": null,
            "object_fit": null,
            "object_position": null,
            "order": null,
            "overflow": null,
            "overflow_x": null,
            "overflow_y": null,
            "padding": null,
            "right": null,
            "top": null,
            "visibility": null,
            "width": "20px"
          }
        },
        "d0d57df764244f119b9378f578484774": {
          "model_module": "@jupyter-widgets/controls",
          "model_name": "ProgressStyleModel",
          "model_module_version": "1.5.0",
          "state": {
            "_model_module": "@jupyter-widgets/controls",
            "_model_module_version": "1.5.0",
            "_model_name": "ProgressStyleModel",
            "_view_count": null,
            "_view_module": "@jupyter-widgets/base",
            "_view_module_version": "1.2.0",
            "_view_name": "StyleView",
            "bar_color": null,
            "description_width": ""
          }
        },
        "14b3d237bf874e1c902adfa2fc0cab4c": {
          "model_module": "@jupyter-widgets/base",
          "model_name": "LayoutModel",
          "model_module_version": "1.2.0",
          "state": {
            "_model_module": "@jupyter-widgets/base",
            "_model_module_version": "1.2.0",
            "_model_name": "LayoutModel",
            "_view_count": null,
            "_view_module": "@jupyter-widgets/base",
            "_view_module_version": "1.2.0",
            "_view_name": "LayoutView",
            "align_content": null,
            "align_items": null,
            "align_self": null,
            "border": null,
            "bottom": null,
            "display": null,
            "flex": null,
            "flex_flow": null,
            "grid_area": null,
            "grid_auto_columns": null,
            "grid_auto_flow": null,
            "grid_auto_rows": null,
            "grid_column": null,
            "grid_gap": null,
            "grid_row": null,
            "grid_template_areas": null,
            "grid_template_columns": null,
            "grid_template_rows": null,
            "height": null,
            "justify_content": null,
            "justify_items": null,
            "left": null,
            "margin": null,
            "max_height": null,
            "max_width": null,
            "min_height": null,
            "min_width": null,
            "object_fit": null,
            "object_position": null,
            "order": null,
            "overflow": null,
            "overflow_x": null,
            "overflow_y": null,
            "padding": null,
            "right": null,
            "top": null,
            "visibility": null,
            "width": null
          }
        },
        "50c5008bc7374945bc256cb908f37e4e": {
          "model_module": "@jupyter-widgets/controls",
          "model_name": "DescriptionStyleModel",
          "model_module_version": "1.5.0",
          "state": {
            "_model_module": "@jupyter-widgets/controls",
            "_model_module_version": "1.5.0",
            "_model_name": "DescriptionStyleModel",
            "_view_count": null,
            "_view_module": "@jupyter-widgets/base",
            "_view_module_version": "1.2.0",
            "_view_name": "StyleView",
            "description_width": ""
          }
        },
        "fc3cf983e2e04c2dabc33b0298204ec7": {
          "model_module": "@jupyter-widgets/controls",
          "model_name": "HBoxModel",
          "model_module_version": "1.5.0",
          "state": {
            "_dom_classes": [],
            "_model_module": "@jupyter-widgets/controls",
            "_model_module_version": "1.5.0",
            "_model_name": "HBoxModel",
            "_view_count": null,
            "_view_module": "@jupyter-widgets/controls",
            "_view_module_version": "1.5.0",
            "_view_name": "HBoxView",
            "box_style": "",
            "children": [
              "IPY_MODEL_578fc3734fec407dbc5b4ca09a6ad202",
              "IPY_MODEL_9796abd4cfea4503b174e5288133e4cb",
              "IPY_MODEL_58166a6076f4470fb27dc5ce5911cc46"
            ],
            "layout": "IPY_MODEL_f3d13b3ea74c482b84240ba499051a5a"
          }
        },
        "578fc3734fec407dbc5b4ca09a6ad202": {
          "model_module": "@jupyter-widgets/controls",
          "model_name": "HTMLModel",
          "model_module_version": "1.5.0",
          "state": {
            "_dom_classes": [],
            "_model_module": "@jupyter-widgets/controls",
            "_model_module_version": "1.5.0",
            "_model_name": "HTMLModel",
            "_view_count": null,
            "_view_module": "@jupyter-widgets/controls",
            "_view_module_version": "1.5.0",
            "_view_name": "HTMLView",
            "description": "",
            "description_tooltip": null,
            "layout": "IPY_MODEL_2f09fffe283c40abbf77bcd76aecfde3",
            "placeholder": "​",
            "style": "IPY_MODEL_499b122244514d60b66be83693fe04f1",
            "value": "Shuffling /root/tensorflow_datasets/ted_hrlr_translate/pt_to_en/1.0.0.incompleteAIZXM3/ted_hrlr_translate-validation.tfrecord*...:   0%"
          }
        },
        "9796abd4cfea4503b174e5288133e4cb": {
          "model_module": "@jupyter-widgets/controls",
          "model_name": "FloatProgressModel",
          "model_module_version": "1.5.0",
          "state": {
            "_dom_classes": [],
            "_model_module": "@jupyter-widgets/controls",
            "_model_module_version": "1.5.0",
            "_model_name": "FloatProgressModel",
            "_view_count": null,
            "_view_module": "@jupyter-widgets/controls",
            "_view_module_version": "1.5.0",
            "_view_name": "ProgressView",
            "bar_style": "",
            "description": "",
            "description_tooltip": null,
            "layout": "IPY_MODEL_4b78409b7ad6412eba56044edcb6bda8",
            "max": 1193,
            "min": 0,
            "orientation": "horizontal",
            "style": "IPY_MODEL_9f0a67a8f7684b78870a8f442c608c74",
            "value": 1193
          }
        },
        "58166a6076f4470fb27dc5ce5911cc46": {
          "model_module": "@jupyter-widgets/controls",
          "model_name": "HTMLModel",
          "model_module_version": "1.5.0",
          "state": {
            "_dom_classes": [],
            "_model_module": "@jupyter-widgets/controls",
            "_model_module_version": "1.5.0",
            "_model_name": "HTMLModel",
            "_view_count": null,
            "_view_module": "@jupyter-widgets/controls",
            "_view_module_version": "1.5.0",
            "_view_name": "HTMLView",
            "description": "",
            "description_tooltip": null,
            "layout": "IPY_MODEL_af7cc04afc0b458c8ae90c36d854f416",
            "placeholder": "​",
            "style": "IPY_MODEL_16e1ca5f23064bb7b4354c5c9bfd39d1",
            "value": " 0/1193 [00:00&lt;?, ? examples/s]"
          }
        },
        "f3d13b3ea74c482b84240ba499051a5a": {
          "model_module": "@jupyter-widgets/base",
          "model_name": "LayoutModel",
          "model_module_version": "1.2.0",
          "state": {
            "_model_module": "@jupyter-widgets/base",
            "_model_module_version": "1.2.0",
            "_model_name": "LayoutModel",
            "_view_count": null,
            "_view_module": "@jupyter-widgets/base",
            "_view_module_version": "1.2.0",
            "_view_name": "LayoutView",
            "align_content": null,
            "align_items": null,
            "align_self": null,
            "border": null,
            "bottom": null,
            "display": null,
            "flex": null,
            "flex_flow": null,
            "grid_area": null,
            "grid_auto_columns": null,
            "grid_auto_flow": null,
            "grid_auto_rows": null,
            "grid_column": null,
            "grid_gap": null,
            "grid_row": null,
            "grid_template_areas": null,
            "grid_template_columns": null,
            "grid_template_rows": null,
            "height": null,
            "justify_content": null,
            "justify_items": null,
            "left": null,
            "margin": null,
            "max_height": null,
            "max_width": null,
            "min_height": null,
            "min_width": null,
            "object_fit": null,
            "object_position": null,
            "order": null,
            "overflow": null,
            "overflow_x": null,
            "overflow_y": null,
            "padding": null,
            "right": null,
            "top": null,
            "visibility": "hidden",
            "width": null
          }
        },
        "2f09fffe283c40abbf77bcd76aecfde3": {
          "model_module": "@jupyter-widgets/base",
          "model_name": "LayoutModel",
          "model_module_version": "1.2.0",
          "state": {
            "_model_module": "@jupyter-widgets/base",
            "_model_module_version": "1.2.0",
            "_model_name": "LayoutModel",
            "_view_count": null,
            "_view_module": "@jupyter-widgets/base",
            "_view_module_version": "1.2.0",
            "_view_name": "LayoutView",
            "align_content": null,
            "align_items": null,
            "align_self": null,
            "border": null,
            "bottom": null,
            "display": null,
            "flex": null,
            "flex_flow": null,
            "grid_area": null,
            "grid_auto_columns": null,
            "grid_auto_flow": null,
            "grid_auto_rows": null,
            "grid_column": null,
            "grid_gap": null,
            "grid_row": null,
            "grid_template_areas": null,
            "grid_template_columns": null,
            "grid_template_rows": null,
            "height": null,
            "justify_content": null,
            "justify_items": null,
            "left": null,
            "margin": null,
            "max_height": null,
            "max_width": null,
            "min_height": null,
            "min_width": null,
            "object_fit": null,
            "object_position": null,
            "order": null,
            "overflow": null,
            "overflow_x": null,
            "overflow_y": null,
            "padding": null,
            "right": null,
            "top": null,
            "visibility": null,
            "width": null
          }
        },
        "499b122244514d60b66be83693fe04f1": {
          "model_module": "@jupyter-widgets/controls",
          "model_name": "DescriptionStyleModel",
          "model_module_version": "1.5.0",
          "state": {
            "_model_module": "@jupyter-widgets/controls",
            "_model_module_version": "1.5.0",
            "_model_name": "DescriptionStyleModel",
            "_view_count": null,
            "_view_module": "@jupyter-widgets/base",
            "_view_module_version": "1.2.0",
            "_view_name": "StyleView",
            "description_width": ""
          }
        },
        "4b78409b7ad6412eba56044edcb6bda8": {
          "model_module": "@jupyter-widgets/base",
          "model_name": "LayoutModel",
          "model_module_version": "1.2.0",
          "state": {
            "_model_module": "@jupyter-widgets/base",
            "_model_module_version": "1.2.0",
            "_model_name": "LayoutModel",
            "_view_count": null,
            "_view_module": "@jupyter-widgets/base",
            "_view_module_version": "1.2.0",
            "_view_name": "LayoutView",
            "align_content": null,
            "align_items": null,
            "align_self": null,
            "border": null,
            "bottom": null,
            "display": null,
            "flex": null,
            "flex_flow": null,
            "grid_area": null,
            "grid_auto_columns": null,
            "grid_auto_flow": null,
            "grid_auto_rows": null,
            "grid_column": null,
            "grid_gap": null,
            "grid_row": null,
            "grid_template_areas": null,
            "grid_template_columns": null,
            "grid_template_rows": null,
            "height": null,
            "justify_content": null,
            "justify_items": null,
            "left": null,
            "margin": null,
            "max_height": null,
            "max_width": null,
            "min_height": null,
            "min_width": null,
            "object_fit": null,
            "object_position": null,
            "order": null,
            "overflow": null,
            "overflow_x": null,
            "overflow_y": null,
            "padding": null,
            "right": null,
            "top": null,
            "visibility": null,
            "width": null
          }
        },
        "9f0a67a8f7684b78870a8f442c608c74": {
          "model_module": "@jupyter-widgets/controls",
          "model_name": "ProgressStyleModel",
          "model_module_version": "1.5.0",
          "state": {
            "_model_module": "@jupyter-widgets/controls",
            "_model_module_version": "1.5.0",
            "_model_name": "ProgressStyleModel",
            "_view_count": null,
            "_view_module": "@jupyter-widgets/base",
            "_view_module_version": "1.2.0",
            "_view_name": "StyleView",
            "bar_color": null,
            "description_width": ""
          }
        },
        "af7cc04afc0b458c8ae90c36d854f416": {
          "model_module": "@jupyter-widgets/base",
          "model_name": "LayoutModel",
          "model_module_version": "1.2.0",
          "state": {
            "_model_module": "@jupyter-widgets/base",
            "_model_module_version": "1.2.0",
            "_model_name": "LayoutModel",
            "_view_count": null,
            "_view_module": "@jupyter-widgets/base",
            "_view_module_version": "1.2.0",
            "_view_name": "LayoutView",
            "align_content": null,
            "align_items": null,
            "align_self": null,
            "border": null,
            "bottom": null,
            "display": null,
            "flex": null,
            "flex_flow": null,
            "grid_area": null,
            "grid_auto_columns": null,
            "grid_auto_flow": null,
            "grid_auto_rows": null,
            "grid_column": null,
            "grid_gap": null,
            "grid_row": null,
            "grid_template_areas": null,
            "grid_template_columns": null,
            "grid_template_rows": null,
            "height": null,
            "justify_content": null,
            "justify_items": null,
            "left": null,
            "margin": null,
            "max_height": null,
            "max_width": null,
            "min_height": null,
            "min_width": null,
            "object_fit": null,
            "object_position": null,
            "order": null,
            "overflow": null,
            "overflow_x": null,
            "overflow_y": null,
            "padding": null,
            "right": null,
            "top": null,
            "visibility": null,
            "width": null
          }
        },
        "16e1ca5f23064bb7b4354c5c9bfd39d1": {
          "model_module": "@jupyter-widgets/controls",
          "model_name": "DescriptionStyleModel",
          "model_module_version": "1.5.0",
          "state": {
            "_model_module": "@jupyter-widgets/controls",
            "_model_module_version": "1.5.0",
            "_model_name": "DescriptionStyleModel",
            "_view_count": null,
            "_view_module": "@jupyter-widgets/base",
            "_view_module_version": "1.2.0",
            "_view_name": "StyleView",
            "description_width": ""
          }
        },
        "24a1fa652c334fd0bb38da943b81178c": {
          "model_module": "@jupyter-widgets/controls",
          "model_name": "HBoxModel",
          "model_module_version": "1.5.0",
          "state": {
            "_dom_classes": [],
            "_model_module": "@jupyter-widgets/controls",
            "_model_module_version": "1.5.0",
            "_model_name": "HBoxModel",
            "_view_count": null,
            "_view_module": "@jupyter-widgets/controls",
            "_view_module_version": "1.5.0",
            "_view_name": "HBoxView",
            "box_style": "",
            "children": [
              "IPY_MODEL_6b7e77ffacf14e82a2f6fce82346e95a",
              "IPY_MODEL_322e1880e42d4329ab23c1d24c3ae4d4",
              "IPY_MODEL_a9814818bb894af1a9b6915eddf1c19a"
            ],
            "layout": "IPY_MODEL_91cd23d9bee34de18f8f4abd0f216e1d"
          }
        },
        "6b7e77ffacf14e82a2f6fce82346e95a": {
          "model_module": "@jupyter-widgets/controls",
          "model_name": "HTMLModel",
          "model_module_version": "1.5.0",
          "state": {
            "_dom_classes": [],
            "_model_module": "@jupyter-widgets/controls",
            "_model_module_version": "1.5.0",
            "_model_name": "HTMLModel",
            "_view_count": null,
            "_view_module": "@jupyter-widgets/controls",
            "_view_module_version": "1.5.0",
            "_view_name": "HTMLView",
            "description": "",
            "description_tooltip": null,
            "layout": "IPY_MODEL_e349abaceb8a412585b1e2fa4e445957",
            "placeholder": "​",
            "style": "IPY_MODEL_032dc755cccd4b088db291d7b4a342b5",
            "value": "Generating test examples...: "
          }
        },
        "322e1880e42d4329ab23c1d24c3ae4d4": {
          "model_module": "@jupyter-widgets/controls",
          "model_name": "FloatProgressModel",
          "model_module_version": "1.5.0",
          "state": {
            "_dom_classes": [],
            "_model_module": "@jupyter-widgets/controls",
            "_model_module_version": "1.5.0",
            "_model_name": "FloatProgressModel",
            "_view_count": null,
            "_view_module": "@jupyter-widgets/controls",
            "_view_module_version": "1.5.0",
            "_view_name": "ProgressView",
            "bar_style": "info",
            "description": "",
            "description_tooltip": null,
            "layout": "IPY_MODEL_3d830f7cfe114c7eaef1057e407f3d86",
            "max": 1,
            "min": 0,
            "orientation": "horizontal",
            "style": "IPY_MODEL_a336bcf5445c46aca62f6c7b6a6c9147",
            "value": 1
          }
        },
        "a9814818bb894af1a9b6915eddf1c19a": {
          "model_module": "@jupyter-widgets/controls",
          "model_name": "HTMLModel",
          "model_module_version": "1.5.0",
          "state": {
            "_dom_classes": [],
            "_model_module": "@jupyter-widgets/controls",
            "_model_module_version": "1.5.0",
            "_model_name": "HTMLModel",
            "_view_count": null,
            "_view_module": "@jupyter-widgets/controls",
            "_view_module_version": "1.5.0",
            "_view_name": "HTMLView",
            "description": "",
            "description_tooltip": null,
            "layout": "IPY_MODEL_8ca29348b2a543b9a2043db796208263",
            "placeholder": "​",
            "style": "IPY_MODEL_c6ce8131249b4ddab2843c6384302e9e",
            "value": " 570/? [00:00&lt;00:00, 5699.43 examples/s]"
          }
        },
        "91cd23d9bee34de18f8f4abd0f216e1d": {
          "model_module": "@jupyter-widgets/base",
          "model_name": "LayoutModel",
          "model_module_version": "1.2.0",
          "state": {
            "_model_module": "@jupyter-widgets/base",
            "_model_module_version": "1.2.0",
            "_model_name": "LayoutModel",
            "_view_count": null,
            "_view_module": "@jupyter-widgets/base",
            "_view_module_version": "1.2.0",
            "_view_name": "LayoutView",
            "align_content": null,
            "align_items": null,
            "align_self": null,
            "border": null,
            "bottom": null,
            "display": null,
            "flex": null,
            "flex_flow": null,
            "grid_area": null,
            "grid_auto_columns": null,
            "grid_auto_flow": null,
            "grid_auto_rows": null,
            "grid_column": null,
            "grid_gap": null,
            "grid_row": null,
            "grid_template_areas": null,
            "grid_template_columns": null,
            "grid_template_rows": null,
            "height": null,
            "justify_content": null,
            "justify_items": null,
            "left": null,
            "margin": null,
            "max_height": null,
            "max_width": null,
            "min_height": null,
            "min_width": null,
            "object_fit": null,
            "object_position": null,
            "order": null,
            "overflow": null,
            "overflow_x": null,
            "overflow_y": null,
            "padding": null,
            "right": null,
            "top": null,
            "visibility": "hidden",
            "width": null
          }
        },
        "e349abaceb8a412585b1e2fa4e445957": {
          "model_module": "@jupyter-widgets/base",
          "model_name": "LayoutModel",
          "model_module_version": "1.2.0",
          "state": {
            "_model_module": "@jupyter-widgets/base",
            "_model_module_version": "1.2.0",
            "_model_name": "LayoutModel",
            "_view_count": null,
            "_view_module": "@jupyter-widgets/base",
            "_view_module_version": "1.2.0",
            "_view_name": "LayoutView",
            "align_content": null,
            "align_items": null,
            "align_self": null,
            "border": null,
            "bottom": null,
            "display": null,
            "flex": null,
            "flex_flow": null,
            "grid_area": null,
            "grid_auto_columns": null,
            "grid_auto_flow": null,
            "grid_auto_rows": null,
            "grid_column": null,
            "grid_gap": null,
            "grid_row": null,
            "grid_template_areas": null,
            "grid_template_columns": null,
            "grid_template_rows": null,
            "height": null,
            "justify_content": null,
            "justify_items": null,
            "left": null,
            "margin": null,
            "max_height": null,
            "max_width": null,
            "min_height": null,
            "min_width": null,
            "object_fit": null,
            "object_position": null,
            "order": null,
            "overflow": null,
            "overflow_x": null,
            "overflow_y": null,
            "padding": null,
            "right": null,
            "top": null,
            "visibility": null,
            "width": null
          }
        },
        "032dc755cccd4b088db291d7b4a342b5": {
          "model_module": "@jupyter-widgets/controls",
          "model_name": "DescriptionStyleModel",
          "model_module_version": "1.5.0",
          "state": {
            "_model_module": "@jupyter-widgets/controls",
            "_model_module_version": "1.5.0",
            "_model_name": "DescriptionStyleModel",
            "_view_count": null,
            "_view_module": "@jupyter-widgets/base",
            "_view_module_version": "1.2.0",
            "_view_name": "StyleView",
            "description_width": ""
          }
        },
        "3d830f7cfe114c7eaef1057e407f3d86": {
          "model_module": "@jupyter-widgets/base",
          "model_name": "LayoutModel",
          "model_module_version": "1.2.0",
          "state": {
            "_model_module": "@jupyter-widgets/base",
            "_model_module_version": "1.2.0",
            "_model_name": "LayoutModel",
            "_view_count": null,
            "_view_module": "@jupyter-widgets/base",
            "_view_module_version": "1.2.0",
            "_view_name": "LayoutView",
            "align_content": null,
            "align_items": null,
            "align_self": null,
            "border": null,
            "bottom": null,
            "display": null,
            "flex": null,
            "flex_flow": null,
            "grid_area": null,
            "grid_auto_columns": null,
            "grid_auto_flow": null,
            "grid_auto_rows": null,
            "grid_column": null,
            "grid_gap": null,
            "grid_row": null,
            "grid_template_areas": null,
            "grid_template_columns": null,
            "grid_template_rows": null,
            "height": null,
            "justify_content": null,
            "justify_items": null,
            "left": null,
            "margin": null,
            "max_height": null,
            "max_width": null,
            "min_height": null,
            "min_width": null,
            "object_fit": null,
            "object_position": null,
            "order": null,
            "overflow": null,
            "overflow_x": null,
            "overflow_y": null,
            "padding": null,
            "right": null,
            "top": null,
            "visibility": null,
            "width": "20px"
          }
        },
        "a336bcf5445c46aca62f6c7b6a6c9147": {
          "model_module": "@jupyter-widgets/controls",
          "model_name": "ProgressStyleModel",
          "model_module_version": "1.5.0",
          "state": {
            "_model_module": "@jupyter-widgets/controls",
            "_model_module_version": "1.5.0",
            "_model_name": "ProgressStyleModel",
            "_view_count": null,
            "_view_module": "@jupyter-widgets/base",
            "_view_module_version": "1.2.0",
            "_view_name": "StyleView",
            "bar_color": null,
            "description_width": ""
          }
        },
        "8ca29348b2a543b9a2043db796208263": {
          "model_module": "@jupyter-widgets/base",
          "model_name": "LayoutModel",
          "model_module_version": "1.2.0",
          "state": {
            "_model_module": "@jupyter-widgets/base",
            "_model_module_version": "1.2.0",
            "_model_name": "LayoutModel",
            "_view_count": null,
            "_view_module": "@jupyter-widgets/base",
            "_view_module_version": "1.2.0",
            "_view_name": "LayoutView",
            "align_content": null,
            "align_items": null,
            "align_self": null,
            "border": null,
            "bottom": null,
            "display": null,
            "flex": null,
            "flex_flow": null,
            "grid_area": null,
            "grid_auto_columns": null,
            "grid_auto_flow": null,
            "grid_auto_rows": null,
            "grid_column": null,
            "grid_gap": null,
            "grid_row": null,
            "grid_template_areas": null,
            "grid_template_columns": null,
            "grid_template_rows": null,
            "height": null,
            "justify_content": null,
            "justify_items": null,
            "left": null,
            "margin": null,
            "max_height": null,
            "max_width": null,
            "min_height": null,
            "min_width": null,
            "object_fit": null,
            "object_position": null,
            "order": null,
            "overflow": null,
            "overflow_x": null,
            "overflow_y": null,
            "padding": null,
            "right": null,
            "top": null,
            "visibility": null,
            "width": null
          }
        },
        "c6ce8131249b4ddab2843c6384302e9e": {
          "model_module": "@jupyter-widgets/controls",
          "model_name": "DescriptionStyleModel",
          "model_module_version": "1.5.0",
          "state": {
            "_model_module": "@jupyter-widgets/controls",
            "_model_module_version": "1.5.0",
            "_model_name": "DescriptionStyleModel",
            "_view_count": null,
            "_view_module": "@jupyter-widgets/base",
            "_view_module_version": "1.2.0",
            "_view_name": "StyleView",
            "description_width": ""
          }
        },
        "aba6da7e522545338d709913305cd496": {
          "model_module": "@jupyter-widgets/controls",
          "model_name": "HBoxModel",
          "model_module_version": "1.5.0",
          "state": {
            "_dom_classes": [],
            "_model_module": "@jupyter-widgets/controls",
            "_model_module_version": "1.5.0",
            "_model_name": "HBoxModel",
            "_view_count": null,
            "_view_module": "@jupyter-widgets/controls",
            "_view_module_version": "1.5.0",
            "_view_name": "HBoxView",
            "box_style": "",
            "children": [
              "IPY_MODEL_d578d81a15f54683944966831c89a0e2",
              "IPY_MODEL_bd567f40344a4ca3b55b4083b73c3fdb",
              "IPY_MODEL_07a4b83bb1964fccbbb1fd1c08760a06"
            ],
            "layout": "IPY_MODEL_fd8a0dc9eaa743f9ad4a8522cea203ea"
          }
        },
        "d578d81a15f54683944966831c89a0e2": {
          "model_module": "@jupyter-widgets/controls",
          "model_name": "HTMLModel",
          "model_module_version": "1.5.0",
          "state": {
            "_dom_classes": [],
            "_model_module": "@jupyter-widgets/controls",
            "_model_module_version": "1.5.0",
            "_model_name": "HTMLModel",
            "_view_count": null,
            "_view_module": "@jupyter-widgets/controls",
            "_view_module_version": "1.5.0",
            "_view_name": "HTMLView",
            "description": "",
            "description_tooltip": null,
            "layout": "IPY_MODEL_fd2537bd66db40eea772f09ef901fba0",
            "placeholder": "​",
            "style": "IPY_MODEL_4fd008eb050d4b8f9159a7dcfd82a24c",
            "value": "Shuffling /root/tensorflow_datasets/ted_hrlr_translate/pt_to_en/1.0.0.incompleteAIZXM3/ted_hrlr_translate-test.tfrecord*...:   0%"
          }
        },
        "bd567f40344a4ca3b55b4083b73c3fdb": {
          "model_module": "@jupyter-widgets/controls",
          "model_name": "FloatProgressModel",
          "model_module_version": "1.5.0",
          "state": {
            "_dom_classes": [],
            "_model_module": "@jupyter-widgets/controls",
            "_model_module_version": "1.5.0",
            "_model_name": "FloatProgressModel",
            "_view_count": null,
            "_view_module": "@jupyter-widgets/controls",
            "_view_module_version": "1.5.0",
            "_view_name": "ProgressView",
            "bar_style": "",
            "description": "",
            "description_tooltip": null,
            "layout": "IPY_MODEL_a2a1abbde21149428ff6d39a6a2a7a83",
            "max": 1803,
            "min": 0,
            "orientation": "horizontal",
            "style": "IPY_MODEL_587187e992d0492284d8539181a67625",
            "value": 1803
          }
        },
        "07a4b83bb1964fccbbb1fd1c08760a06": {
          "model_module": "@jupyter-widgets/controls",
          "model_name": "HTMLModel",
          "model_module_version": "1.5.0",
          "state": {
            "_dom_classes": [],
            "_model_module": "@jupyter-widgets/controls",
            "_model_module_version": "1.5.0",
            "_model_name": "HTMLModel",
            "_view_count": null,
            "_view_module": "@jupyter-widgets/controls",
            "_view_module_version": "1.5.0",
            "_view_name": "HTMLView",
            "description": "",
            "description_tooltip": null,
            "layout": "IPY_MODEL_4abaa395574e47a9a697a8667b7e1e06",
            "placeholder": "​",
            "style": "IPY_MODEL_0c0ff13e4c774bd785c9e54f0c0f70c7",
            "value": " 0/1803 [00:00&lt;?, ? examples/s]"
          }
        },
        "fd8a0dc9eaa743f9ad4a8522cea203ea": {
          "model_module": "@jupyter-widgets/base",
          "model_name": "LayoutModel",
          "model_module_version": "1.2.0",
          "state": {
            "_model_module": "@jupyter-widgets/base",
            "_model_module_version": "1.2.0",
            "_model_name": "LayoutModel",
            "_view_count": null,
            "_view_module": "@jupyter-widgets/base",
            "_view_module_version": "1.2.0",
            "_view_name": "LayoutView",
            "align_content": null,
            "align_items": null,
            "align_self": null,
            "border": null,
            "bottom": null,
            "display": null,
            "flex": null,
            "flex_flow": null,
            "grid_area": null,
            "grid_auto_columns": null,
            "grid_auto_flow": null,
            "grid_auto_rows": null,
            "grid_column": null,
            "grid_gap": null,
            "grid_row": null,
            "grid_template_areas": null,
            "grid_template_columns": null,
            "grid_template_rows": null,
            "height": null,
            "justify_content": null,
            "justify_items": null,
            "left": null,
            "margin": null,
            "max_height": null,
            "max_width": null,
            "min_height": null,
            "min_width": null,
            "object_fit": null,
            "object_position": null,
            "order": null,
            "overflow": null,
            "overflow_x": null,
            "overflow_y": null,
            "padding": null,
            "right": null,
            "top": null,
            "visibility": "hidden",
            "width": null
          }
        },
        "fd2537bd66db40eea772f09ef901fba0": {
          "model_module": "@jupyter-widgets/base",
          "model_name": "LayoutModel",
          "model_module_version": "1.2.0",
          "state": {
            "_model_module": "@jupyter-widgets/base",
            "_model_module_version": "1.2.0",
            "_model_name": "LayoutModel",
            "_view_count": null,
            "_view_module": "@jupyter-widgets/base",
            "_view_module_version": "1.2.0",
            "_view_name": "LayoutView",
            "align_content": null,
            "align_items": null,
            "align_self": null,
            "border": null,
            "bottom": null,
            "display": null,
            "flex": null,
            "flex_flow": null,
            "grid_area": null,
            "grid_auto_columns": null,
            "grid_auto_flow": null,
            "grid_auto_rows": null,
            "grid_column": null,
            "grid_gap": null,
            "grid_row": null,
            "grid_template_areas": null,
            "grid_template_columns": null,
            "grid_template_rows": null,
            "height": null,
            "justify_content": null,
            "justify_items": null,
            "left": null,
            "margin": null,
            "max_height": null,
            "max_width": null,
            "min_height": null,
            "min_width": null,
            "object_fit": null,
            "object_position": null,
            "order": null,
            "overflow": null,
            "overflow_x": null,
            "overflow_y": null,
            "padding": null,
            "right": null,
            "top": null,
            "visibility": null,
            "width": null
          }
        },
        "4fd008eb050d4b8f9159a7dcfd82a24c": {
          "model_module": "@jupyter-widgets/controls",
          "model_name": "DescriptionStyleModel",
          "model_module_version": "1.5.0",
          "state": {
            "_model_module": "@jupyter-widgets/controls",
            "_model_module_version": "1.5.0",
            "_model_name": "DescriptionStyleModel",
            "_view_count": null,
            "_view_module": "@jupyter-widgets/base",
            "_view_module_version": "1.2.0",
            "_view_name": "StyleView",
            "description_width": ""
          }
        },
        "a2a1abbde21149428ff6d39a6a2a7a83": {
          "model_module": "@jupyter-widgets/base",
          "model_name": "LayoutModel",
          "model_module_version": "1.2.0",
          "state": {
            "_model_module": "@jupyter-widgets/base",
            "_model_module_version": "1.2.0",
            "_model_name": "LayoutModel",
            "_view_count": null,
            "_view_module": "@jupyter-widgets/base",
            "_view_module_version": "1.2.0",
            "_view_name": "LayoutView",
            "align_content": null,
            "align_items": null,
            "align_self": null,
            "border": null,
            "bottom": null,
            "display": null,
            "flex": null,
            "flex_flow": null,
            "grid_area": null,
            "grid_auto_columns": null,
            "grid_auto_flow": null,
            "grid_auto_rows": null,
            "grid_column": null,
            "grid_gap": null,
            "grid_row": null,
            "grid_template_areas": null,
            "grid_template_columns": null,
            "grid_template_rows": null,
            "height": null,
            "justify_content": null,
            "justify_items": null,
            "left": null,
            "margin": null,
            "max_height": null,
            "max_width": null,
            "min_height": null,
            "min_width": null,
            "object_fit": null,
            "object_position": null,
            "order": null,
            "overflow": null,
            "overflow_x": null,
            "overflow_y": null,
            "padding": null,
            "right": null,
            "top": null,
            "visibility": null,
            "width": null
          }
        },
        "587187e992d0492284d8539181a67625": {
          "model_module": "@jupyter-widgets/controls",
          "model_name": "ProgressStyleModel",
          "model_module_version": "1.5.0",
          "state": {
            "_model_module": "@jupyter-widgets/controls",
            "_model_module_version": "1.5.0",
            "_model_name": "ProgressStyleModel",
            "_view_count": null,
            "_view_module": "@jupyter-widgets/base",
            "_view_module_version": "1.2.0",
            "_view_name": "StyleView",
            "bar_color": null,
            "description_width": ""
          }
        },
        "4abaa395574e47a9a697a8667b7e1e06": {
          "model_module": "@jupyter-widgets/base",
          "model_name": "LayoutModel",
          "model_module_version": "1.2.0",
          "state": {
            "_model_module": "@jupyter-widgets/base",
            "_model_module_version": "1.2.0",
            "_model_name": "LayoutModel",
            "_view_count": null,
            "_view_module": "@jupyter-widgets/base",
            "_view_module_version": "1.2.0",
            "_view_name": "LayoutView",
            "align_content": null,
            "align_items": null,
            "align_self": null,
            "border": null,
            "bottom": null,
            "display": null,
            "flex": null,
            "flex_flow": null,
            "grid_area": null,
            "grid_auto_columns": null,
            "grid_auto_flow": null,
            "grid_auto_rows": null,
            "grid_column": null,
            "grid_gap": null,
            "grid_row": null,
            "grid_template_areas": null,
            "grid_template_columns": null,
            "grid_template_rows": null,
            "height": null,
            "justify_content": null,
            "justify_items": null,
            "left": null,
            "margin": null,
            "max_height": null,
            "max_width": null,
            "min_height": null,
            "min_width": null,
            "object_fit": null,
            "object_position": null,
            "order": null,
            "overflow": null,
            "overflow_x": null,
            "overflow_y": null,
            "padding": null,
            "right": null,
            "top": null,
            "visibility": null,
            "width": null
          }
        },
        "0c0ff13e4c774bd785c9e54f0c0f70c7": {
          "model_module": "@jupyter-widgets/controls",
          "model_name": "DescriptionStyleModel",
          "model_module_version": "1.5.0",
          "state": {
            "_model_module": "@jupyter-widgets/controls",
            "_model_module_version": "1.5.0",
            "_model_name": "DescriptionStyleModel",
            "_view_count": null,
            "_view_module": "@jupyter-widgets/base",
            "_view_module_version": "1.2.0",
            "_view_name": "StyleView",
            "description_width": ""
          }
        }
      }
    },
    "gpuClass": "standard"
  },
  "cells": [
    {
      "cell_type": "markdown",
      "metadata": {
        "id": "XPlCKTlKY9TS"
      },
      "source": [
        "This Notebook mostly follows along with [Transformer model for language understanding](https://www.tensorflow.org/tutorials/text/transformer)\n",
        "\n",
        "The main differences is that I used the [Attention layer built into keras](https://www.tensorflow.org/api_docs/python/tf/keras/layers/Attention) and used keras model.fit to train the model\n",
        "\n",
        "I found [The Illustrated Transformer](http://jalammar.github.io/illustrated-transformer/) useful for understanding Attention and Transformers"
      ]
    },
    {
      "cell_type": "code",
      "metadata": {
        "id": "HfrvAt8lO2JO"
      },
      "source": [
        "import tensorflow_datasets as tfds\n",
        "import tensorflow as tf\n",
        "\n",
        "import time\n",
        "import numpy as np\n",
        "import matplotlib.pyplot as plt"
      ],
      "execution_count": null,
      "outputs": []
    },
    {
      "cell_type": "markdown",
      "metadata": {
        "id": "6gjwv8PRRJkF"
      },
      "source": [
        "Check if using a GPU.  \n",
        "Turn on the GPU in Colab: 'Runtime' -> 'Change runtime type', select GPU in the dropdown menu   \n",
        "It is reccomended to leave the GPU off untill you need it for training."
      ]
    },
    {
      "cell_type": "code",
      "metadata": {
        "id": "cIR3e8u2Kh-U",
        "colab": {
          "base_uri": "https://localhost:8080/"
        },
        "outputId": "38572ba3-1411-4e6b-f907-f1edb8dc7e2d"
      },
      "source": [
        "device_name = tf.test.gpu_device_name()\n",
        "if device_name != '/device:GPU:0':\n",
        "  raise SystemError('GPU device not found')\n",
        "print('Found GPU at: {}'.format(device_name))"
      ],
      "execution_count": null,
      "outputs": [
        {
          "output_type": "stream",
          "name": "stdout",
          "text": [
            "Found GPU at: /device:GPU:0\n"
          ]
        }
      ]
    },
    {
      "cell_type": "markdown",
      "metadata": {
        "id": "e9CJFznnTNEW"
      },
      "source": [
        "# Data and input Pipline\n"
      ]
    },
    {
      "cell_type": "markdown",
      "metadata": {
        "id": "v5CZYhQIUoDm"
      },
      "source": [
        "Used [Portugese-English translation dataset](https://www.tensorflow.org/datasets/catalog/ted_hrlr_translate#ted_hrlr_translatept_to_en) from TensorFlow Datasets([tfds](https://www.tensorflow.org/datasets/api_docs/python/tfds))\n",
        "\n",
        "The dataset include other language pairs that you could try to use"
      ]
    },
    {
      "cell_type": "code",
      "metadata": {
        "id": "mTtbkCETO6rz",
        "colab": {
          "base_uri": "https://localhost:8080/",
          "height": 169,
          "referenced_widgets": [
            "af3752b737db41db9c465418b8658324",
            "44b5b0d5d6134499a8517abcc6997ffc",
            "ee962d0b2ccd40d5bea243958412514f",
            "bbab67f15079498c8a7ac6150232992b",
            "b6e68655207d40beb6b063da82fa02d9",
            "5478e8c03c41435a9b0814aa5f4143e7",
            "b4fc3da6e40d4851a23ee14fc0d4a998",
            "c6b1f1b04a644a928121871b42a0c7d6",
            "ea5b6bf3a1a045c6b5844ae7a9b34411",
            "ecb8cc1d2d0e42d2904b187b0df5dd7a",
            "862da33a3941486391c318076a77efb9",
            "8a3f6b3ee80c4323a5e4fd9f08daf97b",
            "c9ad09ee85ac4878b37e26f2c3dad53a",
            "cc096b42c64c43989cff590fb47346df",
            "f91f2f8a332344bf8344e713c14cacde",
            "fa37d7b3b51d4a5f908bd8b7028f8815",
            "b4a042d9815a4552854491feaea58488",
            "a24bbef3a45b4919a60ef0cae0bb203a",
            "c2590c6fbeaa4e74a9c79741f936996b",
            "e8f4b8f32eb64e0b9a50efd9b10107e2",
            "b4afed51cc6949d28acab2a3190958a7",
            "767d511f67bb497c88a025aa168fd488",
            "304d16b8d9ae4da4b11ebd9c1fdfadbd",
            "dfeb78bfaf2a48d68798a40dc436fdfe",
            "cfaf195ab8bf48c280e0d9943ddb3569",
            "d47d1c2940c44c04b32d0acdfd15bf72",
            "82e335b8036b4637952e859162113eba",
            "7c430b696e0e4a31a4df6237bbf8a6bb",
            "711ba01244af479292e819c26241a5e7",
            "092397ed49bc49d2ad1c3cd67b23832f",
            "8eed0a9959194169a6bde90ab9a144df",
            "5452bd8dd06e47fc89d4c575ee45ff28",
            "3dc92c546ba9491f80c2fcfd50315d8c",
            "f0266c88360d4566840e5d785626a1dd",
            "e6ad68f3d46d4e08844c6a9723b16d5d",
            "36242e50c08b4c9a8e857ab7fca36482",
            "292a217829d34a969757f5af7d182f09",
            "cb1d5f53b36b480e913cdfe4afd9989f",
            "9b0a7f96f7d64189a8d4f08ac695c348",
            "ab1e71ab40cd4ed18586da9fda903abc",
            "e9703bcffc6a4b4f86c1781162914bbd",
            "277b93382cfc45ceaf1215b8ab9bf93a",
            "19ec1966a6a64d86a83574c1a4f1b8b5",
            "d76e83ad5da6492fa5ff924768c04673",
            "17495f256b33494d841877841b41bec0",
            "4b6b6537efcd43c08dab66a205b5c47f",
            "049b12509f6345e687125ceba5ef312c",
            "78d77d945ebb423681f526edbb3c453f",
            "7fb75839ed5e47fe834ba2d5da3baad1",
            "ebf0e7ab6265485c8c6f67328b0d1db9",
            "b0196c6043e44c2987fc34ebf0dfc07b",
            "2500fefdb44348a18c4afcfd27967a94",
            "11e7178b3c85497498bb7b5644f0393f",
            "488aa59175bb455382dfebeae2c88ab0",
            "6a390df1c6b0489f8ffc8b26641d38e8",
            "cab245baa2b642e1a754da2cb3e32185",
            "06a23b4a59a7410c9e9e6f765b7e256d",
            "c41958979bd844f5ac40560ff03a7aa0",
            "49d6dc0d532141a586d88caf96ac4ad9",
            "08bee49cab604bb7bb9fea58b120dd93",
            "b4d772ed4d554a9eac1a945b897eb0d0",
            "42b10de681a44a518be4e9a0022ce0cb",
            "e25d42fff2784f6c8dd3a91f60018fdf",
            "ad7feb394f6742a492731b9d85c8f40a",
            "f78ea645a2be421295a90126958dbe9c",
            "6711ac2f2e2e402fa3a3fd037abb039e",
            "a46e319f28134376b9c24121571b1cee",
            "d1a6a9f1178143e99afbdd5a7cd14330",
            "e83b74f5b498499ba3976b20be2ad5b9",
            "9680eaa989f54e7f9ba4ece89c4d821a",
            "a4c33cb17dd5420b841683361c00b17a",
            "35aa0b212696474c940795ccd828505e",
            "b143aa54a0cf4d2582752809326f14e3",
            "d2295d0526db439398934e6f44f74219",
            "d0d57df764244f119b9378f578484774",
            "14b3d237bf874e1c902adfa2fc0cab4c",
            "50c5008bc7374945bc256cb908f37e4e",
            "fc3cf983e2e04c2dabc33b0298204ec7",
            "578fc3734fec407dbc5b4ca09a6ad202",
            "9796abd4cfea4503b174e5288133e4cb",
            "58166a6076f4470fb27dc5ce5911cc46",
            "f3d13b3ea74c482b84240ba499051a5a",
            "2f09fffe283c40abbf77bcd76aecfde3",
            "499b122244514d60b66be83693fe04f1",
            "4b78409b7ad6412eba56044edcb6bda8",
            "9f0a67a8f7684b78870a8f442c608c74",
            "af7cc04afc0b458c8ae90c36d854f416",
            "16e1ca5f23064bb7b4354c5c9bfd39d1",
            "24a1fa652c334fd0bb38da943b81178c",
            "6b7e77ffacf14e82a2f6fce82346e95a",
            "322e1880e42d4329ab23c1d24c3ae4d4",
            "a9814818bb894af1a9b6915eddf1c19a",
            "91cd23d9bee34de18f8f4abd0f216e1d",
            "e349abaceb8a412585b1e2fa4e445957",
            "032dc755cccd4b088db291d7b4a342b5",
            "3d830f7cfe114c7eaef1057e407f3d86",
            "a336bcf5445c46aca62f6c7b6a6c9147",
            "8ca29348b2a543b9a2043db796208263",
            "c6ce8131249b4ddab2843c6384302e9e",
            "aba6da7e522545338d709913305cd496",
            "d578d81a15f54683944966831c89a0e2",
            "bd567f40344a4ca3b55b4083b73c3fdb",
            "07a4b83bb1964fccbbb1fd1c08760a06",
            "fd8a0dc9eaa743f9ad4a8522cea203ea",
            "fd2537bd66db40eea772f09ef901fba0",
            "4fd008eb050d4b8f9159a7dcfd82a24c",
            "a2a1abbde21149428ff6d39a6a2a7a83",
            "587187e992d0492284d8539181a67625",
            "4abaa395574e47a9a697a8667b7e1e06",
            "0c0ff13e4c774bd785c9e54f0c0f70c7"
          ]
        },
        "outputId": "7e67e7a1-e7ad-4ec7-9315-27fd4ef4888a"
      },
      "source": [
        "examples, metadata = tfds.load('ted_hrlr_translate/pt_to_en', with_info=True,\n",
        "                               as_supervised=True)\n",
        "train_examples, val_examples = examples['train'], examples['validation']"
      ],
      "execution_count": null,
      "outputs": [
        {
          "output_type": "stream",
          "name": "stdout",
          "text": [
            "Downloading and preparing dataset Unknown size (download: Unknown size, generated: Unknown size, total: Unknown size) to /root/tensorflow_datasets/ted_hrlr_translate/pt_to_en/1.0.0...\n"
          ]
        },
        {
          "output_type": "display_data",
          "data": {
            "text/plain": [
              "Dl Completed...: 0 url [00:00, ? url/s]"
            ],
            "application/vnd.jupyter.widget-view+json": {
              "version_major": 2,
              "version_minor": 0,
              "model_id": "af3752b737db41db9c465418b8658324"
            }
          },
          "metadata": {}
        },
        {
          "output_type": "display_data",
          "data": {
            "text/plain": [
              "Dl Size...: 0 MiB [00:00, ? MiB/s]"
            ],
            "application/vnd.jupyter.widget-view+json": {
              "version_major": 2,
              "version_minor": 0,
              "model_id": "8a3f6b3ee80c4323a5e4fd9f08daf97b"
            }
          },
          "metadata": {}
        },
        {
          "output_type": "display_data",
          "data": {
            "text/plain": [
              "Extraction completed...: 0 file [00:00, ? file/s]"
            ],
            "application/vnd.jupyter.widget-view+json": {
              "version_major": 2,
              "version_minor": 0,
              "model_id": "304d16b8d9ae4da4b11ebd9c1fdfadbd"
            }
          },
          "metadata": {}
        },
        {
          "output_type": "display_data",
          "data": {
            "text/plain": [
              "Generating splits...:   0%|          | 0/3 [00:00<?, ? splits/s]"
            ],
            "application/vnd.jupyter.widget-view+json": {
              "version_major": 2,
              "version_minor": 0,
              "model_id": "f0266c88360d4566840e5d785626a1dd"
            }
          },
          "metadata": {}
        },
        {
          "output_type": "display_data",
          "data": {
            "text/plain": [
              "Generating train examples...: 0 examples [00:00, ? examples/s]"
            ],
            "application/vnd.jupyter.widget-view+json": {
              "version_major": 2,
              "version_minor": 0,
              "model_id": "17495f256b33494d841877841b41bec0"
            }
          },
          "metadata": {}
        },
        {
          "output_type": "display_data",
          "data": {
            "text/plain": [
              "Shuffling /root/tensorflow_datasets/ted_hrlr_translate/pt_to_en/1.0.0.incompleteAIZXM3/ted_hrlr_translate-trai…"
            ],
            "application/vnd.jupyter.widget-view+json": {
              "version_major": 2,
              "version_minor": 0,
              "model_id": "cab245baa2b642e1a754da2cb3e32185"
            }
          },
          "metadata": {}
        },
        {
          "output_type": "display_data",
          "data": {
            "text/plain": [
              "Generating validation examples...: 0 examples [00:00, ? examples/s]"
            ],
            "application/vnd.jupyter.widget-view+json": {
              "version_major": 2,
              "version_minor": 0,
              "model_id": "a46e319f28134376b9c24121571b1cee"
            }
          },
          "metadata": {}
        },
        {
          "output_type": "display_data",
          "data": {
            "text/plain": [
              "Shuffling /root/tensorflow_datasets/ted_hrlr_translate/pt_to_en/1.0.0.incompleteAIZXM3/ted_hrlr_translate-vali…"
            ],
            "application/vnd.jupyter.widget-view+json": {
              "version_major": 2,
              "version_minor": 0,
              "model_id": "fc3cf983e2e04c2dabc33b0298204ec7"
            }
          },
          "metadata": {}
        },
        {
          "output_type": "display_data",
          "data": {
            "text/plain": [
              "Generating test examples...: 0 examples [00:00, ? examples/s]"
            ],
            "application/vnd.jupyter.widget-view+json": {
              "version_major": 2,
              "version_minor": 0,
              "model_id": "24a1fa652c334fd0bb38da943b81178c"
            }
          },
          "metadata": {}
        },
        {
          "output_type": "display_data",
          "data": {
            "text/plain": [
              "Shuffling /root/tensorflow_datasets/ted_hrlr_translate/pt_to_en/1.0.0.incompleteAIZXM3/ted_hrlr_translate-test…"
            ],
            "application/vnd.jupyter.widget-view+json": {
              "version_major": 2,
              "version_minor": 0,
              "model_id": "aba6da7e522545338d709913305cd496"
            }
          },
          "metadata": {}
        },
        {
          "output_type": "stream",
          "name": "stdout",
          "text": [
            "Dataset ted_hrlr_translate downloaded and prepared to /root/tensorflow_datasets/ted_hrlr_translate/pt_to_en/1.0.0. Subsequent calls will reuse this data.\n"
          ]
        }
      ]
    },
    {
      "cell_type": "code",
      "metadata": {
        "id": "HkXFj2IWw566",
        "colab": {
          "base_uri": "https://localhost:8080/"
        },
        "outputId": "0d1df0d3-c2b2-4cbe-9701-a8e5ec88bce7"
      },
      "source": [
        "[en.numpy() for pt, en in train_examples.take(10)]"
      ],
      "execution_count": null,
      "outputs": [
        {
          "output_type": "execute_result",
          "data": {
            "text/plain": [
              "[b'and when you improve searchability , you actually take away the one advantage of print , which is serendipity .',\n",
              " b'but what if it were active ?',\n",
              " b\"but they did n't test for curiosity .\",\n",
              " b'and this conscious defiance is why i , as an agnostic , can still have faith .',\n",
              " b'you can use everything on the table on me .',\n",
              " b\"`` i write a lot about `` '' security theater , '' '' which are products that make people feel secure , but do n't actually do anything . ''\",\n",
              " b\"and they 've put it deep down in an iron mine in minnesota , ok , deep under the ground , and in fact , in the last couple of days announced the most sensitive results so far .\",\n",
              " b'see , some people might fear girls not liking them back .',\n",
              " b\"no , what happened to us , chris , is that power , it 's priced off the margin .\",\n",
              " b'back to my question : why did i stay ?']"
            ]
          },
          "metadata": {},
          "execution_count": 4
        }
      ]
    },
    {
      "cell_type": "markdown",
      "metadata": {
        "id": "4CIClJh9Wg38"
      },
      "source": [
        "Text tokenized using Byte Pair Encoding.\n",
        "\n",
        "https://www.tensorflow.org/datasets/api_docs/python/tfds/features/text/SubwordTextEncoder"
      ]
    },
    {
      "cell_type": "code",
      "metadata": {
        "id": "N8IcrwtrPGGZ"
      },
      "source": [
        "#####Heiko fix deprecated error message######\n",
        "tokenizer_en = tfds.deprecated.text.SubwordTextEncoder.build_from_corpus(\n",
        "    (en.numpy() for pt, en in train_examples), target_vocab_size=2**13)\n",
        "\n",
        "tokenizer_pt = tfds.deprecated.text.SubwordTextEncoder.build_from_corpus(\n",
        "  (pt.numpy() for pt, en in train_examples), target_vocab_size=2**13)\n",
        "#############\n",
        "\n",
        "# tokenizer_en = tfds.features.text.SubwordTextEncoder.build_from_corpus(\n",
        "#     (en.numpy() for pt, en in train_examples), target_vocab_size=2**13)\n",
        "\n",
        "# tokenizer_pt = tfds.features.text.SubwordTextEncoder.build_from_corpus(\n",
        "#     (pt.numpy() for pt, en in train_examples), target_vocab_size=2**13)"
      ],
      "execution_count": null,
      "outputs": []
    },
    {
      "cell_type": "code",
      "metadata": {
        "id": "RthlX4VOPKgS",
        "colab": {
          "base_uri": "https://localhost:8080/"
        },
        "outputId": "f9bc0097-1def-412a-91f4-aced778942a3"
      },
      "source": [
        "sample_string = 'Transformer is complicated.'\n",
        "\n",
        "tokenized_string = tokenizer_en.encode(sample_string)\n",
        "print ('Tokenized string is {}'.format(tokenized_string))\n",
        "\n",
        "original_string = tokenizer_en.decode(tokenized_string)\n",
        "print ('The original string: {}'.format(original_string))\n",
        "\n",
        "for ts in tokenized_string:\n",
        "  print ('{} ----> {}'.format(ts, tokenizer_en.decode([ts])))\n",
        "\n",
        "assert original_string == sample_string"
      ],
      "execution_count": null,
      "outputs": [
        {
          "output_type": "stream",
          "name": "stdout",
          "text": [
            "Tokenized string is [7915, 1248, 7946, 7194, 13, 3635, 7877]\n",
            "The original string: Transformer is complicated.\n",
            "7915 ----> T\n",
            "1248 ----> ran\n",
            "7946 ----> s\n",
            "7194 ----> former \n",
            "13 ----> is \n",
            "3635 ----> complicated\n",
            "7877 ----> .\n"
          ]
        }
      ]
    },
    {
      "cell_type": "markdown",
      "metadata": {
        "id": "HL8lYdZYcGDQ"
      },
      "source": [
        "Create a funtion to tokenize and add start and end tokens for both languages"
      ]
    },
    {
      "cell_type": "code",
      "metadata": {
        "id": "qgUyNUe6QxFR"
      },
      "source": [
        "def encode(lang1, lang2):\n",
        "  lang1 = [tokenizer_pt.vocab_size] + tokenizer_pt.encode(\n",
        "      lang1.numpy()) + [tokenizer_pt.vocab_size+1]\n",
        "\n",
        "  lang2 = [tokenizer_en.vocab_size] + tokenizer_en.encode(\n",
        "      lang2.numpy()) + [tokenizer_en.vocab_size+1]\n",
        "  \n",
        "  return lang1, lang2"
      ],
      "execution_count": null,
      "outputs": []
    },
    {
      "cell_type": "markdown",
      "metadata": {
        "id": "N1_yUjIgdncT"
      },
      "source": [
        "This is needed to use .map  \n",
        "See https://www.tensorflow.org/tutorials/text/transformer#setup_input_pipeline for more detail"
      ]
    },
    {
      "cell_type": "code",
      "metadata": {
        "id": "J0WxEmfESh6q"
      },
      "source": [
        "def tf_encode(pt, en):\n",
        "  result_pt, result_en = tf.py_function(encode, [pt, en], [tf.int64, tf.int64])\n",
        "  result_pt.set_shape([None])\n",
        "  result_en.set_shape([None])\n",
        "\n",
        "  return result_pt, result_en"
      ],
      "execution_count": null,
      "outputs": []
    },
    {
      "cell_type": "code",
      "metadata": {
        "id": "oiiGOnpgQvGM"
      },
      "source": [
        "BUFFER_SIZE = 20000\n",
        "BATCH_SIZE = 64"
      ],
      "execution_count": null,
      "outputs": []
    },
    {
      "cell_type": "markdown",
      "metadata": {
        "id": "qa9MKksJe4Yu"
      },
      "source": [
        "Drop example where the tokenization of either language is greater then 40\n",
        "This is to keep things fast should work without this "
      ]
    },
    {
      "cell_type": "code",
      "metadata": {
        "id": "bMBZugGJoG9i"
      },
      "source": [
        "MAX_LENGTH = 40"
      ],
      "execution_count": null,
      "outputs": []
    },
    {
      "cell_type": "code",
      "metadata": {
        "id": "5hRshWw7oJ1C"
      },
      "source": [
        "def filter_max_length(x, y, max_length=MAX_LENGTH):\n",
        "  return tf.logical_and(tf.size(x) <= max_length,\n",
        "                        tf.size(y) <= max_length)"
      ],
      "execution_count": null,
      "outputs": []
    },
    {
      "cell_type": "code",
      "metadata": {
        "id": "MZPNG2fdpZG-"
      },
      "source": [
        "train_dataset = train_examples.map(tf_encode)\n",
        "train_dataset = train_dataset.filter(filter_max_length)\n",
        "# cache the dataset to memory to get a speedup while reading from it.\n",
        "train_dataset = train_dataset.cache()\n",
        "train_dataset = train_dataset.shuffle(BUFFER_SIZE).padded_batch(BATCH_SIZE)\n",
        "train_dataset = train_dataset.prefetch(tf.data.experimental.AUTOTUNE)\n",
        "\n",
        "\n",
        "val_dataset = val_examples.map(tf_encode)\n",
        "val_dataset = val_dataset.filter(filter_max_length).padded_batch(BATCH_SIZE)"
      ],
      "execution_count": null,
      "outputs": []
    },
    {
      "cell_type": "code",
      "metadata": {
        "id": "xdu5CgbUtx0g",
        "colab": {
          "base_uri": "https://localhost:8080/"
        },
        "outputId": "2ddd1db4-cd8e-4db3-98f4-773970fbb819"
      },
      "source": [
        "pt_batch, en_batch = next(iter(val_dataset))\n",
        "pt_batch, en_batch"
      ],
      "execution_count": null,
      "outputs": [
        {
          "output_type": "execute_result",
          "data": {
            "text/plain": [
              "(<tf.Tensor: shape=(64, 38), dtype=int64, numpy=\n",
              " array([[8214,  342, 3032, ...,    0,    0,    0],\n",
              "        [8214,   95,  198, ...,    0,    0,    0],\n",
              "        [8214, 4479, 7990, ...,    0,    0,    0],\n",
              "        ...,\n",
              "        [8214,  584,   12, ...,    0,    0,    0],\n",
              "        [8214,   59, 1548, ...,    0,    0,    0],\n",
              "        [8214,  118,   34, ...,    0,    0,    0]])>,\n",
              " <tf.Tensor: shape=(64, 40), dtype=int64, numpy=\n",
              " array([[8087,   98,   25, ...,    0,    0,    0],\n",
              "        [8087,   12,   20, ...,    0,    0,    0],\n",
              "        [8087,   12, 5453, ...,    0,    0,    0],\n",
              "        ...,\n",
              "        [8087,   18, 2059, ...,    0,    0,    0],\n",
              "        [8087,   16, 1436, ...,    0,    0,    0],\n",
              "        [8087,   15,   57, ...,    0,    0,    0]])>)"
            ]
          },
          "metadata": {},
          "execution_count": 13
        }
      ]
    },
    {
      "cell_type": "markdown",
      "metadata": {
        "id": "udEXAB52fx6p"
      },
      "source": [
        "# Positional Encoding\n",
        "A vector added to the embedding to encode positional information\n",
        "\n",
        "https://www.tensorflow.org/tutorials/text/transformer#positional_encoding"
      ]
    },
    {
      "cell_type": "code",
      "metadata": {
        "id": "d_HhzsSNRFs8"
      },
      "source": [
        "def get_angles(pos, i, d_model):\n",
        "  angle_rates = 1 / np.power(10000, (2 * (i//2)) / np.float32(d_model))\n",
        "  return pos * angle_rates"
      ],
      "execution_count": null,
      "outputs": []
    },
    {
      "cell_type": "code",
      "metadata": {
        "id": "yI-t0hWpRxGj"
      },
      "source": [
        "def positional_encoding(position, d_model):\n",
        "  angle_rads = get_angles(np.arange(position)[:, np.newaxis],\n",
        "                          np.arange(d_model)[np.newaxis, :],\n",
        "                          d_model)\n",
        "  \n",
        "  # apply sin to even indices in the array; 2i\n",
        "  angle_rads[:, 0::2] = np.sin(angle_rads[:, 0::2])\n",
        "  \n",
        "  # apply cos to odd indices in the array; 2i+1\n",
        "  angle_rads[:, 1::2] = np.cos(angle_rads[:, 1::2])\n",
        "    \n",
        "  pos_encoding = angle_rads[np.newaxis, ...]\n",
        "    \n",
        "  return tf.cast(pos_encoding, dtype=tf.float32)"
      ],
      "execution_count": null,
      "outputs": []
    },
    {
      "cell_type": "code",
      "metadata": {
        "id": "WAnFbTgIvU7h",
        "colab": {
          "base_uri": "https://localhost:8080/",
          "height": 473
        },
        "outputId": "4fe958bb-2358-4726-bf17-c15d8f32ba5e"
      },
      "source": [
        "pos_encoding = positional_encoding(50, 512)\n",
        "print (pos_encoding.shape)\n",
        "\n",
        "plt.pcolormesh(pos_encoding[0], cmap='RdBu')\n",
        "plt.xlabel('Depth')\n",
        "plt.xlim((0, 512))\n",
        "plt.ylabel('Position')\n",
        "plt.colorbar()\n",
        "plt.show()"
      ],
      "execution_count": null,
      "outputs": [
        {
          "output_type": "stream",
          "name": "stdout",
          "text": [
            "(1, 50, 512)\n"
          ]
        },
        {
          "output_type": "display_data",
          "data": {
            "text/plain": [
              "<Figure size 640x480 with 2 Axes>"
            ],
            "image/png": "[encoded data removed]"
          },
          "metadata": {}
        }
      ]
    },
    {
      "cell_type": "markdown",
      "metadata": {
        "id": "SOueEfaSh9r6"
      },
      "source": [
        "# Attention"
      ]
    },
    {
      "cell_type": "markdown",
      "metadata": {
        "id": "ap95T6pfi0oP"
      },
      "source": [
        "Basic attention test. Compare results with  \n",
        "https://www.tensorflow.org/tutorials/text/transformer#scaled_dot_product_attention\n",
        "\n",
        "Shape = (batch_size , seq_length, depth)"
      ]
    },
    {
      "cell_type": "code",
      "metadata": {
        "id": "69RkcXS9ilII",
        "colab": {
          "base_uri": "https://localhost:8080/"
        },
        "outputId": "cfe065eb-a1a1-4e9b-99e6-21d61e85479a"
      },
      "source": [
        "query = tf.keras.layers.Input(shape=(None,3,))\n",
        "value = tf.keras.layers.Input(shape=(4,2,)) \n",
        "key = tf.keras.layers.Input(shape=(4,3,))\n",
        "\n",
        "x = tf.keras.layers.Attention()([query, value, key])\n",
        "model = tf.keras.models.Model(inputs=[query, value, key], outputs=x)\n",
        "model.summary()"
      ],
      "execution_count": null,
      "outputs": [
        {
          "output_type": "stream",
          "name": "stdout",
          "text": [
            "Model: \"model\"\n",
            "__________________________________________________________________________________________________\n",
            " Layer (type)                   Output Shape         Param #     Connected to                     \n",
            "==================================================================================================\n",
            " input_1 (InputLayer)           [(None, None, 3)]    0           []                               \n",
            "                                                                                                  \n",
            " input_2 (InputLayer)           [(None, 4, 2)]       0           []                               \n",
            "                                                                                                  \n",
            " input_3 (InputLayer)           [(None, 4, 3)]       0           []                               \n",
            "                                                                                                  \n",
            " attention (Attention)          (None, None, 2)      0           ['input_1[0][0]',                \n",
            "                                                                  'input_2[0][0]',                \n",
            "                                                                  'input_3[0][0]']                \n",
            "                                                                                                  \n",
            "==================================================================================================\n",
            "Total params: 0\n",
            "Trainable params: 0\n",
            "Non-trainable params: 0\n",
            "__________________________________________________________________________________________________\n"
          ]
        }
      ]
    },
    {
      "cell_type": "code",
      "metadata": {
        "id": "M6W3xVFG1kwf",
        "colab": {
          "base_uri": "https://localhost:8080/"
        },
        "outputId": "cb2d37d8-04f0-4c62-cc9e-f904a9b2b410"
      },
      "source": [
        "temp_k = tf.constant([[[10,0,0],\n",
        "                      [0,10,0],\n",
        "                      [0,0,10],\n",
        "                      [0,0,10]]], dtype=tf.float32)  # (4, 3)\n",
        "\n",
        "temp_v = tf.constant([[[   1,0],\n",
        "                      [  10,0],\n",
        "                      [ 100,5],\n",
        "                      [1000,6]]], dtype=tf.float32)  # (4, 2)\n",
        "\n",
        "temp_q = tf.constant([[[0, 10, 0]]], dtype=tf.float32)  # (1, 3)\n",
        "model.predict([temp_q,temp_v,temp_k])"
      ],
      "execution_count": null,
      "outputs": [
        {
          "output_type": "stream",
          "name": "stdout",
          "text": [
            "1/1 [==============================] - 3s 3s/step\n"
          ]
        },
        {
          "output_type": "execute_result",
          "data": {
            "text/plain": [
              "array([[[10.,  0.]]], dtype=float32)"
            ]
          },
          "metadata": {},
          "execution_count": 18
        }
      ]
    },
    {
      "cell_type": "code",
      "metadata": {
        "id": "2TE96xLn15vK",
        "colab": {
          "base_uri": "https://localhost:8080/"
        },
        "outputId": "71be0804-1c6a-4797-83ca-b02ee5a185ee"
      },
      "source": [
        "temp_q = tf.constant([[[0, 0, 10]]], dtype=tf.float32)  # (1, 3)\n",
        "model.predict([temp_q,temp_v,temp_k])"
      ],
      "execution_count": null,
      "outputs": [
        {
          "output_type": "stream",
          "name": "stdout",
          "text": [
            "1/1 [==============================] - 0s 20ms/step\n"
          ]
        },
        {
          "output_type": "execute_result",
          "data": {
            "text/plain": [
              "array([[[550. ,   5.5]]], dtype=float32)"
            ]
          },
          "metadata": {},
          "execution_count": 19
        }
      ]
    },
    {
      "cell_type": "code",
      "metadata": {
        "id": "JSW_wCMm2KET",
        "colab": {
          "base_uri": "https://localhost:8080/"
        },
        "outputId": "df5679f5-c2a6-434d-901a-d6893a0d804f"
      },
      "source": [
        "temp_q = tf.constant([[[10, 10, 0]]], dtype=tf.float32)  # (1, 3)\n",
        "model.predict([temp_q,temp_v,temp_k])"
      ],
      "execution_count": null,
      "outputs": [
        {
          "output_type": "stream",
          "name": "stdout",
          "text": [
            "1/1 [==============================] - 0s 23ms/step\n"
          ]
        },
        {
          "output_type": "execute_result",
          "data": {
            "text/plain": [
              "array([[[5.5, 0. ]]], dtype=float32)"
            ]
          },
          "metadata": {},
          "execution_count": 20
        }
      ]
    },
    {
      "cell_type": "code",
      "metadata": {
        "id": "CaLdbnPx2M18",
        "colab": {
          "base_uri": "https://localhost:8080/"
        },
        "outputId": "a6678aa9-cfc4-47b3-d7ac-3c67854a93ac"
      },
      "source": [
        "temp_q = tf.constant([[[0, 0, 10], [0, 10, 0], [10, 10, 0]]], dtype=tf.float32)  # (3, 3)\n",
        "model.predict([temp_q,temp_v,temp_k])"
      ],
      "execution_count": null,
      "outputs": [
        {
          "output_type": "stream",
          "name": "stdout",
          "text": [
            "1/1 [==============================] - 0s 44ms/step\n"
          ]
        },
        {
          "output_type": "execute_result",
          "data": {
            "text/plain": [
              "array([[[550. ,   5.5],\n",
              "        [ 10. ,   0. ],\n",
              "        [  5.5,   0. ]]], dtype=float32)"
            ]
          },
          "metadata": {},
          "execution_count": 21
        }
      ]
    },
    {
      "cell_type": "markdown",
      "metadata": {
        "id": "8lwPLeF0mqZj"
      },
      "source": [
        "test of Attention with comparable shapes to the 2nd attention block in the transformer decoder (except not multi headed)"
      ]
    },
    {
      "cell_type": "code",
      "metadata": {
        "id": "FsOoof95uUHd",
        "colab": {
          "base_uri": "https://localhost:8080/"
        },
        "outputId": "adda2e7b-48d3-4d9d-8b6d-8f60faa59bcb"
      },
      "source": [
        "enc = tf.keras.layers.Input(shape=(40,512,))\n",
        "tar = tf.keras.layers.Input(shape=(38,512,)) \n",
        "\n",
        "x = tf.keras.layers.Attention()([tar, enc, enc],mask = [None,None])\n",
        "model = tf.keras.models.Model(inputs=[tar, enc], outputs=x)\n",
        "model.summary()"
      ],
      "execution_count": null,
      "outputs": [
        {
          "output_type": "stream",
          "name": "stdout",
          "text": [
            "Model: \"model_1\"\n",
            "__________________________________________________________________________________________________\n",
            " Layer (type)                   Output Shape         Param #     Connected to                     \n",
            "==================================================================================================\n",
            " input_5 (InputLayer)           [(None, 38, 512)]    0           []                               \n",
            "                                                                                                  \n",
            " input_4 (InputLayer)           [(None, 40, 512)]    0           []                               \n",
            "                                                                                                  \n",
            " attention_1 (Attention)        (None, 38, 512)      0           ['input_5[0][0]',                \n",
            "                                                                  'input_4[0][0]',                \n",
            "                                                                  'input_4[0][0]']                \n",
            "                                                                                                  \n",
            "==================================================================================================\n",
            "Total params: 0\n",
            "Trainable params: 0\n",
            "Non-trainable params: 0\n",
            "__________________________________________________________________________________________________\n"
          ]
        }
      ]
    },
    {
      "cell_type": "markdown",
      "metadata": {
        "id": "dXKQrhS15MQQ"
      },
      "source": [
        "## Multi Headed Attention"
      ]
    },
    {
      "cell_type": "markdown",
      "metadata": {
        "id": "8QXu7IDrmGT7"
      },
      "source": [
        "Test of multi-headed Attention    \n",
        "Shape = (batch_size , num_heads, seq_length, depth)"
      ]
    },
    {
      "cell_type": "code",
      "metadata": {
        "id": "5gPi8JJd731w",
        "colab": {
          "base_uri": "https://localhost:8080/"
        },
        "outputId": "b73baa89-ec7a-4e16-9fd7-aeb5ba84c6e6"
      },
      "source": [
        "num_heads = None\n",
        "query = tf.keras.layers.Input(shape=(num_heads,None,3,))  \n",
        "value = tf.keras.layers.Input(shape=(num_heads,4,2,)) \n",
        "key = tf.keras.layers.Input(shape=(num_heads,4,3,))\n",
        "\n",
        "x = tf.keras.layers.Attention()([query, value, key])\n",
        "model = tf.keras.models.Model(inputs=[query, value, key], outputs=x)\n",
        "model.summary()"
      ],
      "execution_count": null,
      "outputs": [
        {
          "output_type": "stream",
          "name": "stdout",
          "text": [
            "Model: \"model_2\"\n",
            "__________________________________________________________________________________________________\n",
            " Layer (type)                   Output Shape         Param #     Connected to                     \n",
            "==================================================================================================\n",
            " input_6 (InputLayer)           [(None, None, None,  0           []                               \n",
            "                                 3)]                                                              \n",
            "                                                                                                  \n",
            " input_7 (InputLayer)           [(None, None, 4, 2)  0           []                               \n",
            "                                ]                                                                 \n",
            "                                                                                                  \n",
            " input_8 (InputLayer)           [(None, None, 4, 3)  0           []                               \n",
            "                                ]                                                                 \n",
            "                                                                                                  \n",
            " attention_2 (Attention)        (None, None, None,   0           ['input_6[0][0]',                \n",
            "                                2)                                'input_7[0][0]',                \n",
            "                                                                  'input_8[0][0]']                \n",
            "                                                                                                  \n",
            "==================================================================================================\n",
            "Total params: 0\n",
            "Trainable params: 0\n",
            "Non-trainable params: 0\n",
            "__________________________________________________________________________________________________\n"
          ]
        }
      ]
    },
    {
      "cell_type": "code",
      "metadata": {
        "id": "x0tI1mcIvdXR",
        "colab": {
          "base_uri": "https://localhost:8080/"
        },
        "outputId": "0419d4b5-b7f2-40b9-ba89-8c665bfd1dad"
      },
      "source": [
        "q = np.array([[[[0, 0, 10],     # head 1\n",
        "                [0, 10, 0],\n",
        "                [10, 10, 0]], \n",
        "               [[0, 0, 20],     # head 2\n",
        "                [0, 20, 0],\n",
        "                [10, 10, 0]]\n",
        "               ]])\n",
        "v = np.array([[[[   1,0],      # head 1\n",
        "                [  10,0],\n",
        "                [ 100,5],\n",
        "                [1000,6]],\n",
        "               [[   1, 0],     # head 2\n",
        "                [   2, 0],\n",
        "                [   3,15],\n",
        "                [   4,20]]]])\n",
        "k = np.array([[[[10,0,0],      # head 1\n",
        "                [0,10,0],\n",
        "                [0,0,10],\n",
        "                [0,0,10]],\n",
        "               [[10,0,5],      # head 2\n",
        "                [0,10,0],\n",
        "                [0,5,10],\n",
        "                [5,0,10]]]])\n",
        " \n",
        "model.predict([q,v,k])"
      ],
      "execution_count": null,
      "outputs": [
        {
          "output_type": "stream",
          "name": "stdout",
          "text": [
            "1/1 [==============================] - 0s 47ms/step\n"
          ]
        },
        {
          "output_type": "execute_result",
          "data": {
            "text/plain": [
              "array([[[[5.5000000e+02, 5.5000000e+00],\n",
              "         [1.0000000e+01, 0.0000000e+00],\n",
              "         [5.5000000e+00, 0.0000000e+00]],\n",
              "\n",
              "        [[3.5000000e+00, 1.7500000e+01],\n",
              "         [2.0000000e+00, 0.0000000e+00],\n",
              "         [1.5000000e+00, 3.3753123e-21]]]], dtype=float32)"
            ]
          },
          "metadata": {},
          "execution_count": 24
        }
      ]
    },
    {
      "cell_type": "markdown",
      "metadata": {
        "id": "2gk0dIJP6z35"
      },
      "source": [
        "For each of [query, value, key]   \n",
        "we reshape from  (batch_size , seq_length, depth) ->  (batch_size , seq_length, num_heads, multi_headed_depth)   \n",
        "then permute  ->  (batch_size , num_heads, seq_length, multi_headed_depth)  \n",
        "where multi-headed_depth = depth / num_heads"
      ]
    },
    {
      "cell_type": "code",
      "metadata": {
        "id": "KNZRelVEt3zr"
      },
      "source": [
        "class MultiHeadAttention(tf.keras.layers.Layer):\n",
        "  def __init__(self, d_model = 512, num_heads = 8, causal=False, dropout=0.0):\n",
        "    super(MultiHeadAttention, self).__init__()\n",
        "\n",
        "    assert d_model % num_heads == 0\n",
        "    depth = d_model // num_heads\n",
        "\n",
        "    self.w_query = tf.keras.layers.Dense(d_model)\n",
        "    self.split_reshape_query = tf.keras.layers.Reshape((-1,num_heads,depth))  \n",
        "    self.split_permute_query = tf.keras.layers.Permute((2,1,3))      \n",
        "\n",
        "    self.w_value = tf.keras.layers.Dense(d_model)\n",
        "    self.split_reshape_value = tf.keras.layers.Reshape((-1,num_heads,depth))\n",
        "    self.split_permute_value = tf.keras.layers.Permute((2,1,3))\n",
        "\n",
        "    self.w_key = tf.keras.layers.Dense(d_model)\n",
        "    self.split_reshape_key = tf.keras.layers.Reshape((-1,num_heads,depth))\n",
        "    self.split_permute_key = tf.keras.layers.Permute((2,1,3))\n",
        "\n",
        "    self.attention = tf.keras.layers.Attention(causal=causal, dropout=dropout)\n",
        "    self.join_permute_attention = tf.keras.layers.Permute((2,1,3))\n",
        "    self.join_reshape_attention = tf.keras.layers.Reshape((-1,d_model))\n",
        "\n",
        "    self.dense = tf.keras.layers.Dense(d_model)\n",
        "\n",
        "  def call(self, inputs, mask=None, training=None):\n",
        "    q = inputs[0]\n",
        "    v = inputs[1]\n",
        "    k = inputs[2] if len(inputs) > 2 else v\n",
        "\n",
        "    query = self.w_query(q)\n",
        "    query = self.split_reshape_query(query)    \n",
        "    query = self.split_permute_query(query)                 \n",
        "\n",
        "    value = self.w_value(v)\n",
        "    value = self.split_reshape_value(value)\n",
        "    value = self.split_permute_value(value)\n",
        "\n",
        "    key = self.w_key(k)\n",
        "    key = self.split_reshape_key(key)\n",
        "    key = self.split_permute_key(key)\n",
        "\n",
        "    if mask is not None:\n",
        "      if mask[0] is not None:\n",
        "        mask[0] = tf.keras.layers.Reshape((-1,1))(mask[0])\n",
        "        mask[0] = tf.keras.layers.Permute((2,1))(mask[0])\n",
        "      if mask[1] is not None:\n",
        "        mask[1] = tf.keras.layers.Reshape((-1,1))(mask[1])\n",
        "        mask[1] = tf.keras.layers.Permute((2,1))(mask[1])\n",
        "\n",
        "    attention = self.attention([query, value, key], mask=mask)\n",
        "    attention = self.join_permute_attention(attention)\n",
        "    attention = self.join_reshape_attention(attention)\n",
        "\n",
        "    x = self.dense(attention)\n",
        "\n",
        "    return x"
      ],
      "execution_count": null,
      "outputs": []
    },
    {
      "cell_type": "markdown",
      "metadata": {
        "id": "tnEGb28n80cO"
      },
      "source": [
        "# Encoder and Decoder"
      ]
    },
    {
      "cell_type": "markdown",
      "metadata": {
        "id": "NeGiHEQU8hlU"
      },
      "source": [
        "## Encoder and Decoder Layers"
      ]
    },
    {
      "cell_type": "code",
      "metadata": {
        "id": "A7KMjvg6oeZF"
      },
      "source": [
        "class EncoderLayer(tf.keras.layers.Layer):\n",
        "  def __init__(self,  d_model = 512, num_heads = 8, dff = 2048, dropout = 0.0):\n",
        "    super(EncoderLayer, self).__init__()\n",
        "\n",
        "    self.multi_head_attention =  MultiHeadAttention(d_model, num_heads)\n",
        "    self.dropout_attention = tf.keras.layers.Dropout(dropout)\n",
        "    self.add_attention = tf.keras.layers.Add()\n",
        "    self.layer_norm_attention = tf.keras.layers.LayerNormalization(epsilon=1e-6)\n",
        "\n",
        "    self.dense1 = tf.keras.layers.Dense(dff, activation='relu')\n",
        "    self.dense2 = tf.keras.layers.Dense(d_model)\n",
        "    self.dropout_dense = tf.keras.layers.Dropout(dropout)\n",
        "    self.add_dense = tf.keras.layers.Add()\n",
        "    self.layer_norm_dense = tf.keras.layers.LayerNormalization(epsilon=1e-6)\n",
        "\n",
        "  def call(self, inputs, mask=None, training=None):\n",
        "    # print(mask)\n",
        "    attention = self.multi_head_attention([inputs,inputs,inputs], mask = [mask,mask])\n",
        "    attention = self.dropout_attention(attention, training = training)\n",
        "    x = self.add_attention([inputs , attention])\n",
        "    x = self.layer_norm_attention(x)\n",
        "    # x = inputs\n",
        "\n",
        "    ## Feed Forward\n",
        "    dense = self.dense1(x)\n",
        "    dense = self.dense2(dense)\n",
        "    dense = self.dropout_dense(dense, training = training)\n",
        "    x = self.add_dense([x , dense])\n",
        "    x = self.layer_norm_dense(x)\n",
        "\n",
        "    return x"
      ],
      "execution_count": null,
      "outputs": []
    },
    {
      "cell_type": "markdown",
      "metadata": {
        "id": "A5hZJABBrvod"
      },
      "source": [
        "the causal = True argument for multi_head_attention1 automatically masks  future tokens in the sequence"
      ]
    },
    {
      "cell_type": "code",
      "metadata": {
        "id": "M1A3u3mkKAK1"
      },
      "source": [
        "class DecoderLayer(tf.keras.layers.Layer):\n",
        "  def __init__(self,  d_model = 512, num_heads = 8, dff = 2048, dropout = 0.0):\n",
        "    super(DecoderLayer, self).__init__()\n",
        "\n",
        "    self.multi_head_attention1 =  MultiHeadAttention(d_model, num_heads, causal = True)\n",
        "    self.dropout_attention1 = tf.keras.layers.Dropout(dropout)\n",
        "    self.add_attention1 = tf.keras.layers.Add()\n",
        "    self.layer_norm_attention1 = tf.keras.layers.LayerNormalization(epsilon=1e-6)\n",
        "\n",
        "    self.multi_head_attention2 =  MultiHeadAttention(d_model, num_heads)\n",
        "    self.dropout_attention2 = tf.keras.layers.Dropout(dropout)\n",
        "    self.add_attention2 = tf.keras.layers.Add()\n",
        "    self.layer_norm_attention2 = tf.keras.layers.LayerNormalization(epsilon=1e-6)\n",
        "\n",
        "\n",
        "    self.dense1 = tf.keras.layers.Dense(dff, activation='relu')\n",
        "    self.dense2 = tf.keras.layers.Dense(d_model)\n",
        "    self.dropout_dense = tf.keras.layers.Dropout(dropout)\n",
        "    self.add_dense = tf.keras.layers.Add()\n",
        "    self.layer_norm_dense = tf.keras.layers.LayerNormalization(epsilon=1e-6)\n",
        "\n",
        "  def call(self, inputs, mask=None, training=None):\n",
        "    # print(mask)\n",
        "    attention = self.multi_head_attention1([inputs[0],inputs[0],inputs[0]], mask = [mask[0],mask[0]])\n",
        "    attention = self.dropout_attention1(attention, training = training)\n",
        "    x = self.add_attention1([inputs[0] , attention])\n",
        "    x = self.layer_norm_attention1(x)\n",
        "    \n",
        "    attention = self.multi_head_attention2([x, inputs[1],inputs[1]], mask = [mask[0],mask[1]])\n",
        "    attention = self.dropout_attention2(attention, training = training)\n",
        "    x = self.add_attention1([x , attention])\n",
        "    x = self.layer_norm_attention1(x)\n",
        "\n",
        "\n",
        "    ## Feed Forward\n",
        "    dense = self.dense1(x)\n",
        "    dense = self.dense2(dense)\n",
        "    dense = self.dropout_dense(dense, training = training)\n",
        "    x = self.add_dense([x , dense])\n",
        "    x = self.layer_norm_dense(x)\n",
        "\n",
        "    return x"
      ],
      "execution_count": null,
      "outputs": []
    },
    {
      "cell_type": "markdown",
      "metadata": {
        "id": "fRONqwb78use"
      },
      "source": [
        "## Encoder and Decoder Blocks\n",
        "The encoder/decoder block \n",
        "\n",
        "1.   embeds the input\n",
        "2.   adds positional encoding to the embeding\n",
        "3.   adds n encoder/decoder layers\n"
      ]
    },
    {
      "cell_type": "code",
      "metadata": {
        "id": "4zh-sfOMzLRQ"
      },
      "source": [
        "class Encoder(tf.keras.layers.Layer):\n",
        "  def __init__(self, input_vocab_size, num_layers = 4, d_model = 512, num_heads = 8, dff = 2048, maximum_position_encoding = 10000, dropout = 0.0):\n",
        "    super(Encoder, self).__init__()\n",
        "\n",
        "    self.d_model = d_model\n",
        "\n",
        "    self.embedding = tf.keras.layers.Embedding(input_vocab_size, d_model, mask_zero=True)\n",
        "    self.pos = positional_encoding(maximum_position_encoding, d_model)\n",
        "\n",
        "    self.encoder_layers = [ EncoderLayer(d_model = d_model, num_heads = num_heads, dff = dff, dropout = dropout) for _ in range(num_layers)]\n",
        "\n",
        "    self.dropout = tf.keras.layers.Dropout(dropout)\n",
        "\n",
        "  def call(self, inputs, mask=None, training=None):\n",
        "    x = self.embedding(inputs)\n",
        "    # positional encoding\n",
        "    x *= tf.math.sqrt(tf.cast(self.d_model, tf.float32))  # scaling by the sqrt of d_model, not sure why or if needed??\n",
        "    x += self.pos[: , :tf.shape(x)[1], :]\n",
        "\n",
        "    x = self.dropout(x, training=training)\n",
        "\n",
        "    #Encoder layer\n",
        "    embedding_mask = self.embedding.compute_mask(inputs)\n",
        "    for encoder_layer in self.encoder_layers:\n",
        "      x = encoder_layer(x, mask = embedding_mask)\n",
        "\n",
        "    return x\n",
        "\n",
        "  def compute_mask(self, inputs, mask=None):\n",
        "    return self.embedding.compute_mask(inputs)"
      ],
      "execution_count": null,
      "outputs": []
    },
    {
      "cell_type": "code",
      "metadata": {
        "id": "JaHXOI7UMNiQ"
      },
      "source": [
        "class Decoder(tf.keras.layers.Layer):\n",
        "  def __init__(self, target_vocab_size, num_layers = 4, d_model = 512, num_heads = 8, dff = 2048, maximum_position_encoding = 10000, dropout = 0.0):\n",
        "    super(Decoder, self).__init__()\n",
        "\n",
        "    self.d_model = d_model\n",
        "\n",
        "    self.embedding = tf.keras.layers.Embedding(target_vocab_size, d_model, mask_zero=True)\n",
        "    self.pos = positional_encoding(maximum_position_encoding, d_model)\n",
        "\n",
        "    self.decoder_layers = [ DecoderLayer(d_model = d_model, num_heads = num_heads, dff = dff, dropout = dropout)  for _ in range(num_layers)]\n",
        "\n",
        "    self.dropout = tf.keras.layers.Dropout(dropout)\n",
        "\n",
        "  def call(self, inputs, mask=None, training=None):\n",
        "    x = self.embedding(inputs[0])\n",
        "    # positional encoding\n",
        "    x *= tf.math.sqrt(tf.cast(self.d_model, tf.float32))  # scaling by the sqrt of d_model, not sure why or if needed??\n",
        "    x += self.pos[: , :tf.shape(x)[1], :]\n",
        "\n",
        "    x = self.dropout(x, training=training)\n",
        "\n",
        "    #Decoder layer\n",
        "    embedding_mask = self.embedding.compute_mask(inputs[0])\n",
        "    for decoder_layer in self.decoder_layers:\n",
        "      x = decoder_layer([x,inputs[1]], mask = [embedding_mask, mask])\n",
        "\n",
        "    return x\n",
        "\n",
        "  # Comment this out if you want to use the masked_loss()\n",
        "  def compute_mask(self, inputs, mask=None):\n",
        "    return self.embedding.compute_mask(inputs[0])"
      ],
      "execution_count": null,
      "outputs": []
    },
    {
      "cell_type": "markdown",
      "metadata": {
        "id": "oOsWp_L19qm8"
      },
      "source": [
        "# Transformer model"
      ]
    },
    {
      "cell_type": "code",
      "metadata": {
        "id": "6wOZpgGc8hSH",
        "colab": {
          "base_uri": "https://localhost:8080/"
        },
        "outputId": "78f40472-f357-4dc9-9ec3-3fc3ba0bb0c2"
      },
      "source": [
        "num_layers = 4\n",
        "d_model = 128\n",
        "dff = 512\n",
        "num_heads = 8\n",
        "\n",
        "dropout_rate = 0.1\n",
        "\n",
        "input_vocab_size = tokenizer_pt.vocab_size + 2\n",
        "target_vocab_size = tokenizer_en.vocab_size + 2\n",
        "\n",
        "\n",
        "input = tf.keras.layers.Input(shape=(None,))\n",
        "target = tf.keras.layers.Input(shape=(None,))\n",
        "encoder = Encoder(input_vocab_size, num_layers = num_layers, d_model = d_model, num_heads = num_heads, dff = dff, dropout = dropout_rate)\n",
        "decoder = Decoder(target_vocab_size, num_layers = num_layers, d_model = d_model, num_heads = num_heads, dff = dff, dropout = dropout_rate)\n",
        "\n",
        "x = encoder(input)\n",
        "x = decoder([target, x] , mask = encoder.compute_mask(input))\n",
        "#  tf.keras.layers.Masking ??\n",
        "x = tf.keras.layers.Dense(target_vocab_size)(x)\n",
        "\n",
        "model = tf.keras.models.Model(inputs=[input, target], outputs=x)\n",
        "model.summary()"
      ],
      "execution_count": null,
      "outputs": [
        {
          "output_type": "stream",
          "name": "stderr",
          "text": [
            "WARNING:absl:`causal` argument is deprecated. Please use `use_causal_mask` in call() method to specify causal masking.\n",
            "WARNING:absl:`causal` argument is deprecated. Please use `use_causal_mask` in call() method to specify causal masking.\n",
            "WARNING:absl:`causal` argument is deprecated. Please use `use_causal_mask` in call() method to specify causal masking.\n",
            "WARNING:absl:`causal` argument is deprecated. Please use `use_causal_mask` in call() method to specify causal masking.\n",
            "WARNING:absl:`causal` argument is deprecated. Please use `use_causal_mask` in call() method to specify causal masking.\n",
            "WARNING:absl:`causal` argument is deprecated. Please use `use_causal_mask` in call() method to specify causal masking.\n",
            "WARNING:absl:`causal` argument is deprecated. Please use `use_causal_mask` in call() method to specify causal masking.\n",
            "WARNING:absl:`causal` argument is deprecated. Please use `use_causal_mask` in call() method to specify causal masking.\n",
            "WARNING:absl:`causal` argument is deprecated. Please use `use_causal_mask` in call() method to specify causal masking.\n",
            "WARNING:absl:`causal` argument is deprecated. Please use `use_causal_mask` in call() method to specify causal masking.\n",
            "WARNING:absl:`causal` argument is deprecated. Please use `use_causal_mask` in call() method to specify causal masking.\n",
            "WARNING:absl:`causal` argument is deprecated. Please use `use_causal_mask` in call() method to specify causal masking.\n"
          ]
        },
        {
          "output_type": "stream",
          "name": "stdout",
          "text": [
            "Model: \"model_3\"\n",
            "__________________________________________________________________________________________________\n",
            " Layer (type)                   Output Shape         Param #     Connected to                     \n",
            "==================================================================================================\n",
            " input_9 (InputLayer)           [(None, None)]       0           []                               \n",
            "                                                                                                  \n",
            " input_10 (InputLayer)          [(None, None)]       0           []                               \n",
            "                                                                                                  \n",
            " encoder (Encoder)              (None, None, 128)    1844736     ['input_9[0][0]']                \n",
            "                                                                                                  \n",
            " tf.math.not_equal (TFOpLambda)  (None, None)        0           ['input_9[0][0]']                \n",
            "                                                                                                  \n",
            " decoder (Decoder)              (None, None, 128)    2092672     ['input_10[0][0]',               \n",
            "                                                                  'encoder[0][0]',                \n",
            "                                                                  'tf.math.not_equal[0][0]']      \n",
            "                                                                                                  \n",
            " dense_64 (Dense)               (None, None, 8089)   1043481     ['decoder[0][0]']                \n",
            "                                                                                                  \n",
            "==================================================================================================\n",
            "Total params: 4,980,889\n",
            "Trainable params: 4,980,889\n",
            "Non-trainable params: 0\n",
            "__________________________________________________________________________________________________\n"
          ]
        }
      ]
    },
    {
      "cell_type": "markdown",
      "metadata": {
        "id": "DgZGAUMhQXcg"
      },
      "source": [
        "predict before train to test everying is working"
      ]
    },
    {
      "cell_type": "code",
      "metadata": {
        "id": "LlVGioSVFcAI",
        "colab": {
          "base_uri": "https://localhost:8080/",
          "height": 489
        },
        "outputId": "c90736ad-c2b1-4868-c4e4-49faebe8d094"
      },
      "source": [
        "pt_batch, en_batch = next(iter(val_dataset))\n",
        "plt.pcolormesh(model.predict([pt_batch,en_batch])[5],cmap='RdBu')\n",
        "plt.colorbar()\n",
        "model.predict([pt_batch,en_batch]).shape"
      ],
      "execution_count": null,
      "outputs": [
        {
          "output_type": "stream",
          "name": "stdout",
          "text": [
            "2/2 [==============================] - 2s 16ms/step\n",
            "2/2 [==============================] - 0s 11ms/step\n"
          ]
        },
        {
          "output_type": "execute_result",
          "data": {
            "text/plain": [
              "(64, 40, 8089)"
            ]
          },
          "metadata": {},
          "execution_count": 31
        },
        {
          "output_type": "display_data",
          "data": {
            "text/plain": [
              "<Figure size 640x480 with 2 Axes>"
            ],
            "image/png": "[encoded data removed]"
          },
          "metadata": {}
        }
      ]
    },
    {
      "cell_type": "markdown",
      "metadata": {
        "id": "nppAqokzQvdr"
      },
      "source": [
        "Custom schedule for optimizer. Works without this"
      ]
    },
    {
      "cell_type": "code",
      "metadata": {
        "id": "nB3mseCL2yn0"
      },
      "source": [
        "class CustomSchedule(tf.keras.optimizers.schedules.LearningRateSchedule):\n",
        "  def __init__(self, d_model, warmup_steps=4000):\n",
        "    super(CustomSchedule, self).__init__()\n",
        "\n",
        "    self.d_model = d_model\n",
        "    self.d_model = tf.cast(self.d_model, tf.float32)\n",
        "\n",
        "    self.warmup_steps = warmup_steps\n",
        "\n",
        "  def __call__(self, step):\n",
        "    #######Heiko fix error message########\n",
        "    step = tf.cast(step, tf.float32)\n",
        "    ##################\n",
        "    arg1 = tf.math.rsqrt(step)\n",
        "    arg2 = step * (self.warmup_steps ** -1.5)\n",
        "    ########Heiko fix error message#######\n",
        "    step = tf.cast(step, tf.float32)\n",
        "    ###############\n",
        "    return tf.math.rsqrt(self.d_model) * tf.math.minimum(arg1, arg2)"
      ],
      "execution_count": null,
      "outputs": []
    },
    {
      "cell_type": "markdown",
      "metadata": {
        "id": "HGXTseklRRQ2"
      },
      "source": [
        "Use Adam optimizer with the custom schedule above\n",
        "\n",
        "Use Sparse Categorical Crossentropy loss with the madding masked.  \n",
        "> If I knew what I was doing there should be a way to have the mask from the embedding properage though the entire model. Possible use tf.keras.layers.Masking at the end of the model?   \n",
        "Adding 'def compute_mask' to the decoder did somthing not sure if it was what I wanted. Seems to be converging correctly but the loss values are lower then I expected\n",
        "\n",
        "various different metrics to watch while fitting\n",
        "\n",
        "Complie the model with all of the above"
      ]
    },
    {
      "cell_type": "code",
      "metadata": {
        "id": "Cit0Nd8DEFjn"
      },
      "source": [
        "optimizer = tf.keras.optimizers.Adam(CustomSchedule(d_model), beta_1=0.9, beta_2=0.98, \n",
        "                                     epsilon=1e-9)\n",
        "\n",
        "loss = tf.keras.losses.SparseCategoricalCrossentropy(\n",
        "    from_logits=True, reduction='none')\n",
        "\n",
        "def masked_loss(y_true, y_pred):\n",
        "  mask = tf.math.logical_not(tf.math.equal(y_true, 0))\n",
        "  _loss = loss(y_true, y_pred)\n",
        "\n",
        "  mask = tf.cast(mask, dtype=_loss.dtype)\n",
        "  _loss *= mask\n",
        "\n",
        "  return tf.reduce_sum(_loss)/tf.reduce_sum(mask)\n",
        "\n",
        "\n",
        "metrics = [loss, masked_loss, tf.keras.metrics.SparseCategoricalAccuracy()]\n",
        "\n",
        "model.compile(optimizer=optimizer, loss = loss, metrics = metrics) # masked_"
      ],
      "execution_count": null,
      "outputs": []
    },
    {
      "cell_type": "code",
      "metadata": {
        "id": "kAUt8BBjMs8n",
        "colab": {
          "base_uri": "https://localhost:8080/"
        },
        "outputId": "1c1a5cfd-83bc-443e-fa81-f79af7ec2e69"
      },
      "source": [
        "num_batches = 0\n",
        "for (batch, (_,_)) in enumerate(train_dataset):\n",
        "  num_batches = batch\n",
        "print(num_batches)\n",
        "\n",
        "val_batches = 0\n",
        "for (batch, (_,_)) in enumerate(val_dataset):\n",
        "  val_batches = batch\n",
        "print(val_batches)"
      ],
      "execution_count": null,
      "outputs": [
        {
          "output_type": "stream",
          "name": "stdout",
          "text": [
            "702\n",
            "16\n"
          ]
        }
      ]
    },
    {
      "cell_type": "markdown",
      "metadata": {
        "id": "d9BrnE6_m4Id"
      },
      "source": [
        "## Training"
      ]
    },
    {
      "cell_type": "markdown",
      "metadata": {
        "id": "BmBFd1nUTAHw"
      },
      "source": [
        "when fitting we want input, target as inputs and target as an output. we need the target_input to be shifted 1 from the target_out.\n",
        "\n",
        "used a generator to get what we want from train_dataset."
      ]
    },
    {
      "cell_type": "code",
      "metadata": {
        "id": "VHU3F9_VE5rp",
        "colab": {
          "base_uri": "https://localhost:8080/"
        },
        "outputId": "34528187-a88e-4916-98a9-23f2b5694967"
      },
      "source": [
        "def generator(data_set):\n",
        "  while True:\n",
        "    for pt_batch, en_batch in data_set:\n",
        "      yield ( [pt_batch , en_batch[:, :-1] ] , en_batch[:, 1:] )\n",
        "\n",
        "\n",
        "history = model.fit(x = generator(train_dataset), validation_data = generator(val_dataset), epochs=20, steps_per_epoch = num_batches, validation_steps = val_batches)"
      ],
      "execution_count": null,
      "outputs": [
        {
          "output_type": "stream",
          "name": "stdout",
          "text": [
            "Epoch 1/20\n",
            "702/702 [==============================] - 185s 206ms/step - loss: 3.4921 - sparse_categorical_crossentropy: 7.0194 - masked_loss: 7.1730 - sparse_categorical_accuracy: 0.1240 - val_loss: 2.6589 - val_sparse_categorical_crossentropy: 5.4189 - val_masked_loss: 5.7265 - val_sparse_categorical_accuracy: 0.2302\n",
            "Epoch 2/20\n",
            "702/702 [==============================] - 75s 105ms/step - loss: 2.4383 - sparse_categorical_crossentropy: 4.8937 - masked_loss: 5.1669 - sparse_categorical_accuracy: 0.2813 - val_loss: 2.2258 - val_sparse_categorical_crossentropy: 4.5362 - val_masked_loss: 4.7978 - val_sparse_categorical_accuracy: 0.3212\n",
            "Epoch 3/20\n",
            "702/702 [==============================] - 74s 105ms/step - loss: 2.1853 - sparse_categorical_crossentropy: 4.3872 - masked_loss: 4.6328 - sparse_categorical_accuracy: 0.3332 - val_loss: 2.0520 - val_sparse_categorical_crossentropy: 4.1821 - val_masked_loss: 4.4233 - val_sparse_categorical_accuracy: 0.3634\n",
            "Epoch 4/20\n",
            "702/702 [==============================] - 65s 92ms/step - loss: 1.9902 - sparse_categorical_crossentropy: 4.0011 - masked_loss: 4.2252 - sparse_categorical_accuracy: 0.3797 - val_loss: 1.8557 - val_sparse_categorical_crossentropy: 3.7820 - val_masked_loss: 4.0000 - val_sparse_categorical_accuracy: 0.4191\n",
            "Epoch 5/20\n",
            "702/702 [==============================] - 60s 85ms/step - loss: 1.8260 - sparse_categorical_crossentropy: 3.6620 - masked_loss: 3.8669 - sparse_categorical_accuracy: 0.4202 - val_loss: 1.7163 - val_sparse_categorical_crossentropy: 3.4980 - val_masked_loss: 3.6996 - val_sparse_categorical_accuracy: 0.4496\n",
            "Epoch 6/20\n",
            "702/702 [==============================] - 58s 82ms/step - loss: 1.6862 - sparse_categorical_crossentropy: 3.3973 - masked_loss: 3.5877 - sparse_categorical_accuracy: 0.4499 - val_loss: 1.6214 - val_sparse_categorical_crossentropy: 3.3045 - val_masked_loss: 3.4949 - val_sparse_categorical_accuracy: 0.4811\n",
            "Epoch 7/20\n",
            "702/702 [==============================] - 60s 85ms/step - loss: 1.5516 - sparse_categorical_crossentropy: 3.1269 - masked_loss: 3.3019 - sparse_categorical_accuracy: 0.4795 - val_loss: 1.4961 - val_sparse_categorical_crossentropy: 3.0490 - val_masked_loss: 3.2248 - val_sparse_categorical_accuracy: 0.5079\n",
            "Epoch 8/20\n",
            "702/702 [==============================] - 58s 83ms/step - loss: 1.4276 - sparse_categorical_crossentropy: 2.8625 - masked_loss: 3.0228 - sparse_categorical_accuracy: 0.5087 - val_loss: 1.3974 - val_sparse_categorical_crossentropy: 2.8480 - val_masked_loss: 3.0122 - val_sparse_categorical_accuracy: 0.5341\n",
            "Epoch 9/20\n",
            "702/702 [==============================] - 58s 83ms/step - loss: 1.3150 - sparse_categorical_crossentropy: 2.6388 - masked_loss: 2.7864 - sparse_categorical_accuracy: 0.5347 - val_loss: 1.3202 - val_sparse_categorical_crossentropy: 2.6905 - val_masked_loss: 2.8456 - val_sparse_categorical_accuracy: 0.5535\n",
            "Epoch 10/20\n",
            "702/702 [==============================] - 58s 83ms/step - loss: 1.2215 - sparse_categorical_crossentropy: 2.4510 - masked_loss: 2.5882 - sparse_categorical_accuracy: 0.5574 - val_loss: 1.2689 - val_sparse_categorical_crossentropy: 2.5860 - val_masked_loss: 2.7351 - val_sparse_categorical_accuracy: 0.5680\n",
            "Epoch 11/20\n",
            "702/702 [==============================] - 58s 82ms/step - loss: 1.1428 - sparse_categorical_crossentropy: 2.2952 - masked_loss: 2.4237 - sparse_categorical_accuracy: 0.5770 - val_loss: 1.2212 - val_sparse_categorical_crossentropy: 2.4889 - val_masked_loss: 2.6324 - val_sparse_categorical_accuracy: 0.5813\n",
            "Epoch 12/20\n",
            "702/702 [==============================] - 57s 82ms/step - loss: 1.0754 - sparse_categorical_crossentropy: 2.1638 - masked_loss: 2.2850 - sparse_categorical_accuracy: 0.5937 - val_loss: 1.1988 - val_sparse_categorical_crossentropy: 2.4432 - val_masked_loss: 2.5841 - val_sparse_categorical_accuracy: 0.5891\n",
            "Epoch 13/20\n",
            "702/702 [==============================] - 59s 83ms/step - loss: 1.0217 - sparse_categorical_crossentropy: 2.0542 - masked_loss: 2.1693 - sparse_categorical_accuracy: 0.6074 - val_loss: 1.1707 - val_sparse_categorical_crossentropy: 2.3859 - val_masked_loss: 2.5235 - val_sparse_categorical_accuracy: 0.5980\n",
            "Epoch 14/20\n",
            "702/702 [==============================] - 57s 81ms/step - loss: 0.9763 - sparse_categorical_crossentropy: 1.9577 - masked_loss: 2.0672 - sparse_categorical_accuracy: 0.6198 - val_loss: 1.1436 - val_sparse_categorical_crossentropy: 2.3307 - val_masked_loss: 2.4651 - val_sparse_categorical_accuracy: 0.6066\n",
            "Epoch 15/20\n",
            "702/702 [==============================] - 55s 79ms/step - loss: 0.9326 - sparse_categorical_crossentropy: 1.8754 - masked_loss: 1.9805 - sparse_categorical_accuracy: 0.6311 - val_loss: 1.1358 - val_sparse_categorical_crossentropy: 2.3148 - val_masked_loss: 2.4483 - val_sparse_categorical_accuracy: 0.6120\n",
            "Epoch 16/20\n",
            "702/702 [==============================] - 57s 81ms/step - loss: 0.8976 - sparse_categorical_crossentropy: 1.8029 - masked_loss: 1.9040 - sparse_categorical_accuracy: 0.6409 - val_loss: 1.1177 - val_sparse_categorical_crossentropy: 2.2778 - val_masked_loss: 2.4092 - val_sparse_categorical_accuracy: 0.6147\n",
            "Epoch 17/20\n",
            "702/702 [==============================] - 57s 81ms/step - loss: 0.8656 - sparse_categorical_crossentropy: 1.7369 - masked_loss: 1.8341 - sparse_categorical_accuracy: 0.6493 - val_loss: 1.1088 - val_sparse_categorical_crossentropy: 2.2597 - val_masked_loss: 2.3900 - val_sparse_categorical_accuracy: 0.6196\n",
            "Epoch 18/20\n",
            "702/702 [==============================] - 56s 79ms/step - loss: 0.8369 - sparse_categorical_crossentropy: 1.6803 - masked_loss: 1.7743 - sparse_categorical_accuracy: 0.6573 - val_loss: 1.0982 - val_sparse_categorical_crossentropy: 2.2382 - val_masked_loss: 2.3673 - val_sparse_categorical_accuracy: 0.6240\n",
            "Epoch 19/20\n",
            "702/702 [==============================] - 57s 81ms/step - loss: 0.8091 - sparse_categorical_crossentropy: 1.6249 - masked_loss: 1.7159 - sparse_categorical_accuracy: 0.6655 - val_loss: 1.0912 - val_sparse_categorical_crossentropy: 2.2239 - val_masked_loss: 2.3522 - val_sparse_categorical_accuracy: 0.6231\n",
            "Epoch 20/20\n",
            "702/702 [==============================] - 54s 77ms/step - loss: 0.7859 - sparse_categorical_crossentropy: 1.5794 - masked_loss: 1.6678 - sparse_categorical_accuracy: 0.6718 - val_loss: 1.0816 - val_sparse_categorical_crossentropy: 2.2043 - val_masked_loss: 2.3314 - val_sparse_categorical_accuracy: 0.6266\n"
          ]
        }
      ]
    },
    {
      "cell_type": "code",
      "metadata": {
        "id": "vPg-lhA6Kt9I",
        "colab": {
          "base_uri": "https://localhost:8080/",
          "height": 526
        },
        "outputId": "5a15cfbe-4d73-464d-ae01-f280c54e6415"
      },
      "source": [
        "pt_batch, en_batch = next(iter(val_dataset))\n",
        "plt.pcolormesh(model.predict([pt_batch,en_batch])[5],cmap='RdBu')\n",
        "plt.colorbar()\n",
        "model.predict([pt_batch,en_batch]).shape"
      ],
      "execution_count": null,
      "outputs": [
        {
          "output_type": "stream",
          "name": "stderr",
          "text": [
            "WARNING:tensorflow:5 out of the last 10 calls to <function Model.make_predict_function.<locals>.predict_function at 0x7f6fac4c44c0> triggered tf.function retracing. Tracing is expensive and the excessive number of tracings could be due to (1) creating @tf.function repeatedly in a loop, (2) passing tensors with different shapes, (3) passing Python objects instead of tensors. For (1), please define your @tf.function outside of the loop. For (2), @tf.function has reduce_retracing=True option that can avoid unnecessary retracing. For (3), please refer to https://www.tensorflow.org/guide/function#controlling_retracing and https://www.tensorflow.org/api_docs/python/tf/function for  more details.\n"
          ]
        },
        {
          "output_type": "stream",
          "name": "stdout",
          "text": [
            "2/2 [==============================] - 2s 13ms/step\n",
            "2/2 [==============================] - 0s 11ms/step\n"
          ]
        },
        {
          "output_type": "execute_result",
          "data": {
            "text/plain": [
              "(64, 40, 8089)"
            ]
          },
          "metadata": {},
          "execution_count": 36
        },
        {
          "output_type": "display_data",
          "data": {
            "text/plain": [
              "<Figure size 640x480 with 2 Axes>"
            ],
            "image/png": "[encoded data removed]"
          },
          "metadata": {}
        }
      ]
    },
    {
      "cell_type": "markdown",
      "metadata": {
        "id": "2__tSEwHm8lI"
      },
      "source": [
        "## Prediction\n",
        "When predicting input what you want to translate to the encoder and input the start token to the decoder.   \n",
        "Repeat this except use the output of the last prediction as the input to the decoder.  \n",
        "Stop when the last value of the output is the stop token.\n",
        "\n",
        "This final output (with the start and stop toekns removed ) can be fed to tokenizer_en.decode() to get an english sentence."
      ]
    },
    {
      "cell_type": "code",
      "metadata": {
        "id": "dKz7h4gei04o",
        "colab": {
          "base_uri": "https://localhost:8080/"
        },
        "outputId": "0b39df50-8a3f-4dc8-e8b0-e3b0b0b6f22e"
      },
      "source": [
        "for i in range(10):\n",
        "  translation = [tokenizer_en.vocab_size]\n",
        "  for _ in range(40):\n",
        "    predict = model.predict([pt_batch[i:i+1],np.asarray([translation])])\n",
        "    translation.append(np.argmax(predict[-1,-1]))\n",
        "    if translation[-1] == tokenizer_en.vocab_size + 1:\n",
        "      break\n",
        "\n",
        "  real_translation = []\n",
        "  for w in en_batch[:,1:][i].numpy():\n",
        "    if w == tokenizer_en.vocab_size + 1:\n",
        "      break\n",
        "    real_translation.append(w)\n",
        "  print(tokenizer_en.decode(real_translation))\n",
        "  print(tokenizer_en.decode(translation[1:-1]))\n",
        "  print(\"\")\n"
      ],
      "execution_count": null,
      "outputs": [
        {
          "output_type": "stream",
          "name": "stderr",
          "text": [
            "WARNING:tensorflow:5 out of the last 11 calls to <function Model.make_predict_function.<locals>.predict_function at 0x7f6fac4c44c0> triggered tf.function retracing. Tracing is expensive and the excessive number of tracings could be due to (1) creating @tf.function repeatedly in a loop, (2) passing tensors with different shapes, (3) passing Python objects instead of tensors. For (1), please define your @tf.function outside of the loop. For (2), @tf.function has reduce_retracing=True option that can avoid unnecessary retracing. For (3), please refer to https://www.tensorflow.org/guide/function#controlling_retracing and https://www.tensorflow.org/api_docs/python/tf/function for  more details.\n"
          ]
        },
        {
          "output_type": "stream",
          "name": "stdout",
          "text": [
            "1/1 [==============================] - 3s 3s/step\n",
            "1/1 [==============================] - 0s 78ms/step\n",
            "1/1 [==============================] - 0s 72ms/step\n",
            "1/1 [==============================] - 0s 71ms/step\n",
            "1/1 [==============================] - 0s 42ms/step\n",
            "1/1 [==============================] - 0s 36ms/step\n",
            "1/1 [==============================] - 0s 37ms/step\n",
            "1/1 [==============================] - 0s 39ms/step\n",
            "1/1 [==============================] - 0s 37ms/step\n",
            "1/1 [==============================] - 0s 37ms/step\n",
            "1/1 [==============================] - 0s 38ms/step\n",
            "1/1 [==============================] - 0s 38ms/step\n",
            "1/1 [==============================] - 0s 36ms/step\n",
            "1/1 [==============================] - 0s 50ms/step\n",
            "1/1 [==============================] - 0s 36ms/step\n",
            "1/1 [==============================] - 0s 39ms/step\n",
            "1/1 [==============================] - 0s 37ms/step\n",
            "did they eat fish and chips ?\n",
            "did they have tuckens with frids frids frits and loud ?\n",
            "\n",
            "1/1 [==============================] - 0s 36ms/step\n",
            "1/1 [==============================] - 0s 38ms/step\n",
            "1/1 [==============================] - 0s 38ms/step\n",
            "1/1 [==============================] - 0s 38ms/step\n",
            "1/1 [==============================] - 0s 36ms/step\n",
            "1/1 [==============================] - 0s 38ms/step\n",
            "1/1 [==============================] - 0s 44ms/step\n",
            "1/1 [==============================] - 0s 50ms/step\n",
            "1/1 [==============================] - 0s 36ms/step\n",
            "1/1 [==============================] - 0s 36ms/step\n",
            "1/1 [==============================] - 0s 36ms/step\n",
            "1/1 [==============================] - 0s 39ms/step\n",
            "1/1 [==============================] - 0s 38ms/step\n",
            "1/1 [==============================] - 0s 37ms/step\n",
            "1/1 [==============================] - 0s 37ms/step\n",
            "1/1 [==============================] - 0s 37ms/step\n",
            "1/1 [==============================] - 0s 40ms/step\n",
            "1/1 [==============================] - 0s 40ms/step\n",
            "1/1 [==============================] - 0s 50ms/step\n",
            "i was always worried about being caught and sent back .\n",
            "i was always worried about being caung and sent back to the back of the back .\n",
            "\n",
            "1/1 [==============================] - 0s 37ms/step\n",
            "1/1 [==============================] - 0s 38ms/step\n",
            "1/1 [==============================] - 0s 39ms/step\n",
            "1/1 [==============================] - 0s 35ms/step\n",
            "1/1 [==============================] - 0s 36ms/step\n",
            "1/1 [==============================] - 0s 38ms/step\n",
            "1/1 [==============================] - 0s 41ms/step\n",
            "1/1 [==============================] - 0s 39ms/step\n",
            "1/1 [==============================] - 0s 37ms/step\n",
            "1/1 [==============================] - 0s 41ms/step\n",
            "1/1 [==============================] - 0s 44ms/step\n",
            "1/1 [==============================] - 0s 46ms/step\n",
            "1/1 [==============================] - 0s 45ms/step\n",
            "1/1 [==============================] - 0s 46ms/step\n",
            "1/1 [==============================] - 0s 41ms/step\n",
            "1/1 [==============================] - 0s 44ms/step\n",
            "i chose one with the skin color of a lobster when sunburnt .\n",
            "i chose a little shark of a lake with a dinosaur .\n",
            "\n",
            "1/1 [==============================] - 0s 45ms/step\n",
            "1/1 [==============================] - 0s 41ms/step\n",
            "1/1 [==============================] - 0s 44ms/step\n",
            "1/1 [==============================] - 0s 46ms/step\n",
            "1/1 [==============================] - 0s 38ms/step\n",
            "1/1 [==============================] - 0s 39ms/step\n",
            "1/1 [==============================] - 0s 46ms/step\n",
            "1/1 [==============================] - 0s 36ms/step\n",
            "1/1 [==============================] - 0s 35ms/step\n",
            "1/1 [==============================] - 0s 36ms/step\n",
            "but i think this is quite clearly untrue .\n",
            "but i think this is clearly fake .\n",
            "\n",
            "1/1 [==============================] - 0s 36ms/step\n",
            "1/1 [==============================] - 0s 38ms/step\n",
            "1/1 [==============================] - 0s 35ms/step\n",
            "1/1 [==============================] - 0s 36ms/step\n",
            "1/1 [==============================] - 0s 36ms/step\n",
            "1/1 [==============================] - 0s 35ms/step\n",
            "1/1 [==============================] - 0s 38ms/step\n",
            "1/1 [==============================] - 0s 34ms/step\n",
            "1/1 [==============================] - 0s 38ms/step\n",
            "1/1 [==============================] - 0s 36ms/step\n",
            "1/1 [==============================] - 0s 35ms/step\n",
            "1/1 [==============================] - 0s 35ms/step\n",
            "we have measured our progress very rigorously .\n",
            "we have measured our very deeply preciselying improvement .\n",
            "\n",
            "1/1 [==============================] - 0s 47ms/step\n",
            "1/1 [==============================] - 0s 38ms/step\n",
            "1/1 [==============================] - 0s 38ms/step\n",
            "1/1 [==============================] - 0s 36ms/step\n",
            "1/1 [==============================] - 0s 37ms/step\n",
            "1/1 [==============================] - 0s 43ms/step\n",
            "1/1 [==============================] - 0s 37ms/step\n",
            "1/1 [==============================] - 0s 35ms/step\n",
            "1/1 [==============================] - 0s 42ms/step\n",
            "1/1 [==============================] - 0s 36ms/step\n",
            "1/1 [==============================] - 0s 38ms/step\n",
            "1/1 [==============================] - 0s 37ms/step\n",
            "1/1 [==============================] - 0s 38ms/step\n",
            "1/1 [==============================] - 0s 39ms/step\n",
            "1/1 [==============================] - 0s 40ms/step\n",
            "1/1 [==============================] - 0s 41ms/step\n",
            "1/1 [==============================] - 0s 42ms/step\n",
            "1/1 [==============================] - 0s 36ms/step\n",
            "1/1 [==============================] - 0s 42ms/step\n",
            "1/1 [==============================] - 0s 37ms/step\n",
            "and from what i feel , it 's a cure for me , but for us all .\n",
            "and in my opinion , it 's not just a cure for me , but for everyone .\n",
            "\n",
            "1/1 [==============================] - 0s 37ms/step\n",
            "1/1 [==============================] - 0s 37ms/step\n",
            "1/1 [==============================] - 0s 40ms/step\n",
            "1/1 [==============================] - 0s 38ms/step\n",
            "1/1 [==============================] - 0s 38ms/step\n",
            "1/1 [==============================] - 0s 41ms/step\n",
            "1/1 [==============================] - 0s 41ms/step\n",
            "1/1 [==============================] - 0s 37ms/step\n",
            "1/1 [==============================] - 0s 38ms/step\n",
            "1/1 [==============================] - 0s 37ms/step\n",
            "1/1 [==============================] - 0s 42ms/step\n",
            "1/1 [==============================] - 0s 39ms/step\n",
            "1/1 [==============================] - 0s 37ms/step\n",
            "1/1 [==============================] - 0s 38ms/step\n",
            "1/1 [==============================] - 0s 39ms/step\n",
            "1/1 [==============================] - 0s 35ms/step\n",
            "it 's a work in progress from a personal story to a global history .\n",
            "it 's a workforce of a personal story for a global history .\n",
            "\n",
            "1/1 [==============================] - 0s 41ms/step\n",
            "1/1 [==============================] - 0s 38ms/step\n",
            "1/1 [==============================] - 0s 49ms/step\n",
            "1/1 [==============================] - 0s 43ms/step\n",
            "1/1 [==============================] - 0s 39ms/step\n",
            "1/1 [==============================] - 0s 52ms/step\n",
            "1/1 [==============================] - 0s 37ms/step\n",
            "1/1 [==============================] - 0s 66ms/step\n",
            "1/1 [==============================] - 0s 57ms/step\n",
            "1/1 [==============================] - 0s 64ms/step\n",
            "1/1 [==============================] - 0s 68ms/step\n",
            "1/1 [==============================] - 0s 59ms/step\n",
            "1/1 [==============================] - 0s 57ms/step\n",
            "1/1 [==============================] - 0s 61ms/step\n",
            "1/1 [==============================] - 0s 56ms/step\n",
            "1/1 [==============================] - 0s 57ms/step\n",
            "1/1 [==============================] - 0s 58ms/step\n",
            "i mean , it 's just a losing proposition .\n",
            "i mean , it 's a letter , i want to be losing out .\n",
            "\n",
            "1/1 [==============================] - 0s 61ms/step\n",
            "1/1 [==============================] - 0s 81ms/step\n",
            "1/1 [==============================] - 0s 57ms/step\n",
            "1/1 [==============================] - 0s 62ms/step\n",
            "1/1 [==============================] - 0s 61ms/step\n",
            "1/1 [==============================] - 0s 67ms/step\n",
            "1/1 [==============================] - 0s 58ms/step\n",
            "1/1 [==============================] - 0s 36ms/step\n",
            "1/1 [==============================] - 0s 36ms/step\n",
            "1/1 [==============================] - 0s 36ms/step\n",
            "1/1 [==============================] - 0s 36ms/step\n",
            "1/1 [==============================] - 0s 37ms/step\n",
            "1/1 [==============================] - 0s 38ms/step\n",
            "1/1 [==============================] - 0s 37ms/step\n",
            "so , how do we have these conversations more easily and more often ?\n",
            "so how do we have these more easily and more easily talk ?\n",
            "\n",
            "1/1 [==============================] - 0s 38ms/step\n",
            "1/1 [==============================] - 0s 42ms/step\n",
            "1/1 [==============================] - 0s 35ms/step\n",
            "1/1 [==============================] - 0s 37ms/step\n",
            "1/1 [==============================] - 0s 35ms/step\n",
            "1/1 [==============================] - 0s 36ms/step\n",
            "1/1 [==============================] - 0s 38ms/step\n",
            "1/1 [==============================] - 0s 39ms/step\n",
            "1/1 [==============================] - 0s 38ms/step\n",
            "1/1 [==============================] - 0s 40ms/step\n",
            "1/1 [==============================] - 0s 38ms/step\n",
            "1/1 [==============================] - 0s 38ms/step\n",
            "and issue rogue certificates .\n",
            "and they undertake a bunch of the forgers .\n",
            "\n"
          ]
        }
      ]
    },
    {
      "cell_type": "markdown",
      "metadata": {
        "id": "82qJvXZroziY"
      },
      "source": [
        "# Simple Transformer using only Keras Functional API\n",
        "* No Masking (\n",
        "* No Multi-Headed attention  \n",
        "* No Dropout\n",
        "* Single Encoder and Decoder"
      ]
    },
    {
      "cell_type": "code",
      "metadata": {
        "id": "1IiLFvlvlQld"
      },
      "source": [
        "# tf.python.framework_ops.disable_eager_execution()"
      ],
      "execution_count": null,
      "outputs": []
    },
    {
      "cell_type": "code",
      "metadata": {
        "id": "y7TFAAnXklib",
        "colab": {
          "base_uri": "https://localhost:8080/"
        },
        "outputId": "8a0349cd-1203-42ff-ae2d-e1a0cb608614"
      },
      "source": [
        "d_model = 512\n",
        "dff=2048\n",
        "maximum_position_encoding = 10000\n",
        "input_vocab_size = tokenizer_pt.vocab_size + 2\n",
        "target_vocab_size = tokenizer_en.vocab_size + 2\n",
        "\n",
        "scaling_factor = tf.keras.backend.constant(np.sqrt(d_model), shape = (1,1,1))\n",
        "\n",
        "# Encoder ##################################\n",
        "input = tf.keras.layers.Input(shape=(None,))\n",
        "\n",
        "x = tf.keras.layers.Embedding(input_vocab_size, d_model)(input) #, mask_zero=True\n",
        "\n",
        "## positional encoding\n",
        "x = tf.keras.layers.Multiply()([x,scaling_factor])\n",
        "pos = positional_encoding(maximum_position_encoding, d_model)\n",
        "x = tf.keras.layers.Add()([x, pos[: , :tf.shape(x)[1], :]] )\n",
        "\n",
        "## self-attention\n",
        "query = tf.keras.layers.Dense(d_model)(x)\n",
        "value = tf.keras.layers.Dense(d_model)(x)\n",
        "key = tf.keras.layers.Dense(d_model)(x)\n",
        "attention = tf.keras.layers.Attention()([query, value, key])                   # , mask=[query._keras_mask, value._keras_mask]\n",
        "attention = tf.keras.layers.Dense(d_model)(attention)\n",
        "\n",
        "x = tf.keras.layers.Add()([x , attention])\n",
        "x = tf.keras.layers.LayerNormalization(epsilon=1e-6)(x)\n",
        "\n",
        "## Feed Forward\n",
        "dense = tf.keras.layers.Dense(dff, activation='relu')(x)\n",
        "dense = tf.keras.layers.Dense(d_model)(dense)\n",
        "x = tf.keras.layers.Add()([x , dense])                                          # residual connection\n",
        "encoder = tf.keras.layers.LayerNormalization(epsilon=1e-6)(x)\n",
        "\n",
        "# Decoder ##################################\n",
        "target = tf.keras.layers.Input(shape=(None,))\n",
        "\n",
        "x = tf.keras.layers.Embedding(target_vocab_size, d_model )(target) # , mask_zero=True\n",
        "\n",
        "## positional encoding\n",
        "x = tf.keras.layers.Multiply()([x,scaling_factor])\n",
        "pos = positional_encoding(maximum_position_encoding, d_model)\n",
        "x = tf.keras.layers.Add()([x, pos[: , :tf.shape(x)[1], :] ])\n",
        "\n",
        "## self-attention\n",
        "query = tf.keras.layers.Dense(d_model)(x)\n",
        "value = tf.keras.layers.Dense(d_model)(x)\n",
        "key = tf.keras.layers.Dense(d_model)(x)\n",
        "attention = tf.keras.layers.Attention(causal = True)([query, value, key])       # , mask=[query._keras_mask, value._keras_mask]\n",
        "attention = tf.keras.layers.Dense(d_model)(attention)\n",
        "\n",
        "x = tf.keras.layers.Add()([x , attention])                                      # residual connection\n",
        "x = tf.keras.layers.LayerNormalization(epsilon=1e-6)(x)\n",
        "\n",
        "## encoder-decoder attention\n",
        "query = tf.keras.layers.Dense(d_model)(x)\n",
        "value = tf.keras.layers.Dense(d_model)(encoder)\n",
        "key = tf.keras.layers.Dense(d_model)(encoder)\n",
        "attention = tf.keras.layers.Attention()([query, value, key])                    # , mask=[query._keras_mask, value._keras_mask]\n",
        "attention = tf.keras.layers.Dense(d_model)(attention)\n",
        "\n",
        "x = tf.keras.layers.Add()([x , attention])                                      # residual connection\n",
        "x = tf.keras.layers.LayerNormalization(epsilon=1e-6)(x)\n",
        "\n",
        "## Feed Forward\n",
        "dense = tf.keras.layers.Dense(dff, activation='relu')(x)\n",
        "dense = tf.keras.layers.Dense(d_model)(dense)\n",
        "x = tf.keras.layers.Add()([x , dense])                                          # residual connection\n",
        "decoder = tf.keras.layers.LayerNormalization(epsilon=1e-6)(x)\n",
        "\n",
        "######################################################\n",
        "\n",
        "x = tf.keras.layers.Dense(target_vocab_size)(decoder)\n",
        "\n",
        "base_model = tf.keras.models.Model(inputs=[input,target], outputs=x)\n",
        "base_model.summary()"
      ],
      "execution_count": null,
      "outputs": [
        {
          "output_type": "stream",
          "name": "stderr",
          "text": [
            "WARNING:absl:`causal` argument is deprecated. Please use `use_causal_mask` in call() method to specify causal masking.\n"
          ]
        },
        {
          "output_type": "stream",
          "name": "stdout",
          "text": [
            "Model: \"model_4\"\n",
            "__________________________________________________________________________________________________\n",
            " Layer (type)                   Output Shape         Param #     Connected to                     \n",
            "==================================================================================================\n",
            " input_11 (InputLayer)          [(None, None)]       0           []                               \n",
            "                                                                                                  \n",
            " embedding_2 (Embedding)        (None, None, 512)    4206592     ['input_11[0][0]']               \n",
            "                                                                                                  \n",
            " multiply (Multiply)            (None, None, 512)    0           ['embedding_2[0][0]']            \n",
            "                                                                                                  \n",
            " tf.compat.v1.shape (TFOpLambda  (3,)                0           ['multiply[0][0]']               \n",
            " )                                                                                                \n",
            "                                                                                                  \n",
            " input_12 (InputLayer)          [(None, None)]       0           []                               \n",
            "                                                                                                  \n",
            " tf.__operators__.getitem (Slic  ()                  0           ['tf.compat.v1.shape[0][0]']     \n",
            " ingOpLambda)                                                                                     \n",
            "                                                                                                  \n",
            " embedding_3 (Embedding)        (None, None, 512)    4141568     ['input_12[0][0]']               \n",
            "                                                                                                  \n",
            " tf.stack (TFOpLambda)          (3,)                 0           ['tf.__operators__.getitem[0][0]'\n",
            "                                                                 ]                                \n",
            "                                                                                                  \n",
            " multiply_1 (Multiply)          (None, None, 512)    0           ['embedding_3[0][0]']            \n",
            "                                                                                                  \n",
            " tf.strided_slice (TFOpLambda)  (1, None, 512)       0           ['tf.stack[0][0]']               \n",
            "                                                                                                  \n",
            " tf.compat.v1.shape_1 (TFOpLamb  (3,)                0           ['multiply_1[0][0]']             \n",
            " da)                                                                                              \n",
            "                                                                                                  \n",
            " add_20 (Add)                   (None, None, 512)    0           ['multiply[0][0]',               \n",
            "                                                                  'tf.strided_slice[0][0]']       \n",
            "                                                                                                  \n",
            " tf.__operators__.getitem_1 (Sl  ()                  0           ['tf.compat.v1.shape_1[0][0]']   \n",
            " icingOpLambda)                                                                                   \n",
            "                                                                                                  \n",
            " dense_65 (Dense)               (None, None, 512)    262656      ['add_20[0][0]']                 \n",
            "                                                                                                  \n",
            " dense_66 (Dense)               (None, None, 512)    262656      ['add_20[0][0]']                 \n",
            "                                                                                                  \n",
            " dense_67 (Dense)               (None, None, 512)    262656      ['add_20[0][0]']                 \n",
            "                                                                                                  \n",
            " tf.stack_1 (TFOpLambda)        (3,)                 0           ['tf.__operators__.getitem_1[0][0\n",
            "                                                                 ]']                              \n",
            "                                                                                                  \n",
            " attention_15 (Attention)       (None, None, 512)    0           ['dense_65[0][0]',               \n",
            "                                                                  'dense_66[0][0]',               \n",
            "                                                                  'dense_67[0][0]']               \n",
            "                                                                                                  \n",
            " tf.strided_slice_1 (TFOpLambda  (1, None, 512)      0           ['tf.stack_1[0][0]']             \n",
            " )                                                                                                \n",
            "                                                                                                  \n",
            " dense_68 (Dense)               (None, None, 512)    262656      ['attention_15[0][0]']           \n",
            "                                                                                                  \n",
            " add_23 (Add)                   (None, None, 512)    0           ['multiply_1[0][0]',             \n",
            "                                                                  'tf.strided_slice_1[0][0]']     \n",
            "                                                                                                  \n",
            " add_21 (Add)                   (None, None, 512)    0           ['add_20[0][0]',                 \n",
            "                                                                  'dense_68[0][0]']               \n",
            "                                                                                                  \n",
            " dense_71 (Dense)               (None, None, 512)    262656      ['add_23[0][0]']                 \n",
            "                                                                                                  \n",
            " dense_72 (Dense)               (None, None, 512)    262656      ['add_23[0][0]']                 \n",
            "                                                                                                  \n",
            " dense_73 (Dense)               (None, None, 512)    262656      ['add_23[0][0]']                 \n",
            "                                                                                                  \n",
            " layer_normalization_20 (LayerN  (None, None, 512)   1024        ['add_21[0][0]']                 \n",
            " ormalization)                                                                                    \n",
            "                                                                                                  \n",
            " attention_16 (Attention)       (None, None, 512)    0           ['dense_71[0][0]',               \n",
            "                                                                  'dense_72[0][0]',               \n",
            "                                                                  'dense_73[0][0]']               \n",
            "                                                                                                  \n",
            " dense_69 (Dense)               (None, None, 2048)   1050624     ['layer_normalization_20[0][0]'] \n",
            "                                                                                                  \n",
            " dense_74 (Dense)               (None, None, 512)    262656      ['attention_16[0][0]']           \n",
            "                                                                                                  \n",
            " dense_70 (Dense)               (None, None, 512)    1049088     ['dense_69[0][0]']               \n",
            "                                                                                                  \n",
            " add_24 (Add)                   (None, None, 512)    0           ['add_23[0][0]',                 \n",
            "                                                                  'dense_74[0][0]']               \n",
            "                                                                                                  \n",
            " add_22 (Add)                   (None, None, 512)    0           ['layer_normalization_20[0][0]', \n",
            "                                                                  'dense_70[0][0]']               \n",
            "                                                                                                  \n",
            " layer_normalization_22 (LayerN  (None, None, 512)   1024        ['add_24[0][0]']                 \n",
            " ormalization)                                                                                    \n",
            "                                                                                                  \n",
            " layer_normalization_21 (LayerN  (None, None, 512)   1024        ['add_22[0][0]']                 \n",
            " ormalization)                                                                                    \n",
            "                                                                                                  \n",
            " dense_75 (Dense)               (None, None, 512)    262656      ['layer_normalization_22[0][0]'] \n",
            "                                                                                                  \n",
            " dense_76 (Dense)               (None, None, 512)    262656      ['layer_normalization_21[0][0]'] \n",
            "                                                                                                  \n",
            " dense_77 (Dense)               (None, None, 512)    262656      ['layer_normalization_21[0][0]'] \n",
            "                                                                                                  \n",
            " attention_17 (Attention)       (None, None, 512)    0           ['dense_75[0][0]',               \n",
            "                                                                  'dense_76[0][0]',               \n",
            "                                                                  'dense_77[0][0]']               \n",
            "                                                                                                  \n",
            " dense_78 (Dense)               (None, None, 512)    262656      ['attention_17[0][0]']           \n",
            "                                                                                                  \n",
            " add_25 (Add)                   (None, None, 512)    0           ['layer_normalization_22[0][0]', \n",
            "                                                                  'dense_78[0][0]']               \n",
            "                                                                                                  \n",
            " layer_normalization_23 (LayerN  (None, None, 512)   1024        ['add_25[0][0]']                 \n",
            " ormalization)                                                                                    \n",
            "                                                                                                  \n",
            " dense_79 (Dense)               (None, None, 2048)   1050624     ['layer_normalization_23[0][0]'] \n",
            "                                                                                                  \n",
            " dense_80 (Dense)               (None, None, 512)    1049088     ['dense_79[0][0]']               \n",
            "                                                                                                  \n",
            " add_26 (Add)                   (None, None, 512)    0           ['layer_normalization_23[0][0]', \n",
            "                                                                  'dense_80[0][0]']               \n",
            "                                                                                                  \n",
            " layer_normalization_24 (LayerN  (None, None, 512)   1024        ['add_26[0][0]']                 \n",
            " ormalization)                                                                                    \n",
            "                                                                                                  \n",
            " dense_81 (Dense)               (None, None, 8089)   4149657     ['layer_normalization_24[0][0]'] \n",
            "                                                                                                  \n",
            "==================================================================================================\n",
            "Total params: 19,854,233\n",
            "Trainable params: 19,854,233\n",
            "Non-trainable params: 0\n",
            "__________________________________________________________________________________________________\n"
          ]
        }
      ]
    },
    {
      "cell_type": "code",
      "metadata": {
        "id": "1M3CMZF1s0Sl"
      },
      "source": [
        "optimizer = tf.keras.optimizers.Adam(0.001, beta_1=0.9, beta_2=0.98, \n",
        "                                     epsilon=1e-9)\n",
        "\n",
        "loss = tf.keras.losses.SparseCategoricalCrossentropy(\n",
        "    from_logits=True, reduction='none')\n",
        "\n",
        "def masked_loss(y_true, y_pred):\n",
        "  mask = tf.math.logical_not(tf.math.equal(y_true, 0))\n",
        "  _loss = loss(y_true, y_pred)\n",
        "\n",
        "  mask = tf.cast(mask, dtype=_loss.dtype)\n",
        "  _loss *= mask\n",
        "\n",
        "  return tf.reduce_sum(_loss)/tf.reduce_sum(mask)\n",
        "\n",
        "\n",
        "metrics = [loss, masked_loss, tf.keras.metrics.SparseCategoricalAccuracy()]\n",
        "\n",
        "base_model.compile(optimizer=optimizer, loss = loss, metrics = metrics) # masked_"
      ],
      "execution_count": null,
      "outputs": []
    },
    {
      "cell_type": "code",
      "metadata": {
        "id": "pjhneKhvtIi-",
        "colab": {
          "base_uri": "https://localhost:8080/"
        },
        "outputId": "22bedd04-9955-46ec-ab7a-46068e2188e6"
      },
      "source": [
        "def generator(data_set):\n",
        "  while True:\n",
        "    for pt_batch, en_batch in data_set:\n",
        "      yield ( [pt_batch , en_batch[:, :-1] ] , en_batch[:, 1:] )\n",
        "\n",
        "def training_map(pt, en):\n",
        "  return [pt , en[:-1]] , en[1:]\n",
        "\n",
        "# def tf_gen(pt, en):\n",
        "#   input_pt, input_en, output_en = tf.py_function(gen, [pt, en], [tf.int64, tf.int64, tf.int64])\n",
        "#   input_pt.set_shape([None])\n",
        "#   input_en.set_shape([None])\n",
        "#   output_en.set_shape([None])\n",
        "#   return [input_pt, input_en], output_en\n",
        "\n",
        "\n",
        "# history = base_model.fit(x = train_dataset.map(training_map), epochs=20)\n",
        "history = base_model.fit(x = generator(train_dataset), validation_data = generator(val_dataset), epochs=20, steps_per_epoch = num_batches, validation_steps = val_batches)"
      ],
      "execution_count": null,
      "outputs": [
        {
          "output_type": "stream",
          "name": "stdout",
          "text": [
            "Epoch 1/20\n",
            "702/702 [==============================] - 120s 156ms/step - loss: 2.4552 - sparse_categorical_crossentropy: 2.4552 - masked_loss: 5.1857 - sparse_categorical_accuracy: 0.6364 - val_loss: 2.1191 - val_sparse_categorical_crossentropy: 2.1191 - val_masked_loss: 4.5656 - val_sparse_categorical_accuracy: 0.6696\n",
            "Epoch 2/20\n",
            "702/702 [==============================] - 66s 93ms/step - loss: 2.0195 - sparse_categorical_crossentropy: 2.0196 - masked_loss: 4.2769 - sparse_categorical_accuracy: 0.6683 - val_loss: 2.0680 - val_sparse_categorical_crossentropy: 2.0680 - val_masked_loss: 4.4563 - val_sparse_categorical_accuracy: 0.6709\n",
            "Epoch 3/20\n",
            "702/702 [==============================] - 62s 88ms/step - loss: 1.9084 - sparse_categorical_crossentropy: 1.9084 - masked_loss: 4.0495 - sparse_categorical_accuracy: 0.6725 - val_loss: 2.0460 - val_sparse_categorical_crossentropy: 2.0460 - val_masked_loss: 4.4083 - val_sparse_categorical_accuracy: 0.6741\n",
            "Epoch 4/20\n",
            "702/702 [==============================] - 81s 115ms/step - loss: 1.8487 - sparse_categorical_crossentropy: 1.8487 - masked_loss: 3.9160 - sparse_categorical_accuracy: 0.6733 - val_loss: 2.0591 - val_sparse_categorical_crossentropy: 2.0591 - val_masked_loss: 4.4365 - val_sparse_categorical_accuracy: 0.6743\n",
            "Epoch 5/20\n",
            "702/702 [==============================] - 58s 83ms/step - loss: 1.8040 - sparse_categorical_crossentropy: 1.8040 - masked_loss: 3.8210 - sparse_categorical_accuracy: 0.6755 - val_loss: 2.0695 - val_sparse_categorical_crossentropy: 2.0695 - val_masked_loss: 4.4591 - val_sparse_categorical_accuracy: 0.6713\n",
            "Epoch 6/20\n",
            "702/702 [==============================] - 59s 84ms/step - loss: 1.7708 - sparse_categorical_crossentropy: 1.7708 - masked_loss: 3.7485 - sparse_categorical_accuracy: 0.6766 - val_loss: 2.0932 - val_sparse_categorical_crossentropy: 2.0932 - val_masked_loss: 4.5101 - val_sparse_categorical_accuracy: 0.6664\n",
            "Epoch 7/20\n",
            "702/702 [==============================] - 57s 81ms/step - loss: 1.7298 - sparse_categorical_crossentropy: 1.7298 - masked_loss: 3.6686 - sparse_categorical_accuracy: 0.6797 - val_loss: 2.1303 - val_sparse_categorical_crossentropy: 2.1303 - val_masked_loss: 4.5896 - val_sparse_categorical_accuracy: 0.6640\n",
            "Epoch 8/20\n",
            "702/702 [==============================] - 59s 83ms/step - loss: 1.6871 - sparse_categorical_crossentropy: 1.6872 - masked_loss: 3.5789 - sparse_categorical_accuracy: 0.6841 - val_loss: 2.1178 - val_sparse_categorical_crossentropy: 2.1178 - val_masked_loss: 4.5624 - val_sparse_categorical_accuracy: 0.6722\n",
            "Epoch 9/20\n",
            "702/702 [==============================] - 59s 84ms/step - loss: 1.6797 - sparse_categorical_crossentropy: 1.6798 - masked_loss: 3.5595 - sparse_categorical_accuracy: 0.6832 - val_loss: 2.1400 - val_sparse_categorical_crossentropy: 2.1400 - val_masked_loss: 4.6109 - val_sparse_categorical_accuracy: 0.6691\n",
            "Epoch 10/20\n",
            "702/702 [==============================] - 57s 81ms/step - loss: 1.6349 - sparse_categorical_crossentropy: 1.6349 - masked_loss: 3.4666 - sparse_categorical_accuracy: 0.6882 - val_loss: 2.1549 - val_sparse_categorical_crossentropy: 2.1549 - val_masked_loss: 4.6433 - val_sparse_categorical_accuracy: 0.6693\n",
            "Epoch 11/20\n",
            "702/702 [==============================] - 58s 83ms/step - loss: 1.6142 - sparse_categorical_crossentropy: 1.6143 - masked_loss: 3.4224 - sparse_categorical_accuracy: 0.6906 - val_loss: 2.1822 - val_sparse_categorical_crossentropy: 2.1822 - val_masked_loss: 4.7016 - val_sparse_categorical_accuracy: 0.6672\n",
            "Epoch 12/20\n",
            "702/702 [==============================] - 57s 81ms/step - loss: 1.5890 - sparse_categorical_crossentropy: 1.5891 - masked_loss: 3.3677 - sparse_categorical_accuracy: 0.6931 - val_loss: 2.1851 - val_sparse_categorical_crossentropy: 2.1851 - val_masked_loss: 4.7072 - val_sparse_categorical_accuracy: 0.6657\n",
            "Epoch 13/20\n",
            "702/702 [==============================] - 58s 83ms/step - loss: 1.5972 - sparse_categorical_crossentropy: 1.5973 - masked_loss: 3.3951 - sparse_categorical_accuracy: 0.6915 - val_loss: 2.2146 - val_sparse_categorical_crossentropy: 2.2146 - val_masked_loss: 4.7716 - val_sparse_categorical_accuracy: 0.6628\n",
            "Epoch 14/20\n",
            "702/702 [==============================] - 57s 82ms/step - loss: 1.5559 - sparse_categorical_crossentropy: 1.5560 - masked_loss: 3.2909 - sparse_categorical_accuracy: 0.6976 - val_loss: 2.2296 - val_sparse_categorical_crossentropy: 2.2296 - val_masked_loss: 4.8034 - val_sparse_categorical_accuracy: 0.6661\n",
            "Epoch 15/20\n",
            "702/702 [==============================] - 82s 116ms/step - loss: 1.5137 - sparse_categorical_crossentropy: 1.5138 - masked_loss: 3.2081 - sparse_categorical_accuracy: 0.7032 - val_loss: 2.2623 - val_sparse_categorical_crossentropy: 2.2623 - val_masked_loss: 4.8735 - val_sparse_categorical_accuracy: 0.6668\n",
            "Epoch 16/20\n",
            "702/702 [==============================] - 58s 82ms/step - loss: 1.5718 - sparse_categorical_crossentropy: 1.5719 - masked_loss: 3.3351 - sparse_categorical_accuracy: 0.6948 - val_loss: 2.2657 - val_sparse_categorical_crossentropy: 2.2657 - val_masked_loss: 4.8823 - val_sparse_categorical_accuracy: 0.6666\n",
            "Epoch 17/20\n",
            "702/702 [==============================] - 57s 82ms/step - loss: 1.5476 - sparse_categorical_crossentropy: 1.5477 - masked_loss: 3.2788 - sparse_categorical_accuracy: 0.6991 - val_loss: 2.2662 - val_sparse_categorical_crossentropy: 2.2662 - val_masked_loss: 4.8823 - val_sparse_categorical_accuracy: 0.6661\n",
            "Epoch 18/20\n",
            "702/702 [==============================] - 57s 81ms/step - loss: 1.5177 - sparse_categorical_crossentropy: 1.5178 - masked_loss: 3.2101 - sparse_categorical_accuracy: 0.7026 - val_loss: 2.2910 - val_sparse_categorical_crossentropy: 2.2910 - val_masked_loss: 4.9356 - val_sparse_categorical_accuracy: 0.6649\n",
            "Epoch 19/20\n",
            "702/702 [==============================] - 57s 81ms/step - loss: 1.4943 - sparse_categorical_crossentropy: 1.4943 - masked_loss: 3.1721 - sparse_categorical_accuracy: 0.7057 - val_loss: 2.2853 - val_sparse_categorical_crossentropy: 2.2853 - val_masked_loss: 4.9222 - val_sparse_categorical_accuracy: 0.6604\n",
            "Epoch 20/20\n",
            "702/702 [==============================] - 58s 82ms/step - loss: 1.5344 - sparse_categorical_crossentropy: 1.5344 - masked_loss: 3.2509 - sparse_categorical_accuracy: 0.6981 - val_loss: 2.3031 - val_sparse_categorical_crossentropy: 2.3031 - val_masked_loss: 4.9621 - val_sparse_categorical_accuracy: 0.6609\n"
          ]
        }
      ]
    },
    {
      "cell_type": "code",
      "metadata": {
        "id": "WTry2D6VtRh7",
        "colab": {
          "base_uri": "https://localhost:8080/"
        },
        "outputId": "f1a422bf-7d72-407d-903b-acef6e86978d"
      },
      "source": [
        "for i in range(10):\n",
        "  translation = [tokenizer_en.vocab_size]\n",
        "  for _ in range(40):\n",
        "    predict = base_model.predict([pt_batch[i:i+1],np.asarray([translation])])\n",
        "    translation.append(np.argmax(predict[-1,-1]))\n",
        "    if translation[-1] == tokenizer_en.vocab_size + 1:\n",
        "      break\n",
        "\n",
        "  real_translation = []\n",
        "  for w in en_batch[:,1:][i].numpy():\n",
        "    if w == tokenizer_en.vocab_size + 1:\n",
        "      break\n",
        "    real_translation.append(w)\n",
        "  print(tokenizer_en.decode(real_translation))\n",
        "  print(tokenizer_en.decode(translation[1:-1]))\n",
        "  print(\"\")\n"
      ],
      "execution_count": null,
      "outputs": [
        {
          "output_type": "stream",
          "name": "stdout",
          "text": [
            "1/1 [==============================] - 1s 805ms/step\n",
            "1/1 [==============================] - 1s 573ms/step\n",
            "1/1 [==============================] - 0s 29ms/step\n",
            "1/1 [==============================] - 0s 23ms/step\n",
            "1/1 [==============================] - 0s 25ms/step\n",
            "1/1 [==============================] - 0s 23ms/step\n",
            "1/1 [==============================] - 0s 30ms/step\n",
            "1/1 [==============================] - 0s 26ms/step\n",
            "1/1 [==============================] - 0s 25ms/step\n",
            "1/1 [==============================] - 0s 24ms/step\n",
            "1/1 [==============================] - 0s 25ms/step\n",
            "1/1 [==============================] - 0s 25ms/step\n",
            "did they eat fish and chips ?\n",
            "so what can we do we get to the future ?\n",
            "\n",
            "1/1 [==============================] - 0s 25ms/step\n",
            "1/1 [==============================] - 0s 26ms/step\n",
            "1/1 [==============================] - 0s 23ms/step\n",
            "1/1 [==============================] - 0s 26ms/step\n",
            "1/1 [==============================] - 0s 34ms/step\n",
            "1/1 [==============================] - 0s 27ms/step\n",
            "1/1 [==============================] - 0s 25ms/step\n",
            "1/1 [==============================] - 0s 21ms/step\n",
            "1/1 [==============================] - 0s 24ms/step\n",
            "1/1 [==============================] - 0s 26ms/step\n",
            "1/1 [==============================] - 0s 23ms/step\n",
            "1/1 [==============================] - 0s 29ms/step\n",
            "1/1 [==============================] - 0s 23ms/step\n",
            "1/1 [==============================] - 0s 24ms/step\n",
            "1/1 [==============================] - 0s 24ms/step\n",
            "1/1 [==============================] - 0s 24ms/step\n",
            "1/1 [==============================] - 0s 24ms/step\n",
            "i was always worried about being caught and sent back .\n",
            "and i think of the world warps into a little bit of the system .\n",
            "\n",
            "1/1 [==============================] - 0s 43ms/step\n",
            "1/1 [==============================] - 0s 24ms/step\n",
            "1/1 [==============================] - 0s 24ms/step\n",
            "1/1 [==============================] - 0s 23ms/step\n",
            "1/1 [==============================] - 0s 29ms/step\n",
            "1/1 [==============================] - 0s 25ms/step\n",
            "1/1 [==============================] - 0s 22ms/step\n",
            "1/1 [==============================] - 0s 24ms/step\n",
            "1/1 [==============================] - 0s 26ms/step\n",
            "1/1 [==============================] - 0s 24ms/step\n",
            "1/1 [==============================] - 0s 24ms/step\n",
            "1/1 [==============================] - 0s 23ms/step\n",
            "1/1 [==============================] - 0s 22ms/step\n",
            "1/1 [==============================] - 0s 22ms/step\n",
            "1/1 [==============================] - 0s 24ms/step\n",
            "1/1 [==============================] - 0s 23ms/step\n",
            "1/1 [==============================] - 0s 22ms/step\n",
            "i chose one with the skin color of a lobster when sunburnt .\n",
            "and then the next day , i was also had been a few weeks ago .\n",
            "\n",
            "1/1 [==============================] - 0s 23ms/step\n",
            "1/1 [==============================] - 0s 29ms/step\n",
            "1/1 [==============================] - 0s 23ms/step\n",
            "1/1 [==============================] - 0s 25ms/step\n",
            "1/1 [==============================] - 0s 23ms/step\n",
            "1/1 [==============================] - 0s 24ms/step\n",
            "1/1 [==============================] - 0s 24ms/step\n",
            "1/1 [==============================] - 0s 25ms/step\n",
            "1/1 [==============================] - 0s 27ms/step\n",
            "1/1 [==============================] - 0s 23ms/step\n",
            "but i think this is quite clearly untrue .\n",
            "and that 's the world we are .\n",
            "\n",
            "1/1 [==============================] - 0s 23ms/step\n",
            "1/1 [==============================] - 0s 21ms/step\n",
            "1/1 [==============================] - 0s 22ms/step\n",
            "1/1 [==============================] - 0s 22ms/step\n",
            "1/1 [==============================] - 0s 24ms/step\n",
            "1/1 [==============================] - 0s 23ms/step\n",
            "1/1 [==============================] - 0s 24ms/step\n",
            "1/1 [==============================] - 0s 24ms/step\n",
            "1/1 [==============================] - 0s 28ms/step\n",
            "1/1 [==============================] - 0s 31ms/step\n",
            "1/1 [==============================] - 0s 25ms/step\n",
            "1/1 [==============================] - 0s 24ms/step\n",
            "1/1 [==============================] - 0s 25ms/step\n",
            "1/1 [==============================] - 0s 24ms/step\n",
            "1/1 [==============================] - 0s 24ms/step\n",
            "1/1 [==============================] - 0s 22ms/step\n",
            "1/1 [==============================] - 0s 24ms/step\n",
            "1/1 [==============================] - 0s 30ms/step\n",
            "1/1 [==============================] - 0s 25ms/step\n",
            "1/1 [==============================] - 0s 23ms/step\n",
            "1/1 [==============================] - 0s 23ms/step\n",
            "1/1 [==============================] - 0s 24ms/step\n",
            "1/1 [==============================] - 0s 24ms/step\n",
            "1/1 [==============================] - 0s 24ms/step\n",
            "1/1 [==============================] - 0s 23ms/step\n",
            "we have measured our progress very rigorously .\n",
            "and i think of the world warps into a little bit of the same time i was a lot of the world .\n",
            "\n",
            "1/1 [==============================] - 0s 25ms/step\n",
            "1/1 [==============================] - 0s 23ms/step\n",
            "1/1 [==============================] - 0s 22ms/step\n",
            "1/1 [==============================] - 0s 22ms/step\n",
            "1/1 [==============================] - 0s 22ms/step\n",
            "1/1 [==============================] - 0s 22ms/step\n",
            "1/1 [==============================] - 0s 22ms/step\n",
            "1/1 [==============================] - 0s 21ms/step\n",
            "1/1 [==============================] - 0s 21ms/step\n",
            "1/1 [==============================] - 0s 23ms/step\n",
            "1/1 [==============================] - 0s 25ms/step\n",
            "1/1 [==============================] - 0s 23ms/step\n",
            "1/1 [==============================] - 0s 25ms/step\n",
            "1/1 [==============================] - 0s 22ms/step\n",
            "1/1 [==============================] - 0s 22ms/step\n",
            "1/1 [==============================] - 0s 22ms/step\n",
            "1/1 [==============================] - 0s 23ms/step\n",
            "1/1 [==============================] - 0s 24ms/step\n",
            "1/1 [==============================] - 0s 27ms/step\n",
            "1/1 [==============================] - 0s 26ms/step\n",
            "1/1 [==============================] - 0s 25ms/step\n",
            "1/1 [==============================] - 0s 24ms/step\n",
            "1/1 [==============================] - 0s 24ms/step\n",
            "1/1 [==============================] - 0s 22ms/step\n",
            "and from what i feel , it 's a cure for me , but for us all .\n",
            "and i do n't have n't have to do n't have no one of the internet .\n",
            "\n",
            "1/1 [==============================] - 0s 23ms/step\n",
            "1/1 [==============================] - 0s 23ms/step\n",
            "1/1 [==============================] - 0s 28ms/step\n",
            "1/1 [==============================] - 0s 25ms/step\n",
            "1/1 [==============================] - 0s 24ms/step\n",
            "1/1 [==============================] - 0s 24ms/step\n",
            "1/1 [==============================] - 0s 22ms/step\n",
            "1/1 [==============================] - 0s 22ms/step\n",
            "1/1 [==============================] - 0s 23ms/step\n",
            "1/1 [==============================] - 0s 23ms/step\n",
            "1/1 [==============================] - 0s 24ms/step\n",
            "1/1 [==============================] - 0s 22ms/step\n",
            "1/1 [==============================] - 0s 23ms/step\n",
            "1/1 [==============================] - 0s 23ms/step\n",
            "1/1 [==============================] - 0s 21ms/step\n",
            "1/1 [==============================] - 0s 28ms/step\n",
            "1/1 [==============================] - 0s 25ms/step\n",
            "1/1 [==============================] - 0s 23ms/step\n",
            "1/1 [==============================] - 0s 24ms/step\n",
            "1/1 [==============================] - 0s 23ms/step\n",
            "1/1 [==============================] - 0s 25ms/step\n",
            "it 's a work in progress from a personal story to a global history .\n",
            "and the first is a great example of the most powerful and the other is a little larger multiverse .\n",
            "\n",
            "1/1 [==============================] - 0s 22ms/step\n",
            "1/1 [==============================] - 0s 26ms/step\n",
            "1/1 [==============================] - 0s 25ms/step\n",
            "1/1 [==============================] - 0s 22ms/step\n",
            "1/1 [==============================] - 0s 23ms/step\n",
            "1/1 [==============================] - 0s 22ms/step\n",
            "1/1 [==============================] - 0s 25ms/step\n",
            "1/1 [==============================] - 0s 22ms/step\n",
            "1/1 [==============================] - 0s 25ms/step\n",
            "1/1 [==============================] - 0s 25ms/step\n",
            "1/1 [==============================] - 0s 22ms/step\n",
            "1/1 [==============================] - 0s 23ms/step\n",
            "1/1 [==============================] - 0s 24ms/step\n",
            "1/1 [==============================] - 0s 23ms/step\n",
            "1/1 [==============================] - 0s 25ms/step\n",
            "1/1 [==============================] - 0s 25ms/step\n",
            "1/1 [==============================] - 0s 26ms/step\n",
            "1/1 [==============================] - 0s 24ms/step\n",
            "1/1 [==============================] - 0s 27ms/step\n",
            "1/1 [==============================] - 0s 24ms/step\n",
            "i mean , it 's just a losing proposition .\n",
            "i think of the surface of the world warps and it is a lot of the mind .\n",
            "\n",
            "1/1 [==============================] - 0s 22ms/step\n",
            "1/1 [==============================] - 0s 23ms/step\n",
            "1/1 [==============================] - 0s 26ms/step\n",
            "1/1 [==============================] - 0s 36ms/step\n",
            "1/1 [==============================] - 0s 39ms/step\n",
            "1/1 [==============================] - 0s 41ms/step\n",
            "1/1 [==============================] - 0s 35ms/step\n",
            "1/1 [==============================] - 0s 35ms/step\n",
            "1/1 [==============================] - 0s 35ms/step\n",
            "1/1 [==============================] - 0s 38ms/step\n",
            "1/1 [==============================] - 0s 34ms/step\n",
            "1/1 [==============================] - 0s 34ms/step\n",
            "1/1 [==============================] - 0s 37ms/step\n",
            "1/1 [==============================] - 0s 32ms/step\n",
            "1/1 [==============================] - 0s 32ms/step\n",
            "1/1 [==============================] - 0s 35ms/step\n",
            "1/1 [==============================] - 0s 38ms/step\n",
            "1/1 [==============================] - 0s 33ms/step\n",
            "1/1 [==============================] - 0s 37ms/step\n",
            "1/1 [==============================] - 0s 32ms/step\n",
            "1/1 [==============================] - 0s 33ms/step\n",
            "so , how do we have these conversations more easily and more often ?\n",
            "and the first is a great example of the most powerful and the other is a little larger multiverse .\n",
            "\n",
            "1/1 [==============================] - 0s 40ms/step\n",
            "1/1 [==============================] - 0s 38ms/step\n",
            "1/1 [==============================] - 0s 34ms/step\n",
            "1/1 [==============================] - 0s 36ms/step\n",
            "1/1 [==============================] - 0s 37ms/step\n",
            "1/1 [==============================] - 0s 40ms/step\n",
            "1/1 [==============================] - 0s 42ms/step\n",
            "1/1 [==============================] - 0s 42ms/step\n",
            "1/1 [==============================] - 0s 40ms/step\n",
            "1/1 [==============================] - 0s 30ms/step\n",
            "1/1 [==============================] - 0s 24ms/step\n",
            "and issue rogue certificates .\n",
            "and then we were victims of the french .\n",
            "\n"
          ]
        }
      ]
    },
    {
      "cell_type": "code",
      "metadata": {
        "id": "FI1hJAizzM7e",
        "colab": {
          "base_uri": "https://localhost:8080/"
        },
        "outputId": "8fd95b6e-7401-4802-a73d-f075b3a9a6ca"
      },
      "source": [
        "print(tf.__version__)"
      ],
      "execution_count": null,
      "outputs": [
        {
          "output_type": "stream",
          "name": "stdout",
          "text": [
            "2.12.0\n"
          ]
        }
      ]
    }
  ]
}